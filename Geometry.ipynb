{
 "cells": [
  {
   "cell_type": "code",
   "execution_count": null,
   "metadata": {},
   "outputs": [],
   "source": [
    "# 직사각형\n",
    " \n",
    "a = int(input())\n",
    "b = int(input())\n",
    "\n",
    "print(a*b)"
   ]
  },
  {
   "cell_type": "code",
   "execution_count": 6,
   "metadata": {},
   "outputs": [
    {
     "name": "stdout",
     "output_type": "stream",
     "text": [
      "601 161 194 181\n",
      "161\n"
     ]
    }
   ],
   "source": [
    "# 직사각형에서 탈출\n",
    "\n",
    "x, y, w, h = map(int, input().split())\n",
    "\n",
    "a = abs(w - x)\n",
    "c = abs(h - y)\n",
    "ans = 1001\n",
    "\n",
    "ans = min(x,y,a,c,ans)\n",
    "\n",
    "print(ans)\n",
    "    "
   ]
  },
  {
   "cell_type": "code",
   "execution_count": 4,
   "metadata": {},
   "outputs": [
    {
     "name": "stdout",
     "output_type": "stream",
     "text": [
      "[5, 5, 7]\n",
      "[5, 7, 5]\n",
      "7 7\n"
     ]
    }
   ],
   "source": [
    "# 네번째 점\n",
    "\n",
    "# 같은 x, y가 두개씩 나와야 축에 평행한 변을가진 사각형이 된다\n",
    "\n",
    "xlst =[]\n",
    "ylst =[]\n",
    "for i in range(3):\n",
    "    x, y = map(int, input().split())\n",
    "    xlst.append(x)\n",
    "    ylst.append(y)\n",
    "    \n",
    "    \n",
    "# print(xlst)\n",
    "# print(ylst)\n",
    "x=0\n",
    "y=0\n",
    "for i in range(len(xlst)):\n",
    "    if xlst.count(xlst[i]) == 1:\n",
    "        x = xlst[i]\n",
    "    if ylst.count(ylst[i]) == 1:\n",
    "        y = ylst[i]\n",
    "    \n",
    "print(x,y)\n",
    "    "
   ]
  },
  {
   "cell_type": "code",
   "execution_count": 7,
   "metadata": {},
   "outputs": [
    {
     "name": "stdout",
     "output_type": "stream",
     "text": [
      "12\n"
     ]
    }
   ],
   "source": [
    "# 수학은 체육과목입니다\n",
    "\n",
    "n = int(input())\n",
    "\n",
    "print(n*4)"
   ]
  },
  {
   "cell_type": "code",
   "execution_count": null,
   "metadata": {},
   "outputs": [],
   "source": []
  }
 ],
 "metadata": {
  "kernelspec": {
   "display_name": "Python 3",
   "language": "python",
   "name": "python3"
  },
  "language_info": {
   "codemirror_mode": {
    "name": "ipython",
    "version": 3
   },
   "file_extension": ".py",
   "mimetype": "text/x-python",
   "name": "python",
   "nbconvert_exporter": "python",
   "pygments_lexer": "ipython3",
   "version": "3.11.5"
  }
 },
 "nbformat": 4,
 "nbformat_minor": 2
}
