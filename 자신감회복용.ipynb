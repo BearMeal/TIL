{
 "cells": [
  {
   "cell_type": "markdown",
   "metadata": {},
   "source": [
    "# 자신감 회복용, 쉬운 문제만 풀 것이다 "
   ]
  },
  {
   "cell_type": "code",
   "execution_count": null,
   "metadata": {},
   "outputs": [],
   "source": [
    "# 킹, 퀸, 룩, 비숍, 나이트, 폰 \n",
    "# 킹 1개, 퀸 1개, 룩 2개, 비숍 2개, 나이트 2개, 폰 8개\n",
    "\n",
    "nlist = list(map(int, input().split()))\n",
    "\n",
    "check_lst = [1, 1, 2, 2, 2, 8]\n",
    "\n",
    "ans = [0]*6\n",
    "for i in range(6):\n",
    "    ans[i] = check_lst[i] - nlist[i]\n",
    "\n",
    "print(*ans)\n"
   ]
  },
  {
   "cell_type": "code",
   "execution_count": null,
   "metadata": {},
   "outputs": [],
   "source": [
    "# 별 찍기 - 7\n",
    "# n번째줄에서 별이 최대\n",
    "n = int(input())\n",
    "space = ' '\n",
    "star = '*'\n",
    "turn = n-1\n",
    "for i in range(1, 2*n):\n",
    "    if i == 1:\n",
    "        print((space*(n-i)) + (star*(i)))\n",
    "    elif i<=n:\n",
    "        print((space*(n-i)) + (star*(i)) + star*(i-1))\n",
    "    else:\n",
    "        print((space*(i-n)) + (star*(turn)) + star*(turn-1))\n",
    "        turn -= 1\n"
   ]
  },
  {
   "cell_type": "code",
   "execution_count": 75,
   "metadata": {},
   "outputs": [
    {
     "name": "stdout",
     "output_type": "stream",
     "text": [
      "0\n"
     ]
    }
   ],
   "source": [
    "# 팰린드롬인지 확인하기\n",
    "# 앞뒤가 같 똑같은 단어\n",
    "\n",
    "word = input()\n",
    "rev_word = word[::-1]\n",
    "ans = 1\n",
    "for i in range(len(word)//2):\n",
    "    # print(word[i],rev_word[i])\n",
    "    if word[i] != rev_word[i]:\n",
    "        ans = 0\n",
    "        break\n",
    "print(ans)\n"
   ]
  },
  {
   "cell_type": "code",
   "execution_count": 28,
   "metadata": {},
   "outputs": [
    {
     "name": "stdout",
     "output_type": "stream",
     "text": [
      "?\n"
     ]
    }
   ],
   "source": [
    "# 단어 공부\n",
    "# 대소문자 구분않고 가장 많이 쓰인 문자대문자 출력\n",
    "# 아니면 ?표 출력\n",
    "\n",
    "strs = input()\n",
    "cnt = [0] * 30\n",
    "\n",
    "for i in strs:\n",
    "    cnt[ord(i.lower())-97] += 1\n",
    "\n",
    "# print(cnt)\n",
    "maxcnt = 0\n",
    "ans = ''\n",
    "\n",
    "for i in range(len(cnt)):\n",
    "    if cnt[i] > maxcnt:\n",
    "        maxcnt = cnt[i]\n",
    "        ans = i\n",
    "\n",
    "same = 0\n",
    "for i in cnt:\n",
    "    if i == maxcnt:\n",
    "        same += 1\n",
    "\n",
    "if same > 1:\n",
    "    print('?')\n",
    "else:\n",
    "    print(chr(ans+97).upper())\n"
   ]
  },
  {
   "cell_type": "code",
   "execution_count": 15,
   "metadata": {},
   "outputs": [
    {
     "name": "stdout",
     "output_type": "stream",
     "text": [
      "0\n",
      "2\n",
      "5\n",
      "종료 5\n",
      "2\n"
     ]
    }
   ],
   "source": [
    "# 크로아티아 알파벳\n",
    "# ljes=njak\n",
    "strs = input()\n",
    "ans = []\n",
    "strs2 = ['c=','c-', 'd-', 'lj', 'nj', 's=', 'z=']\n",
    "strs3 = ['dz=']\n",
    "\n",
    "cnt = 0\n",
    "i = 0\n",
    "while True:\n",
    "    # print(i)\n",
    "    if i >= len(strs):\n",
    "        # print('종료',i)\n",
    "        break\n",
    "    if strs[i:i+2] in strs2:\n",
    "        cnt += 1\n",
    "        i += 2\n",
    "        continue\n",
    "    if strs[i:i+3] in strs3:\n",
    "        cnt += 1\n",
    "        i += 3\n",
    "    else:\n",
    "        cnt += 1\n",
    "        i += 1\n",
    "    \n",
    "        \n",
    "print(cnt)\n",
    "# z=dz="
   ]
  },
  {
   "cell_type": "code",
   "execution_count": 22,
   "metadata": {},
   "outputs": [
    {
     "name": "stdout",
     "output_type": "stream",
     "text": [
      "1\n"
     ]
    }
   ],
   "source": [
    "# 그룹 단어 체커\n",
    "\n",
    "n = int(input())\n",
    "words = [input() for _ in range(n)]\n",
    "\n",
    "# n = 3\n",
    "# words = ['happy',\n",
    "# 'new',\n",
    "# 'year', ]\n",
    "# words = ['aba',\n",
    "# 'abab',\n",
    "# 'abcabc',\n",
    "# 'a',]\n",
    "\n",
    "\n",
    "cnt = 0\n",
    "for i in words:\n",
    "    ex_lst = []\n",
    "    ex = ''\n",
    "    for j in i:\n",
    "        if j == ex and j in ex_lst:\n",
    "            ex_lst.append(j)\n",
    "            ex = j\n",
    "        elif ex != j and j not in ex_lst:\n",
    "            ex_lst.append(j)\n",
    "            ex = j\n",
    "        elif ex != j and j in ex_lst:\n",
    "            break\n",
    "    if len(ex_lst) == len(i):\n",
    "        cnt += 1\n",
    "        \n",
    "print(cnt)\n",
    "                        \n"
   ]
  },
  {
   "cell_type": "code",
   "execution_count": 3,
   "metadata": {},
   "outputs": [
    {
     "name": "stdout",
     "output_type": "stream",
     "text": [
      "3.284483\n"
     ]
    }
   ],
   "source": [
    "# 너의 평점은\n",
    "# 전공 평점 = (시그마 학점x과목평점)/ 학점의 총합\n",
    "\n",
    "total_credit = 0\n",
    "total_scorexcredit = 0\n",
    "\n",
    "credits = [['A+', 4.5],['A0', 4],['B+', 3.5],['B0', 3],\n",
    "           ['C+', 2.5],['C0', 2],['D+', 1.5],['D0', 1],\n",
    "           ['F', 0]]\n",
    "\n",
    "for i in range(20):\n",
    "    name, credit, score = map(str, input().split())\n",
    "    \n",
    "    if score == 'P':\n",
    "        continue\n",
    "    \n",
    "    for j in credits:\n",
    "        if j[0] == score:\n",
    "            total_scorexcredit += (float(credit) * float(j[1]))\n",
    "            total_credit += float(credit)\n",
    "            break\n",
    "        \n",
    "print(f'{(total_scorexcredit/total_credit):.6f}')\n",
    "    \n"
   ]
  },
  {
   "cell_type": "code",
   "execution_count": 5,
   "metadata": {},
   "outputs": [],
   "source": [
    "# 행렬덧셈\n",
    "\n",
    "n, m = map(int, input().split())\n",
    "\n",
    "a = [ list(map(int, input().split())) for _ in range(n)]\n",
    "b = [ list(map(int, input().split())) for _ in range(n)]\n",
    "\n",
    "c = [[0]*m for _ in range(n)]\n",
    "\n",
    "for i in range(n):\n",
    "    for j in range(m):\n",
    "        c[i][j] = a[i][j] + b[i][j]\n",
    "        \n",
    "for i in c:\n",
    "    print(' '.join(map(str, i)))"
   ]
  },
  {
   "cell_type": "code",
   "execution_count": null,
   "metadata": {},
   "outputs": [],
   "source": [
    "# 최댓값\n",
    "\n",
    "nlist = [list(map(int, input().split())) for _ in range(9)]\n",
    "\n",
    "ans = -1\n",
    "location = [ 0, 0 ]\n",
    "\n",
    "for i in range(9):\n",
    "    for j in range(9):\n",
    "        if nlist[i][j] >= ans:\n",
    "            ans = nlist[i][j]\n",
    "            location[0] = i + 1 \n",
    "            location[1] = j + 1 \n",
    "print(ans)\n",
    "print(location[0], location[1])"
   ]
  },
  {
   "cell_type": "code",
   "execution_count": 5,
   "metadata": {},
   "outputs": [
    {
     "name": "stdout",
     "output_type": "stream",
     "text": [
      "00000 11111 22222 33333 44444          \n"
     ]
    }
   ],
   "source": [
    "# 세로읽기\n",
    "\n",
    "ans = ['']*15\n",
    "\n",
    "for i in range(5):\n",
    "    words = input()\n",
    "    for j in range(len(words)):\n",
    "        ans[j] += words[j]\n",
    "        \n",
    "print(''.join(map(str, ans)))\n"
   ]
  },
  {
   "cell_type": "code",
   "execution_count": 21,
   "metadata": {},
   "outputs": [
    {
     "name": "stdout",
     "output_type": "stream",
     "text": [
      "260\n"
     ]
    }
   ],
   "source": [
    "# 색종이\n",
    "\n",
    "n = int(input())\n",
    "paper = [ [0]*100 for _ in range(100)]\n",
    "size = 0\n",
    "for i in range(n):\n",
    "    x1, y1 = map(int, input().split())\n",
    "    x2, y2 = x1+9, y1+9\n",
    "    for j in range(y1, y1+10):\n",
    "        for k in range(x1, x1+10):\n",
    "            if paper[j][k] == 0 : \n",
    "                paper[j][k] = 1\n",
    "                size += 1            \n",
    "                    \n",
    "print(size)"
   ]
  }
 ],
 "metadata": {
  "kernelspec": {
   "display_name": "Python 3",
   "language": "python",
   "name": "python3"
  },
  "language_info": {
   "codemirror_mode": {
    "name": "ipython",
    "version": 3
   },
   "file_extension": ".py",
   "mimetype": "text/x-python",
   "name": "python",
   "nbconvert_exporter": "python",
   "pygments_lexer": "ipython3",
   "version": "3.11.5"
  }
 },
 "nbformat": 4,
 "nbformat_minor": 2
}
