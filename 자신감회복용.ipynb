{
 "cells": [
  {
   "cell_type": "markdown",
   "metadata": {},
   "source": [
    "# 자신감 회복용, 쉬운 문제만 풀 것이다 "
   ]
  },
  {
   "cell_type": "code",
   "execution_count": null,
   "metadata": {},
   "outputs": [],
   "source": [
    "# 킹, 퀸, 룩, 비숍, 나이트, 폰 \n",
    "# 킹 1개, 퀸 1개, 룩 2개, 비숍 2개, 나이트 2개, 폰 8개\n",
    "\n",
    "nlist = list(map(int, input().split()))\n",
    "\n",
    "check_lst = [1, 1, 2, 2, 2, 8]\n",
    "\n",
    "ans = [0]*6\n",
    "for i in range(6):\n",
    "    ans[i] = check_lst[i] - nlist[i]\n",
    "\n",
    "print(*ans)\n"
   ]
  },
  {
   "cell_type": "code",
   "execution_count": null,
   "metadata": {},
   "outputs": [],
   "source": [
    "# 별 찍기 - 7\n",
    "# n번째줄에서 별이 최대\n",
    "n = int(input())\n",
    "space = ' '\n",
    "star = '*'\n",
    "turn = n-1\n",
    "for i in range(1, 2*n):\n",
    "    if i == 1:\n",
    "        print((space*(n-i)) + (star*(i)))\n",
    "    elif i<=n:\n",
    "        print((space*(n-i)) + (star*(i)) + star*(i-1))\n",
    "    else:\n",
    "        print((space*(i-n)) + (star*(turn)) + star*(turn-1))\n",
    "        turn -= 1\n"
   ]
  },
  {
   "cell_type": "code",
   "execution_count": 75,
   "metadata": {},
   "outputs": [
    {
     "name": "stdout",
     "output_type": "stream",
     "text": [
      "0\n"
     ]
    }
   ],
   "source": [
    "# 팰린드롬인지 확인하기\n",
    "# 앞뒤가 같 똑같은 단어\n",
    "\n",
    "word = input()\n",
    "rev_word = word[::-1]\n",
    "ans = 1\n",
    "for i in range(len(word)//2):\n",
    "    # print(word[i],rev_word[i])\n",
    "    if word[i] != rev_word[i]:\n",
    "        ans = 0\n",
    "        break\n",
    "print(ans)\n"
   ]
  }
 ],
 "metadata": {
  "kernelspec": {
   "display_name": "Python 3",
   "language": "python",
   "name": "python3"
  },
  "language_info": {
   "codemirror_mode": {
    "name": "ipython",
    "version": 3
   },
   "file_extension": ".py",
   "mimetype": "text/x-python",
   "name": "python",
   "nbconvert_exporter": "python",
   "pygments_lexer": "ipython3",
   "version": "3.10.11"
  }
 },
 "nbformat": 4,
 "nbformat_minor": 2
}
