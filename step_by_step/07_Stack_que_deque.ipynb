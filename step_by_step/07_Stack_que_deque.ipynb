{
 "cells": [
  {
   "cell_type": "code",
   "execution_count": 5,
   "metadata": {},
   "outputs": [
    {
     "name": "stdout",
     "output_type": "stream",
     "text": [
      "1\n",
      "2\n",
      "5\n",
      "3\n",
      "3\n",
      "-1\n",
      "-1\n"
     ]
    }
   ],
   "source": [
    "# 스택2\n",
    "import sys\n",
    "# input = sys.stdin.readline\n",
    "\n",
    "n = int(input())\n",
    "\n",
    "nlist = [list(map(int,input().split())) for _ in range(n)]\n",
    "\n",
    "stack = []\n",
    "for i in nlist:\n",
    "    if i[0]  == 1:\n",
    "        stack.append(i[1])\n",
    "    elif i[0] == 2:\n",
    "        if stack:\n",
    "            print(stack.pop())\n",
    "        else:\n",
    "            print(-1)\n",
    "    elif i[0] == 3:\n",
    "        print(len(stack))\n",
    "    elif i[0] == 4:\n",
    "        if stack:\n",
    "            print(0)\n",
    "        else:\n",
    "            print(1)\n",
    "    elif i[0] == 5:\n",
    "        if stack:\n",
    "            print(stack[-1])\n",
    "        else:\n",
    "            print(-1)"
   ]
  },
  {
   "cell_type": "code",
   "execution_count": 8,
   "metadata": {},
   "outputs": [
    {
     "name": "stdout",
     "output_type": "stream",
     "text": [
      "0\n"
     ]
    }
   ],
   "source": [
    "# 제로\n",
    "import sys\n",
    "# input = sys.stdin.readline\n",
    "\n",
    "k = int(input())\n",
    "\n",
    "stack = []\n",
    "for _ in range(k):\n",
    "    i = int(input())\n",
    "    if i != 0:\n",
    "        stack.append(i)\n",
    "    else:\n",
    "        stack.pop()\n",
    "print(sum(stack))"
   ]
  },
  {
   "cell_type": "code",
   "execution_count": 31,
   "metadata": {},
   "outputs": [
    {
     "name": "stdout",
     "output_type": "stream",
     "text": [
      "(\n",
      "(\n",
      "YES\n"
     ]
    }
   ],
   "source": [
    "# 괄호\n",
    "# 괄호 짝이 맞는지 아닌지 출력\n",
    "import sys\n",
    "# input = sys.stdin.readline\n",
    "\n",
    "t = int(input())\n",
    "\n",
    "for _ in range(t):\n",
    "    ps = list(input())\n",
    "    stack = []\n",
    "    is_vps = True\n",
    "    for i in ps:\n",
    "        if i == '(':\n",
    "            stack.append(i)\n",
    "        elif i == ')':\n",
    "            if len(stack) == 0:\n",
    "                is_vps = False\n",
    "                break\n",
    "            else:\n",
    "                stack.pop()\n",
    "    if is_vps == True and len(stack) == 0:\n",
    "        print('YES')\n",
    "    else:\n",
    "        print('NO')\n",
    "        "
   ]
  },
  {
   "cell_type": "code",
   "execution_count": 48,
   "metadata": {},
   "outputs": [
    {
     "name": "stdout",
     "output_type": "stream",
     "text": [
      "[' ', ' ', '.']\n",
      "yes\n",
      "['(', '(', ' ', ')', ' ']\n",
      "no\n",
      "[]\n",
      "yes\n",
      "['.']\n"
     ]
    }
   ],
   "source": [
    "# 균형잡힌 세상\n",
    "import sys\n",
    "# input = sys.stdin.readline\n",
    "\n",
    "while True:\n",
    "    line = list(input().rstrip())\n",
    "    # print(line)\n",
    "    if len(line) == 1 and line[0] =='.':\n",
    "        break\n",
    "\n",
    "    stack = []\n",
    "    is_vps = 1\n",
    "    for i in line:\n",
    "        if i == '(' or i =='[':\n",
    "            stack.append(i)\n",
    "        elif i == ')' or i == ']':\n",
    "            if len(stack) == 0:\n",
    "                is_vps = 0\n",
    "                break\n",
    "            elif i == ')' and stack[-1] == '(':\n",
    "                stack.pop()\n",
    "            elif i == ']' and stack[-1] == '[':\n",
    "                stack.pop()\n",
    "            else:\n",
    "                is_vps = 0\n",
    "                break\n",
    "            \n",
    "    if is_vps == 1 and len(stack) == 0:\n",
    "        print('yes')\n",
    "    else:\n",
    "        print('no')\n",
    "            \n",
    "        \n",
    "    "
   ]
  },
  {
   "cell_type": "code",
   "execution_count": 56,
   "metadata": {},
   "outputs": [
    {
     "name": "stdout",
     "output_type": "stream",
     "text": [
      "[] 0\n",
      "[5] 0\n",
      "[5, 4] 0\n",
      "[5, 4] 1\n",
      "[5, 4, 3] 1\n",
      "5\n"
     ]
    }
   ],
   "source": [
    "# 도키도키 간식드리미\n",
    "import sys\n",
    "# input = sys.stdin.readline\n",
    "n = int(input())\n",
    "\n",
    "nlist = list(map(int, input().split()))\n",
    "\n",
    "stack = []\n",
    "ex = 0\n",
    "for i in nlist:\n",
    "    # print(stack, ex)\n",
    "    if i == (ex+1):\n",
    "        ex = i\n",
    "        while len(stack)!=0:\n",
    "            if stack[-1] == (ex+1):\n",
    "                ex = stack[-1]\n",
    "                stack.pop()\n",
    "            else:\n",
    "                break\n",
    "        continue\n",
    "    else:\n",
    "        stack.append(i)\n",
    "\n",
    "if ex == n:\n",
    "    print('Nice')\n",
    "else:\n",
    "    print('Sad')\n",
    "    "
   ]
  },
  {
   "cell_type": "code",
   "execution_count": 61,
   "metadata": {},
   "outputs": [
    {
     "name": "stdout",
     "output_type": "stream",
     "text": [
      "[['push', '2'], ['front']]\n"
     ]
    }
   ],
   "source": [
    "# 큐2\n",
    "from collections import deque\n",
    "import sys\n",
    "input = sys.stdin.readline\n",
    "\n",
    "n = int(input())\n",
    "# nlist = [input().rstrip().split() for _ in range(n)]\n",
    "\n",
    "q = deque([])\n",
    "for _ in range(n):\n",
    "    i = input().rstrip().split()\n",
    "    if i[0] == 'push':\n",
    "        q.append(int(i[1]))\n",
    "    elif i[0] == 'pop':\n",
    "        if len(q) ==0:\n",
    "            print(-1)\n",
    "        else:\n",
    "            print(q.popleft())\n",
    "    elif i[0] == 'size':\n",
    "        print(len(q))\n",
    "    elif i[0] == 'empty':\n",
    "        if len(q) ==0:\n",
    "            print(1)\n",
    "        else:\n",
    "            print(0)\n",
    "    elif i[0] == 'front':\n",
    "        if len(q) ==0:\n",
    "            print(-1)\n",
    "        else:\n",
    "            print(q[0])\n",
    "    elif i[0] == 'back':\n",
    "        if len(q) ==0:\n",
    "            print(-1)\n",
    "        else:\n",
    "            print(q[-1])"
   ]
  },
  {
   "cell_type": "code",
   "execution_count": 4,
   "metadata": {},
   "outputs": [
    {
     "name": "stdout",
     "output_type": "stream",
     "text": [
      "deque([1, 2, 3, 4, 5, 6])\n",
      "4\n"
     ]
    }
   ],
   "source": [
    "# 카드2\n",
    "from collections import deque\n",
    "\n",
    "n = int(input())\n",
    "\n",
    "q = deque( [i for i in range(1, n+1)])\n",
    "# print(q)\n",
    "\n",
    "while True:\n",
    "    if len(q) == 1:\n",
    "        print(q[0])\n",
    "        break\n",
    "    q.popleft()\n",
    "    q.append(q.popleft())\n",
    "    \n",
    "    "
   ]
  },
  {
   "cell_type": "code",
   "execution_count": 21,
   "metadata": {},
   "outputs": [
    {
     "name": "stdout",
     "output_type": "stream",
     "text": [
      "<3, 6, 2, 7, 5, 1, 4>\n"
     ]
    }
   ],
   "source": [
    "# 요세푸스 문제0\n",
    "from collections import deque\n",
    "\n",
    "n,k = map(int, input().split())\n",
    "\n",
    "q = deque([i for i in range(1, n+1)])\n",
    "\n",
    "cnt = 1\n",
    "ans = '<'\n",
    "while True:\n",
    "    # print(q)\n",
    "    if len(q) == 1:\n",
    "        ans +=( str(q.popleft()) + '>')\n",
    "        break\n",
    "    if cnt == k:\n",
    "        ans += (str(q.popleft()) + ', ')\n",
    "        cnt =1\n",
    "        continue\n",
    "    q.append(q.popleft())\n",
    "    cnt +=1\n",
    "    \n",
    "print(ans)"
   ]
  },
  {
   "cell_type": "code",
   "execution_count": null,
   "metadata": {},
   "outputs": [],
   "source": [
    "# 덱2\n",
    "from collections import deque \n",
    "import sys\n",
    "# input = sys.stdin.readline\n",
    "\n",
    "n = int(input())\n",
    "\n",
    "q = deque([])\n",
    "\n",
    "for _ in range(n):\n",
    "    a = list(map(int, input().rstrip().split()))\n",
    "    if a[0] == 1:\n",
    "        q.appendleft(a[1])\n",
    "    elif a[0] == 2:\n",
    "        q.append(a[1])\n",
    "    elif a[0] == 3:\n",
    "        if len(q) == 0:\n",
    "            print(-1)\n",
    "        else:\n",
    "            print(q.popleft())\n",
    "    elif a[0] == 4:\n",
    "        if len(q)==0:\n",
    "            print(-1)\n",
    "        else:\n",
    "            print(q.pop())\n",
    "    elif a[0] == 5:\n",
    "        print(len(q))\n",
    "    elif a[0] == 6:\n",
    "        if len(q) == 0:\n",
    "            print(1)\n",
    "        else:\n",
    "            print(0)\n",
    "    elif a[0] == 7:\n",
    "        if len(q) == 0:\n",
    "            print(-1)\n",
    "        else:\n",
    "            print(q[0])\n",
    "    elif a[0] == 8:\n",
    "        if len(q) ==0:\n",
    "            print(-1)\n",
    "        else:\n",
    "            print(q[-1])\n",
    "        "
   ]
  },
  {
   "cell_type": "code",
   "execution_count": 80,
   "metadata": {},
   "outputs": [
    {
     "name": "stdout",
     "output_type": "stream",
     "text": [
      "1 4 2 5\n"
     ]
    }
   ],
   "source": [
    "# 풍선 터트리기\n",
    "from collections import deque\n",
    "import sys\n",
    "# input = sys.stdin.readline\n",
    "\n",
    "n = int(input())\n",
    "nlist = list(map(int, input().rstrip().split()))\n",
    "q = deque([[i+1, v] for i, v in enumerate(nlist)])\n",
    "# print(q)\n",
    "\n",
    "ans = []\n",
    "while True:\n",
    "    if len(q) ==1:\n",
    "        k = q.popleft()\n",
    "        ans.append(k[0])\n",
    "        break\n",
    "    k = q.popleft()\n",
    "    ans.append(k[0])\n",
    "    \n",
    "    if k[1] > 0:\n",
    "        for _ in range(k[1]-1):\n",
    "            q.append(q.popleft())\n",
    "    elif k[1] < 0:\n",
    "        for _ in range(abs(k[1])):\n",
    "            q.appendleft(q.pop())\n",
    "            \n",
    "print(' '.join(map(str, ans)))\n",
    "        \n"
   ]
  },
  {
   "cell_type": "code",
   "execution_count": 7,
   "metadata": {},
   "outputs": [
    {
     "name": "stdout",
     "output_type": "stream",
     "text": [
      "deque([4, 1])\n",
      "4 1 2\n"
     ]
    }
   ],
   "source": [
    "# queuestack\n",
    "from collections import deque\n",
    "import sys\n",
    "input = sys.stdin.readline\n",
    "\n",
    "n = int(input())\n",
    "a = list(map(int, input().split()))  #자료구조 종류 큐0, 스택1\n",
    "b = list(map(int, input().split()))  #자료구조안의 원소\n",
    "m = int(input())\n",
    "c = list(map(int, input().split()))\n",
    "\n",
    "\n",
    "# 시간 초과가 나는 방법\n",
    "# qs = []\n",
    "# for i in range(len(a)):\n",
    "#     if a[i] ==0:\n",
    "#         qs.append(deque([b[i]]))\n",
    "#     elif a[i] ==1:\n",
    "#         qs.append([b[i]])\n",
    "        \n",
    "# ans = []\n",
    "# for i in range(m):\n",
    "#     now = 0\n",
    "#     temp = c[i]\n",
    "#     while True:\n",
    "#         # print(qs)\n",
    "#         if now == 4:\n",
    "#             break\n",
    "#         qs[now].append(temp)\n",
    "        \n",
    "#         if a[now] == 0:  # ㅠㅋ\n",
    "#             temp = qs[now].popleft()\n",
    "#         elif a[now] ==1: #스택\n",
    "#             temp = qs[now].pop()\n",
    "#         now += 1\n",
    "#     # print(qs)\n",
    "#     ans.append(temp)\n",
    "                        \n",
    "# print(' '.join(map(str, ans)))\n",
    "\n",
    "\n",
    "# 특성을 생각해보면 스택은 그대로 내뱉고, 큐는 모두 하나의 뒤집어진큐인듯 행동한다는 것이다\n",
    "\n",
    "qs = deque([])\n",
    "for i in range(len(a)):\n",
    "    if a[i] == 0: #큐\n",
    "        qs.appendleft(b[i])\n",
    "    else: # 스택 \n",
    "        continue\n",
    "# print(qs)\n",
    "\n",
    "ans = []\n",
    "for i in range(m):\n",
    "    qs.append(c[i])\n",
    "    ans.append(qs.popleft())\n",
    "\n",
    "print(' '.join(map(str, ans)))\n",
    "    \n"
   ]
  }
 ],
 "metadata": {
  "kernelspec": {
   "display_name": "Python 3",
   "language": "python",
   "name": "python3"
  },
  "language_info": {
   "codemirror_mode": {
    "name": "ipython",
    "version": 3
   },
   "file_extension": ".py",
   "mimetype": "text/x-python",
   "name": "python",
   "nbconvert_exporter": "python",
   "pygments_lexer": "ipython3",
   "version": "3.11.5"
  }
 },
 "nbformat": 4,
 "nbformat_minor": 2
}
