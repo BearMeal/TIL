{
 "cells": [
  {
   "cell_type": "code",
   "execution_count": 5,
   "metadata": {},
   "outputs": [
    {
     "name": "stdout",
     "output_type": "stream",
     "text": [
      "1\n",
      "2\n",
      "5\n",
      "3\n",
      "3\n",
      "-1\n",
      "-1\n"
     ]
    }
   ],
   "source": [
    "# 스택2\n",
    "import sys\n",
    "# input = sys.stdin.readline\n",
    "\n",
    "n = int(input())\n",
    "\n",
    "nlist = [list(map(int,input().split())) for _ in range(n)]\n",
    "\n",
    "stack = []\n",
    "for i in nlist:\n",
    "    if i[0]  == 1:\n",
    "        stack.append(i[1])\n",
    "    elif i[0] == 2:\n",
    "        if stack:\n",
    "            print(stack.pop())\n",
    "        else:\n",
    "            print(-1)\n",
    "    elif i[0] == 3:\n",
    "        print(len(stack))\n",
    "    elif i[0] == 4:\n",
    "        if stack:\n",
    "            print(0)\n",
    "        else:\n",
    "            print(1)\n",
    "    elif i[0] == 5:\n",
    "        if stack:\n",
    "            print(stack[-1])\n",
    "        else:\n",
    "            print(-1)"
   ]
  },
  {
   "cell_type": "code",
   "execution_count": 8,
   "metadata": {},
   "outputs": [
    {
     "name": "stdout",
     "output_type": "stream",
     "text": [
      "0\n"
     ]
    }
   ],
   "source": [
    "# 제로\n",
    "import sys\n",
    "# input = sys.stdin.readline\n",
    "\n",
    "k = int(input())\n",
    "\n",
    "stack = []\n",
    "for _ in range(k):\n",
    "    i = int(input())\n",
    "    if i != 0:\n",
    "        stack.append(i)\n",
    "    else:\n",
    "        stack.pop()\n",
    "print(sum(stack))"
   ]
  },
  {
   "cell_type": "code",
   "execution_count": 31,
   "metadata": {},
   "outputs": [
    {
     "name": "stdout",
     "output_type": "stream",
     "text": [
      "(\n",
      "(\n",
      "YES\n"
     ]
    }
   ],
   "source": [
    "# 괄호\n",
    "# 괄호 짝이 맞는지 아닌지 출력\n",
    "import sys\n",
    "# input = sys.stdin.readline\n",
    "\n",
    "t = int(input())\n",
    "\n",
    "for _ in range(t):\n",
    "    ps = list(input())\n",
    "    stack = []\n",
    "    is_vps = True\n",
    "    for i in ps:\n",
    "        if i == '(':\n",
    "            stack.append(i)\n",
    "        elif i == ')':\n",
    "            if len(stack) == 0:\n",
    "                is_vps = False\n",
    "                break\n",
    "            else:\n",
    "                stack.pop()\n",
    "    if is_vps == True and len(stack) == 0:\n",
    "        print('YES')\n",
    "    else:\n",
    "        print('NO')\n",
    "        "
   ]
  },
  {
   "cell_type": "code",
   "execution_count": 48,
   "metadata": {},
   "outputs": [
    {
     "name": "stdout",
     "output_type": "stream",
     "text": [
      "[' ', ' ', '.']\n",
      "yes\n",
      "['(', '(', ' ', ')', ' ']\n",
      "no\n",
      "[]\n",
      "yes\n",
      "['.']\n"
     ]
    }
   ],
   "source": [
    "# 균형잡힌 세상\n",
    "import sys\n",
    "# input = sys.stdin.readline\n",
    "\n",
    "while True:\n",
    "    line = list(input().rstrip())\n",
    "    # print(line)\n",
    "    if len(line) == 1 and line[0] =='.':\n",
    "        break\n",
    "\n",
    "    stack = []\n",
    "    is_vps = 1\n",
    "    for i in line:\n",
    "        if i == '(' or i =='[':\n",
    "            stack.append(i)\n",
    "        elif i == ')' or i == ']':\n",
    "            if len(stack) == 0:\n",
    "                is_vps = 0\n",
    "                break\n",
    "            elif i == ')' and stack[-1] == '(':\n",
    "                stack.pop()\n",
    "            elif i == ']' and stack[-1] == '[':\n",
    "                stack.pop()\n",
    "            else:\n",
    "                is_vps = 0\n",
    "                break\n",
    "            \n",
    "    if is_vps == 1 and len(stack) == 0:\n",
    "        print('yes')\n",
    "    else:\n",
    "        print('no')\n",
    "            \n",
    "        \n",
    "    "
   ]
  },
  {
   "cell_type": "code",
   "execution_count": 56,
   "metadata": {},
   "outputs": [
    {
     "name": "stdout",
     "output_type": "stream",
     "text": [
      "[] 0\n",
      "[5] 0\n",
      "[5, 4] 0\n",
      "[5, 4] 1\n",
      "[5, 4, 3] 1\n",
      "5\n"
     ]
    }
   ],
   "source": [
    "# 도키도키 간식드리미\n",
    "import sys\n",
    "# input = sys.stdin.readline\n",
    "n = int(input())\n",
    "\n",
    "nlist = list(map(int, input().split()))\n",
    "\n",
    "stack = []\n",
    "ex = 0\n",
    "for i in nlist:\n",
    "    # print(stack, ex)\n",
    "    if i == (ex+1):\n",
    "        ex = i\n",
    "        while len(stack)!=0:\n",
    "            if stack[-1] == (ex+1):\n",
    "                ex = stack[-1]\n",
    "                stack.pop()\n",
    "            else:\n",
    "                break\n",
    "        continue\n",
    "    else:\n",
    "        stack.append(i)\n",
    "\n",
    "if ex == n:\n",
    "    print('Nice')\n",
    "else:\n",
    "    print('Sad')\n",
    "    "
   ]
  },
  {
   "cell_type": "code",
   "execution_count": 61,
   "metadata": {},
   "outputs": [
    {
     "name": "stdout",
     "output_type": "stream",
     "text": [
      "[['push', '2'], ['front']]\n"
     ]
    }
   ],
   "source": [
    "# 큐2\n",
    "from collections import deque\n",
    "import sys\n",
    "input = sys.stdin.readline\n",
    "\n",
    "n = int(input())\n",
    "# nlist = [input().rstrip().split() for _ in range(n)]\n",
    "\n",
    "q = deque([])\n",
    "for _ in range(n):\n",
    "    i = input().rstrip().split()\n",
    "    if i[0] == 'push':\n",
    "        q.append(int(i[1]))\n",
    "    elif i[0] == 'pop':\n",
    "        if len(q) ==0:\n",
    "            print(-1)\n",
    "        else:\n",
    "            print(q.popleft())\n",
    "    elif i[0] == 'size':\n",
    "        print(len(q))\n",
    "    elif i[0] == 'empty':\n",
    "        if len(q) ==0:\n",
    "            print(1)\n",
    "        else:\n",
    "            print(0)\n",
    "    elif i[0] == 'front':\n",
    "        if len(q) ==0:\n",
    "            print(-1)\n",
    "        else:\n",
    "            print(q[0])\n",
    "    elif i[0] == 'back':\n",
    "        if len(q) ==0:\n",
    "            print(-1)\n",
    "        else:\n",
    "            print(q[-1])"
   ]
  }
 ],
 "metadata": {
  "kernelspec": {
   "display_name": "Python 3",
   "language": "python",
   "name": "python3"
  },
  "language_info": {
   "codemirror_mode": {
    "name": "ipython",
    "version": 3
   },
   "file_extension": ".py",
   "mimetype": "text/x-python",
   "name": "python",
   "nbconvert_exporter": "python",
   "pygments_lexer": "ipython3",
   "version": "3.11.5"
  }
 },
 "nbformat": 4,
 "nbformat_minor": 2
}
