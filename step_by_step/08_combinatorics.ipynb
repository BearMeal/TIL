{
 "cells": [
  {
   "cell_type": "code",
   "execution_count": 7,
   "metadata": {},
   "outputs": [
    {
     "name": "stdout",
     "output_type": "stream",
     "text": [
      "20\n"
     ]
    }
   ],
   "source": [
    "# 베라의 패션\n",
    "# n개의 색상이 있을때 상하의 색조합 경우의 수\n",
    "# 경우의 수 공식으로도 단순하게 구할수도있지만\n",
    "# 실제로 구현해보지 않으면 실제문제를 만났을때 \n",
    "# 구현하는데 도움이 안된다\n",
    "\n",
    "n = int(input())\n",
    "\n",
    "cnt =0\n",
    "\n",
    "for i in range(1, n+1):\n",
    "    for j in range(1,n+1):\n",
    "        if i != j:\n",
    "            cnt +=1\n",
    "            \n",
    "print(cnt)\n"
   ]
  },
  {
   "cell_type": "code",
   "execution_count": 16,
   "metadata": {},
   "outputs": [
    {
     "name": "stdout",
     "output_type": "stream",
     "text": [
      "16\n"
     ]
    }
   ],
   "source": [
    "# 녹색거탑\n",
    "\n",
    "n = int(input())\n",
    "\n",
    "# 2**N하면 답이지만 원리는 재귀함수를 사용하면 이해하기 쉽다\n",
    "# 모든 경로를 탐색하는 방법\n",
    "\n",
    "def recur(level, n):\n",
    "    if level == n:\n",
    "        return 1\n",
    "    return recur(level+1, n) + recur(level+1, n)\n",
    "\n",
    "print(recur(0, n))"
   ]
  },
  {
   "cell_type": "code",
   "execution_count": 28,
   "metadata": {},
   "outputs": [
    {
     "name": "stdout",
     "output_type": "stream",
     "text": [
      "10\n"
     ]
    }
   ],
   "source": [
    "# 이항계수 1\n",
    "# n 개에서 중복하지않고, 순서는 상관없이 k개를 구하는 경우의 수\n",
    "# 공식을사용해서 이항계수의 성질을 이용한 재귀함수로 해도되지만\n",
    "# 반복문으로 완전탐색하면 이해가 잘됨\n",
    "\n",
    "n, k = map(int, input().split())\n",
    "\n",
    "# 예를 들어 n에서 k=3번일때\n",
    "# for i in range(1, n+1):\n",
    "#     for j in range(1, n+1):\n",
    "#         for k in range(1, n+1):\n",
    "#             if i != j:\n",
    "#                 if j != k:\n",
    "#                     if i != k:\n",
    "#                         print(i,j,k)\n",
    "                        \n",
    "# 이걸 재귀함수로 만들어 본다\n",
    "cnt = 0\n",
    "def recur(n, k, start=1, combi=[]):\n",
    "    global cnt\n",
    "    if len(combi) == k:\n",
    "        cnt +=1\n",
    "        return \n",
    "    \n",
    "    for i in range(start, n+1):\n",
    "        recur(n,k, i+1, combi +[i])\n",
    "    \n",
    "recur(n,k)\n",
    "print(cnt)\n",
    "    "
   ]
  },
  {
   "cell_type": "code",
   "execution_count": 61,
   "metadata": {},
   "outputs": [
    {
     "name": "stdout",
     "output_type": "stream",
     "text": [
      "4\n"
     ]
    }
   ],
   "source": [
    "# 다리놓기\n",
    "# 다리는 크로스로 겹칠수 없다.\n",
    "\n",
    "t = int(input())\n",
    "\n",
    "\n",
    "# 재귀적으로 조합을 완전탐색하여 풀기\n",
    "\n",
    "# 조합만들기 yield 있는 버전\n",
    "def recur(n, mlist, start=0, now=None):\n",
    "    if now == None:\n",
    "        now = []\n",
    "    \n",
    "    if len(now) == n:\n",
    "        yield tuple(now)\n",
    "        return\n",
    "    \n",
    "    for i in range(start, len(mlist)):\n",
    "        now.append(mlist[i])\n",
    "        # 리스트를 yield 하는\n",
    "        yield from recur(n, mlist, i +1, now)\n",
    "        now.pop()        \n",
    "        \n",
    "# yield없는 버전: 차이점은 모든 결과를 누적하여 한번에 반환한다는것이다.\n",
    "# 때문에 메모리사용이 비효율적이다.\n",
    "def recur(n, mlist, start=0, now=None, result=None):\n",
    "    if now is None:\n",
    "        now = []\n",
    "    if result is None:\n",
    "        result = []\n",
    "    \n",
    "    if len(now) == n:\n",
    "        result.append(tuple(now))\n",
    "        return result\n",
    "    \n",
    "    for i in range(start, len(mlist)):\n",
    "        now.append(mlist[i])\n",
    "        recur(n, mlist, i + 1, now, result)\n",
    "        now.pop()\n",
    "    \n",
    "    return result\n",
    "\n",
    "\n",
    "for _ in range(t):\n",
    "    n, m = map(int, input().split())\n",
    "    # print(list(recur(n, list(range(m)))))\n",
    "    print(sum(1 for i in recur(n, list(range(m)))))\n",
    "\n",
    "    "
   ]
  },
  {
   "cell_type": "code",
   "execution_count": 86,
   "metadata": {},
   "outputs": [
    {
     "data": {
      "text/plain": [
       "<generator object test3 at 0x0000021194BDBD00>"
      ]
     },
     "execution_count": 86,
     "metadata": {},
     "output_type": "execute_result"
    }
   ],
   "source": [
    "# yield 키워드\n",
    "\n",
    "# 기본적인 return 함수구조\n",
    "def test():\n",
    "    return list('abc')\n",
    "# test()\n",
    "\n",
    "# yield를 사용하면 iterable한 결과를 만들수있다.\n",
    "def test2():\n",
    "    yield 'a'\n",
    "    yield 'b'\n",
    "    yield 'c'\n",
    "# for i in test2():\n",
    "#     print(i)\n",
    "# test2()  # yield로 반환된 결과는 generator로 반환됨\n",
    "\n",
    "def test3():\n",
    "    # 이런식으로 리스트를 yield할떄\n",
    "    # for i in ['a','b','c']:\n",
    "    #     yield i\n",
    "    \n",
    "    # from을 사용하면 리스트를 간단하게 yield 할쑤있다\n",
    "    yield from ['a','b','c']\n",
    "    \n",
    "test3()  # generator객체의 결과\n"
   ]
  },
  {
   "cell_type": "code",
   "execution_count": 22,
   "metadata": {},
   "outputs": [
    {
     "data": {
      "text/plain": [
       "[('a', 'b', 'c'), ('a', 'b', 'd'), ('a', 'c', 'd'), ('b', 'c', 'd')]"
      ]
     },
     "execution_count": 22,
     "metadata": {},
     "output_type": "execute_result"
    }
   ],
   "source": [
    "# m개중에 n개를 택하는 경우의 수\n",
    "def comb(n, mlist, start=0, now=None):\n",
    "    if now == None:\n",
    "        now = []\n",
    "    \n",
    "    if len(now) == n:\n",
    "        # 튜플로 하지않으면내용이 저장내용이 자꾸 변경됨\n",
    "        yield tuple(now)\n",
    "    \n",
    "    for i in range(start, len(mlist)):\n",
    "        now.append(mlist[i])\n",
    "        for i in comb(n, mlist, i+1, now):\n",
    "            yield i\n",
    "        now.pop()\n",
    "    \n",
    "list(comb(3,['a','b','c','d']))\n"
   ]
  },
  {
   "cell_type": "code",
   "execution_count": 29,
   "metadata": {},
   "outputs": [
    {
     "name": "stdout",
     "output_type": "stream",
     "text": [
      "[]\n",
      "[['a', 'b']]\n",
      "[['a', 'b'], ['a', 'c']]\n",
      "[['a', 'b'], ['a', 'c']]\n",
      "[['a', 'b'], ['a', 'c'], ['b', 'c']]\n",
      "[['a', 'b'], ['a', 'c'], ['b', 'c']]\n",
      "[['a', 'b'], ['a', 'c'], ['b', 'c']]\n",
      "[['a', 'b'], ['a', 'c'], ['b', 'c']]\n"
     ]
    }
   ],
   "source": [
    "# a,b,c에서 2-combination을 구하기\n",
    "\n",
    "nlist = ['a','b','c']\n",
    "ans = []\n",
    "\n",
    "def nCr(n,r,temp=[]):\n",
    "    if n == len(nlist):\n",
    "        if r == len(temp):\n",
    "            ext = [i for i in temp]\n",
    "            ans.append(ext)\n",
    "        return print(ans)\n",
    "    \n",
    "    temp.append(nlist[n])\n",
    "    nCr(n+1,r,temp)\n",
    "    temp.pop()\n",
    "    nCr(n+1,r,temp)\n",
    "\n",
    "nCr(0,2)\n",
    "\n",
    "# print(ans)\n"
   ]
  }
 ],
 "metadata": {
  "kernelspec": {
   "display_name": "Python 3",
   "language": "python",
   "name": "python3"
  },
  "language_info": {
   "codemirror_mode": {
    "name": "ipython",
    "version": 3
   },
   "file_extension": ".py",
   "mimetype": "text/x-python",
   "name": "python",
   "nbconvert_exporter": "python",
   "pygments_lexer": "ipython3",
   "version": "3.11.5"
  }
 },
 "nbformat": 4,
 "nbformat_minor": 2
}
