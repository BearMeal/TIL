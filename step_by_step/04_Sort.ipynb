{
 "cells": [
  {
   "cell_type": "code",
   "execution_count": 23,
   "metadata": {},
   "outputs": [
    {
     "name": "stdout",
     "output_type": "stream",
     "text": [
      "[2, 3, 1, 4, 5]\n",
      "[1, 2, 3, 4, 5]\n"
     ]
    }
   ],
   "source": [
    "# 수 정렬하기\n",
    "# 버블버블 팝팝\n",
    "\n",
    "n = int(input())\n",
    "\n",
    "nlist = [int(input()) for _ in range(n)]\n",
    "    \n",
    "# print(nlist)\n",
    "for i in range(len(nlist)):\n",
    "    for j in range(i+1, len(nlist)): \n",
    "        if nlist[i] >= nlist[j]:\n",
    "            nlist[i], nlist[j] = nlist[j],nlist[i]\n",
    "\n",
    "# print(nlist)            \n",
    "for i in nlist:\n",
    "    print(i)\n"
   ]
  },
  {
   "cell_type": "markdown",
   "metadata": {},
   "source": [
    "- 정렬이란 어떤 배열의 원소를 기준에 따라 순서대로 나열하는것이다"
   ]
  },
  {
   "cell_type": "code",
   "execution_count": 31,
   "metadata": {},
   "outputs": [
    {
     "name": "stdout",
     "output_type": "stream",
     "text": [
      "34\n",
      "40\n"
     ]
    }
   ],
   "source": [
    "# 대표값2 \n",
    "\n",
    "nlist = []\n",
    "for i in range(5):\n",
    "    nlist.append(int(input()))\n",
    "\n",
    "print(int(sum(nlist) / 5))\n",
    "\n",
    "for i in range(5):\n",
    "    for j in range(i+1, 5):\n",
    "        if nlist[i] >= nlist[j]:\n",
    "            nlist[i], nlist[j] = nlist[j], nlist[i]\n",
    "\n",
    "\n",
    "mid = round((5/2)+0.0000001)\n",
    "print(nlist[mid-1])\n",
    "        \n",
    "    "
   ]
  },
  {
   "cell_type": "code",
   "execution_count": 37,
   "metadata": {},
   "outputs": [
    {
     "name": "stdout",
     "output_type": "stream",
     "text": [
      "[100, 98, 93, 85, 76]\n",
      "98\n"
     ]
    }
   ],
   "source": [
    "# 커트라인\n",
    "\n",
    "n, k = map(int, input().split())\n",
    "\n",
    "nlist = list(map(int, input().split()))\n",
    "\n",
    "for i in range(n):\n",
    "    for j in range(i+1, n):\n",
    "        if nlist[i] <= nlist[j]:\n",
    "            nlist[i], nlist[j] = nlist[j], nlist[i]\n",
    "\n",
    "# print(nlist)\n",
    "print(nlist[k-1])"
   ]
  },
  {
   "cell_type": "code",
   "execution_count": null,
   "metadata": {},
   "outputs": [],
   "source": [
    "# 수 정렬하기2\n",
    "# 병합정렬이다\n",
    "# https://www.youtube.com/watch?v=ZRPoEKHXTJg\n",
    "n = int(input())\n",
    "\n",
    "nlist = [int(input()) for _ in range(n)]\n",
    "\n",
    "def merge_sort(nlist):\n",
    "    if len(nlist) > 1:\n",
    "        # print(nlist)\n",
    "        mid = len(nlist) // 2\n",
    "        left = nlist[:mid]\n",
    "        right = nlist[mid:]\n",
    "        \n",
    "        merge_sort(left)\n",
    "        merge_sort(right)\n",
    "        \n",
    "        i=j=k=0\n",
    "        # 다시 합치기\n",
    "        while i<len(left) and j<len(right):\n",
    "            # print('합치는중',nlist, left, right)\n",
    "            if left[i] < right[j]:\n",
    "                nlist[k] = left[i]\n",
    "                i+=1\n",
    "            else:\n",
    "                nlist[k] = right[j]\n",
    "                j+=1\n",
    "            k+=1\n",
    "            # print(nlist)\n",
    "            \n",
    "        # 남은거 복사\n",
    "        while i < len(left):\n",
    "            nlist[k] = left[i]\n",
    "            i+=1\n",
    "            k+=1\n",
    "        while j <len(right): \n",
    "            nlist[k] = right[j]\n",
    "            j+=1\n",
    "            k+=1\n",
    "            \n",
    "merge_sort(nlist)\n",
    "            \n",
    "            \n",
    "for i in nlist:\n",
    "    print(i)"
   ]
  },
  {
   "cell_type": "code",
   "execution_count": 3,
   "metadata": {},
   "outputs": [
    {
     "name": "stdout",
     "output_type": "stream",
     "text": [
      "1\n",
      "2\n",
      "2\n",
      "2\n",
      "3\n"
     ]
    }
   ],
   "source": [
    "# 수 정렬하기3\n",
    "# 카운트 정렬이다\n",
    "import sys \n",
    "input = sys.stdin.readline\n",
    "\n",
    "n = int(input())\n",
    "dp = [0]*10001\n",
    "for i in range(n):\n",
    "    a = int(input())\n",
    "    dp[a] += 1\n",
    "\n",
    "for i in range(len(dp)):\n",
    "    for j in range(dp[i]):\n",
    "        print(i)\n"
   ]
  },
  {
   "cell_type": "code",
   "execution_count": 6,
   "metadata": {},
   "outputs": [
    {
     "name": "stdout",
     "output_type": "stream",
     "text": [
      "4321\n"
     ]
    }
   ],
   "source": [
    "# 소트인사이드\n",
    "\n",
    "n = input()\n",
    "\n",
    "nlist = []\n",
    "for i in n:\n",
    "    nlist.append(i)\n",
    "    \n",
    "for i in range(len(nlist)):\n",
    "    for j in range(i+1, len(nlist)):\n",
    "        if nlist[i] <= nlist[j]:\n",
    "            nlist[i], nlist[j] = nlist[j], nlist[i]\n",
    "\n",
    "print(''.join(map(str, nlist)))"
   ]
  },
  {
   "cell_type": "code",
   "execution_count": 4,
   "metadata": {},
   "outputs": [],
   "source": [
    "# 좌표정렬하기\n",
    "import sys\n",
    "input = sys.stdin.readline\n",
    "# 시간이 nlogn안에 풀어야한다\n",
    "# mergesort로 풀어본다\n",
    "n = int(input())\n",
    "\n",
    "nlist = [list(map(int, input().split())) for _ in range(n)]\n",
    "\n",
    "\n",
    "def merge_sort(nlist):\n",
    "    if len(nlist) <=1:\n",
    "        return\n",
    "    \n",
    "    mid = len(nlist) //2\n",
    "    left = nlist[:mid]\n",
    "    right = nlist[mid:]\n",
    "    \n",
    "    merge_sort(left)\n",
    "    merge_sort(right)\n",
    "    \n",
    "    i=j=k=0\n",
    "    while i<len(left) and j<len(right):\n",
    "        if left[i][0] < right[j][0] or (left[i][0] == right[j][0] and left[i][1] < right[j][1]):\n",
    "            nlist[k] = left[i]\n",
    "            i+=1\n",
    "        else:\n",
    "            nlist[k] = right[j]\n",
    "            j+=1\n",
    "        k+=1\n",
    "    \n",
    "    while i<len(left):\n",
    "        nlist[k] = left[i]\n",
    "        i+=1\n",
    "        k+=1\n",
    "    \n",
    "    while j<len(right):\n",
    "        nlist[k] = right[j]\n",
    "        j+=1\n",
    "        k+=1\n",
    "\n",
    "merge_sort(nlist)\n",
    "\n",
    "# print(nlist)\n",
    "for i in nlist:\n",
    "    print(' '.join(map(str, i)))\n",
    "             "
   ]
  },
  {
   "cell_type": "code",
   "execution_count": null,
   "metadata": {},
   "outputs": [],
   "source": [
    "# 좌표정렬하기2\n",
    "# y,x 증가순으로 \n",
    "# 머지소트, 병합정렬\n",
    "import sys\n",
    "input = sys.stdin.readline\n",
    "\n",
    "n = int(input())\n",
    "\n",
    "nlist = [list(map(int,input().split())) for _ in range(n)]\n",
    "\n",
    "def merge_sort(nlist):\n",
    "    if len(nlist) <= 1:\n",
    "        return\n",
    "    mid = len(nlist)//2\n",
    "    left = nlist[:mid]\n",
    "    right = nlist[mid:]\n",
    "    \n",
    "    merge_sort(left)\n",
    "    merge_sort(right)\n",
    "    \n",
    "    i=j=k=0\n",
    "    while i<len(left) and j<len(right):\n",
    "        if left[i][1] < right[j][1] or (left[i][1] == right[j][1] and left[i][0] < right[j][0]):\n",
    "            nlist[k] = left[i]\n",
    "            i+=1\n",
    "        else:\n",
    "            nlist[k] = right[j]\n",
    "            j+=1\n",
    "        k+=1\n",
    "    \n",
    "    while i<len(left):\n",
    "        nlist[k] = left[i]\n",
    "        i+=1 \n",
    "        k+=1\n",
    "        \n",
    "    while j<len(right):\n",
    "        nlist[k] = right[j]\n",
    "        j+=1\n",
    "        k+=1\n",
    "        \n",
    "        \n",
    "merge_sort(nlist)\n",
    "\n",
    "for i in nlist:\n",
    "    print(' '.join(map(str, i)))\n",
    "        "
   ]
  },
  {
   "cell_type": "code",
   "execution_count": null,
   "metadata": {},
   "outputs": [],
   "source": [
    "# 단어정렬\n",
    "import sys\n",
    "# input= sys.stdin.readline\n",
    "\n",
    "n = int(input())\n",
    "\n",
    "# nlist = [input().rstrip() for _ in range(n)]\n",
    "nlist = [\n",
    "'but','i',\n",
    "'wont',\n",
    "'hesitate',\n",
    "'no',\n",
    "'more',\n",
    "'no',\n",
    "'more',\n",
    "'it',\n",
    "'cannot',\n",
    "'wait',\n",
    "'im',\n",
    "'yours']\n",
    "nlist = list(set(nlist))\n",
    "nlist.sort()\n",
    "print(nlist)\n",
    "nlist.sort(key=lambda x : (len(x)) )\n",
    "\n",
    "for i in nlist:\n",
    "    print(i)"
   ]
  },
  {
   "cell_type": "code",
   "execution_count": 4,
   "metadata": {},
   "outputs": [
    {
     "name": "stdout",
     "output_type": "stream",
     "text": [
      "20 Sunyoung\n",
      "21 Junkyu\n",
      "21 Dohyun\n"
     ]
    }
   ],
   "source": [
    "# 나이순 정렬\n",
    "# 버블소트로는 너무 오래걸린다 머지소트로 해야한다\n",
    "import sys\n",
    "# input = sys.stdin.readline\n",
    "\n",
    "n = int(input())\n",
    "\n",
    "nlist = [list(map(str, input().split())) for _ in range(n)]\n",
    "\n",
    "def merge_sort(nlist):\n",
    "    if len(nlist) <=1:\n",
    "        return\n",
    "    \n",
    "    mid = len(nlist) //2\n",
    "    left = nlist[:mid]\n",
    "    right = nlist[mid:]\n",
    "    \n",
    "    merge_sort(left)\n",
    "    merge_sort(right)\n",
    "    \n",
    "    i=j=k=0\n",
    "    while i<len(left) and j<len(right):\n",
    "        if int(left[i][0]) <= int(right[j][0]):\n",
    "            nlist[k] = left[i]\n",
    "            i+=1\n",
    "        else:\n",
    "            nlist[k] = right[j]\n",
    "            j+=1\n",
    "        k+=1        \n",
    "    \n",
    "    while i<len(left):\n",
    "        nlist[k] = left[i]\n",
    "        i+=1\n",
    "        k+=1\n",
    "        \n",
    "    while j<len(right):\n",
    "        nlist[k] = right[j]\n",
    "        j+=1\n",
    "        k+=1\n",
    "    \n",
    "merge_sort(nlist)\n",
    "\n",
    "for i in nlist:\n",
    "    print(' '.join(map(str, i)))"
   ]
  },
  {
   "cell_type": "code",
   "execution_count": 35,
   "metadata": {},
   "outputs": [
    {
     "name": "stdout",
     "output_type": "stream",
     "text": [
      "[2, 4, -10, 4, -9]\n",
      "[-10, -9, 2, 4]\n",
      "{-10: 0, -9: 1, 2: 2, 4: 3}\n",
      "2 3 0 3 1 "
     ]
    }
   ],
   "source": [
    "# 좌표 압축\n",
    "# 카운트소트로 풀면될듯 => 실패\n",
    "# 시간제한 해쉬 자료구조를 이용해야한다\n",
    "import sys\n",
    "# input = sys.stdin.readline\n",
    "\n",
    "n = int(input())\n",
    "nlist = list(map(int, input().split()))\n",
    "\n",
    "order = sorted(set(nlist))\n",
    "\n",
    "ans = {}\n",
    "for i,v in enumerate(order):\n",
    "    ans[v] = i\n",
    "# print(nlist)\n",
    "# print(order)\n",
    "# print(ans)\n",
    "        \n",
    "for i in nlist:\n",
    "    print(ans[i], end=' ')"
   ]
  }
 ],
 "metadata": {
  "kernelspec": {
   "display_name": "Python 3",
   "language": "python",
   "name": "python3"
  },
  "language_info": {
   "codemirror_mode": {
    "name": "ipython",
    "version": 3
   },
   "file_extension": ".py",
   "mimetype": "text/x-python",
   "name": "python",
   "nbconvert_exporter": "python",
   "pygments_lexer": "ipython3",
   "version": "3.11.5"
  }
 },
 "nbformat": 4,
 "nbformat_minor": 2
}
