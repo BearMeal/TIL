{
 "cells": [
  {
   "cell_type": "code",
   "execution_count": 13,
   "metadata": {},
   "outputs": [
    {
     "name": "stdout",
     "output_type": "stream",
     "text": [
      "1 0 0 1 0 0 0 0 "
     ]
    }
   ],
   "source": [
    "# 숫자 카드\n",
    "# m이 n에 있으면 1, 없으면 0 출력\n",
    "# 이진탐색또는 해쉬로 풀면될듯\n",
    "import sys\n",
    "# input = sys.stdin.readline\n",
    "\n",
    "n = int(input())\n",
    "nlist = list(map(int, input().split()))\n",
    "\n",
    "m = int(input())\n",
    "mlist = list(map(int, input().split()))\n",
    "\n",
    "ans = {}\n",
    "for i in nlist:\n",
    "    ans[i] = 1\n",
    "\n",
    "for i in mlist:\n",
    "    if i in ans:\n",
    "        print(1, end=' ')\n",
    "    else: \n",
    "        print(0, end=' ')\n",
    "\n",
    "##### 이진탐색\n",
    "\n",
    "# def bs(arr, t, s, e):\n",
    "#     if s > e:\n",
    "#         return 0\n",
    "    \n",
    "#     mid = (s+e)//2\n",
    "    \n",
    "#     if arr[mid] == t:\n",
    "#         return 1\n",
    "#     elif arr[mid] < t:\n",
    "#         return bs(arr, t, mid+1 , e)\n",
    "#     elif arr[mid] > t:\n",
    "#         return bs(arr,t, s, mid-1)\n",
    "    \n",
    "# nlist.sort()\n",
    "# for i in mlist:\n",
    "#     print(bs(nlist, i, 0, len(nlist)-1 ), end=' ')\n"
   ]
  },
  {
   "cell_type": "code",
   "execution_count": 3,
   "metadata": {},
   "outputs": [
    {
     "name": "stdout",
     "output_type": "stream",
     "text": [
      "4\n"
     ]
    }
   ],
   "source": [
    "# 문자열 집합\n",
    "# m개 문자열의 문자가 n개 들어오는 문자열에 문자가 있는 수를 출력\n",
    "\n",
    "import sys\n",
    "# input = sys.stdin.readline\n",
    "\n",
    "n, m = map(int, input().split())\n",
    "nlist = [input() for _ in range(n)]\n",
    "mlist = [input() for _ in range(m)]\n",
    "result = {}\n",
    "for i in nlist:\n",
    "    result[i] = 1\n",
    "\n",
    "ans =0\n",
    "for i in mlist:\n",
    "    if i in result:\n",
    "        ans+=1\n",
    "    else:\n",
    "        continue\n",
    "    \n",
    "print(ans)"
   ]
  },
  {
   "cell_type": "code",
   "execution_count": 12,
   "metadata": {},
   "outputs": [
    {
     "name": "stdout",
     "output_type": "stream",
     "text": [
      "Askar\n",
      "Artem\n"
     ]
    }
   ],
   "source": [
    "# 회사에 있는 사람\n",
    "import sys\n",
    "# input = sys.stdin.readline\n",
    "\n",
    "n = int(input())\n",
    "\n",
    "# nlist = [list(map(str, input().split())) for _ in range(n)]\n",
    "ndict = {}\n",
    "\n",
    "for i in range(n):\n",
    "    name, state = map(str, input().split())\n",
    "    if state == 'leave':\n",
    "        del ndict[name]\n",
    "    else: \n",
    "        ndict[name] = 1\n",
    "\n",
    "ans = []\n",
    "for i in ndict:\n",
    "    if ndict[i] == 1:\n",
    "        ans.append(i)\n",
    "\n",
    "ans.sort(reverse=True)\n",
    "for i in ans:\n",
    "    print(i)"
   ]
  },
  {
   "cell_type": "code",
   "execution_count": null,
   "metadata": {},
   "outputs": [],
   "source": [
    "# 나는야 포켓몬 마스터 이다솜\n",
    "import sys\n",
    "input = sys.stdin.readline\n",
    "\n",
    "n,m = map(int, input().split())\n",
    "\n",
    "# 포켓몬 도감\n",
    "# 키로 조회하는게 빠르기때문에 키와벨류를 반대로해서 \n",
    "# 하나더 만들어서 사용한다\n",
    "ndict ={}   \n",
    "r_ndict ={}  \n",
    "\n",
    "for i in range(n):\n",
    "    a = input().rstrip()\n",
    "    ndict[str(i+1)] = a\n",
    "    r_ndict[a] = str(i+1)\n",
    "    \n",
    "# 문제\n",
    "for i in range(m):\n",
    "    b = input().rstrip()\n",
    "    try:\n",
    "        print(ndict[b])\n",
    "    except KeyError:\n",
    "        print(r_ndict[b])\n",
    "\n"
   ]
  },
  {
   "cell_type": "code",
   "execution_count": 27,
   "metadata": {},
   "outputs": [
    {
     "name": "stdout",
     "output_type": "stream",
     "text": [
      "3 0 0 2 2 0 0 2 "
     ]
    }
   ],
   "source": [
    "# 숫자카드2 \n",
    "# nlist를 머지소트하고 바인너리서치해서 원소의 인덱스길이로 정답\n",
    "# 또는 소트하고 해쉬맵으로 저장하면서 카운트한다\n",
    "import sys\n",
    "input = sys.stdin.readline\n",
    "\n",
    "n = int(input().rstrip())\n",
    "nlist = list(map(int, input().split()))\n",
    "nlist.sort()\n",
    "ndict = {}\n",
    "\n",
    "ex = 'a'\n",
    "cnt = 0\n",
    "for i in nlist:\n",
    "    if i == ex:\n",
    "        cnt+=1\n",
    "        ndict[ex] = cnt\n",
    "    else:\n",
    "        ndict[ex] = cnt\n",
    "        cnt = 1\n",
    "        ex = i\n",
    "ndict[ex] = cnt\n",
    "\n",
    "m = int(input().rstrip())\n",
    "mlist = list(map(int, input().split()))\n",
    "\n",
    "for i in mlist:\n",
    "    try:\n",
    "        print(ndict[i], end=' ')\n",
    "    except KeyError:\n",
    "        print(0, end=' ')\n",
    "    "
   ]
  },
  {
   "cell_type": "code",
   "execution_count": 31,
   "metadata": {},
   "outputs": [
    {
     "name": "stdout",
     "output_type": "stream",
     "text": [
      "['baesangwook', 'ohhenrie']\n"
     ]
    }
   ],
   "source": [
    "# 듣보잡\n",
    "# 겹치는것 찾기\n",
    "# 해쉬로 해결하면될듯\n",
    "import sys\n",
    "input = sys.stdin.readline\n",
    "\n",
    "n,m = map(int, input().split())\n",
    "\n",
    "ndict = {}\n",
    "for i in range(n):\n",
    "    a = input().rstrip()\n",
    "    ndict[a] = 1\n",
    "    \n",
    "ans = []\n",
    "for i in range(m):\n",
    "    b = input().rstrip()\n",
    "    try:\n",
    "        if ndict[b]:\n",
    "            ans.append(b)\n",
    "    except KeyError:\n",
    "        continue\n",
    "ans.sort()\n",
    "print(len(ans))\n",
    "\n",
    "for i in ans:\n",
    "    print(i)\n"
   ]
  },
  {
   "cell_type": "code",
   "execution_count": 8,
   "metadata": {},
   "outputs": [
    {
     "name": "stdout",
     "output_type": "stream",
     "text": [
      "[1] {1: 1}\n",
      "[1, 2] {1: 1, 2: 1}\n",
      "1\n"
     ]
    }
   ],
   "source": [
    "# 대칭 차집합\n",
    "# 차집합구하면된다. 해시로 해결하면됨\n",
    "import sys\n",
    "input = sys.stdin.readline\n",
    "\n",
    "n,m = map(int, input().split())\n",
    "\n",
    "nlist = list(map(int, input().split()))\n",
    "mlist = list(map(int, input().split()))\n",
    "\n",
    "cnt =0 \n",
    "ndict = {}\n",
    "for i in nlist:\n",
    "    ndict[i] = 1\n",
    "# print(nlist,ndict)\n",
    "\n",
    "mdict = {}\n",
    "for i in mlist:\n",
    "    try:\n",
    "        if ndict[i]:\n",
    "            pass\n",
    "    except KeyError:\n",
    "        cnt += 1\n",
    "    mdict[i] = 1\n",
    "\n",
    "for i in nlist:\n",
    "    try:\n",
    "        if mdict[i]:\n",
    "            pass\n",
    "    except KeyError:\n",
    "        cnt+=1\n",
    "# print(mlist, mdict)\n",
    "\n",
    "print(cnt)\n"
   ]
  },
  {
   "cell_type": "code",
   "execution_count": 23,
   "metadata": {},
   "outputs": [
    {
     "name": "stdout",
     "output_type": "stream",
     "text": [
      "13\n"
     ]
    }
   ],
   "source": [
    "# 서로 다른 부분 문자열의 개수\n",
    "import sys\n",
    "input = sys.stdin.readline\n",
    "\n",
    "s = input().rstrip()\n",
    "sset = set()\n",
    "for i in range(len(s)):\n",
    "    for j in range(1, len(s)+1):\n",
    "        sset.add(s[i:j])\n",
    "        \n",
    "print(len(sset)-1)"
   ]
  }
 ],
 "metadata": {
  "kernelspec": {
   "display_name": "Python 3",
   "language": "python",
   "name": "python3"
  },
  "language_info": {
   "codemirror_mode": {
    "name": "ipython",
    "version": 3
   },
   "file_extension": ".py",
   "mimetype": "text/x-python",
   "name": "python",
   "nbconvert_exporter": "python",
   "pygments_lexer": "ipython3",
   "version": "3.11.5"
  }
 },
 "nbformat": 4,
 "nbformat_minor": 2
}
