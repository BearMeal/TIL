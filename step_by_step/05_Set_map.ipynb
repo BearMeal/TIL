{
 "cells": [
  {
   "cell_type": "code",
   "execution_count": 13,
   "metadata": {},
   "outputs": [
    {
     "name": "stdout",
     "output_type": "stream",
     "text": [
      "1 0 0 1 0 0 0 0 "
     ]
    }
   ],
   "source": [
    "# 숫자 카드\n",
    "# m이 n에 있으면 1, 없으면 0 출력\n",
    "# 이진탐색또는 해쉬로 풀면될듯\n",
    "import sys\n",
    "# input = sys.stdin.readline\n",
    "\n",
    "n = int(input())\n",
    "nlist = list(map(int, input().split()))\n",
    "\n",
    "m = int(input())\n",
    "mlist = list(map(int, input().split()))\n",
    "\n",
    "ans = {}\n",
    "for i in nlist:\n",
    "    ans[i] = 1\n",
    "\n",
    "for i in mlist:\n",
    "    if i in ans:\n",
    "        print(1, end=' ')\n",
    "    else: \n",
    "        print(0, end=' ')\n",
    "\n",
    "##### 이진탐색\n",
    "\n",
    "# def bs(arr, t, s, e):\n",
    "#     if s > e:\n",
    "#         return 0\n",
    "    \n",
    "#     mid = (s+e)//2\n",
    "    \n",
    "#     if arr[mid] == t:\n",
    "#         return 1\n",
    "#     elif arr[mid] < t:\n",
    "#         return bs(arr, t, mid+1 , e)\n",
    "#     elif arr[mid] > t:\n",
    "#         return bs(arr,t, s, mid-1)\n",
    "    \n",
    "# nlist.sort()\n",
    "# for i in mlist:\n",
    "#     print(bs(nlist, i, 0, len(nlist)-1 ), end=' ')\n"
   ]
  },
  {
   "cell_type": "code",
   "execution_count": 3,
   "metadata": {},
   "outputs": [
    {
     "name": "stdout",
     "output_type": "stream",
     "text": [
      "4\n"
     ]
    }
   ],
   "source": [
    "# 문자열 집합\n",
    "# m개 문자열의 문자가 n개 들어오는 문자열에 문자가 있는 수를 출력\n",
    "\n",
    "import sys\n",
    "# input = sys.stdin.readline\n",
    "\n",
    "n, m = map(int, input().split())\n",
    "nlist = [input() for _ in range(n)]\n",
    "mlist = [input() for _ in range(m)]\n",
    "result = {}\n",
    "for i in nlist:\n",
    "    result[i] = 1\n",
    "\n",
    "ans =0\n",
    "for i in mlist:\n",
    "    if i in result:\n",
    "        ans+=1\n",
    "    else:\n",
    "        continue\n",
    "    \n",
    "print(ans)"
   ]
  },
  {
   "cell_type": "code",
   "execution_count": 12,
   "metadata": {},
   "outputs": [
    {
     "name": "stdout",
     "output_type": "stream",
     "text": [
      "Askar\n",
      "Artem\n"
     ]
    }
   ],
   "source": [
    "# 회사에 있는 사람\n",
    "import sys\n",
    "# input = sys.stdin.readline\n",
    "\n",
    "n = int(input())\n",
    "\n",
    "# nlist = [list(map(str, input().split())) for _ in range(n)]\n",
    "ndict = {}\n",
    "\n",
    "for i in range(n):\n",
    "    name, state = map(str, input().split())\n",
    "    if state == 'leave':\n",
    "        del ndict[name]\n",
    "    else: \n",
    "        ndict[name] = 1\n",
    "\n",
    "ans = []\n",
    "for i in ndict:\n",
    "    if ndict[i] == 1:\n",
    "        ans.append(i)\n",
    "\n",
    "ans.sort(reverse=True)\n",
    "for i in ans:\n",
    "    print(i)"
   ]
  }
 ],
 "metadata": {
  "kernelspec": {
   "display_name": "Python 3",
   "language": "python",
   "name": "python3"
  },
  "language_info": {
   "codemirror_mode": {
    "name": "ipython",
    "version": 3
   },
   "file_extension": ".py",
   "mimetype": "text/x-python",
   "name": "python",
   "nbconvert_exporter": "python",
   "pygments_lexer": "ipython3",
   "version": "3.11.5"
  }
 },
 "nbformat": 4,
 "nbformat_minor": 2
}
