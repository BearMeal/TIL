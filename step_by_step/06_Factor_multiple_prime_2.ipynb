{
 "cells": [
  {
   "cell_type": "code",
   "execution_count": 7,
   "metadata": {},
   "outputs": [
    {
     "name": "stdout",
     "output_type": "stream",
     "text": [
      "30\n"
     ]
    }
   ],
   "source": [
    "# 최소공배수 least common multiple\n",
    "# 최대공약수를 먼저 구해서 \n",
    "#a*b에 나누기 최대 공약수하면 최소공배수가 나온다\n",
    "import sys\n",
    "input = sys.stdin.readline\n",
    "\n",
    "t = int(input())\n",
    "\n",
    "for i in range(t):\n",
    "    a,b = map(int, input().split())\n",
    "    res = a*b\n",
    "    \n",
    "    # 최대공약수\n",
    "    while b:\n",
    "        a,b = b, a%b\n",
    "    \n",
    "    #최소 공배수\n",
    "    print(res//a)\n",
    "    \n",
    "    \n"
   ]
  },
  {
   "cell_type": "code",
   "execution_count": 10,
   "metadata": {},
   "outputs": [
    {
     "name": "stdout",
     "output_type": "stream",
     "text": [
      "31 35\n"
     ]
    }
   ],
   "source": [
    "# 분수 합\n",
    "import sys\n",
    "input = sys.stdin.readline\n",
    "\n",
    "a,b = map(int,input().split())\n",
    "c,d = map(int,input().split())\n",
    "#2/7 + 3/5 = (21+10)/35\n",
    "\n",
    "x = (a*d)+(c*b)\n",
    "y = b*d\n",
    "u, d = x, y\n",
    "\n",
    "# GCD\n",
    "while y:\n",
    "    x,y = y, x%y\n",
    "\n",
    "# 정답\n",
    "print(u//x, d//x)\n",
    "\n"
   ]
  },
  {
   "cell_type": "code",
   "execution_count": 29,
   "metadata": {},
   "outputs": [
    {
     "name": "stdout",
     "output_type": "stream",
     "text": [
      "3\n"
     ]
    }
   ],
   "source": [
    "# 가로수\n",
    "# 거리들의 최대 공약수를 구해야함\n",
    "import sys\n",
    "input = sys.stdin.readline\n",
    "\n",
    "n = int(input())\n",
    "nlist = [int(input()) for _ in range(n)]\n",
    "# nlist = [1,3,7,13]\n",
    "\n",
    "dlist = []\n",
    "for i in range(1,len(nlist)):\n",
    "    dlist.append(nlist[i] - nlist[i-1])\n",
    "    \n",
    "a = dlist[0]\n",
    "for i in range(1,len(dlist)):\n",
    "    b = dlist[i]\n",
    "    while b:\n",
    "        a, b = b, a%b\n",
    "\n",
    "cnt = 0\n",
    "for i in dlist:\n",
    "    cnt+= ((i//a)-1)\n",
    "    \n",
    "print(cnt)\n",
    "    "
   ]
  },
  {
   "cell_type": "code",
   "execution_count": 10,
   "metadata": {},
   "outputs": [
    {
     "name": "stdout",
     "output_type": "stream",
     "text": [
      "123127\n",
      "23531\n"
     ]
    }
   ],
   "source": [
    "# 다음 소수\n",
    "import sys\n",
    "input = sys.stdin.readline\n",
    "\n",
    "t = int(input())\n",
    "for i in range(t):\n",
    "    n = int(input())\n",
    "    while True:\n",
    "        if n ==0 or n ==1 or n==2:\n",
    "            print(2)\n",
    "            break\n",
    "        is_prime = 1\n",
    "        for j in range(2,int(n**0.5)+1):\n",
    "            if n%j == 0:\n",
    "                is_prime = 0\n",
    "                break\n",
    "\n",
    "        if is_prime:\n",
    "            print(n)\n",
    "            break\n",
    "        n+=1\n",
    "\n"
   ]
  },
  {
   "cell_type": "code",
   "execution_count": 4,
   "metadata": {},
   "outputs": [
    {
     "name": "stdout",
     "output_type": "stream",
     "text": [
      "1\n"
     ]
    }
   ],
   "source": [
    "# 소수 구하기\n",
    "# m이상, n이하 소수 모두 출력\n",
    "import sys\n",
    "# input = sys.stdin.readline\n",
    "\n",
    "m,n = map(int, input().split())\n",
    "\n",
    "# 방법1\n",
    "for i in range(m, n+1):\n",
    "    is_prime = 1\n",
    "    for j in range(2, int(i**0.5)+1):\n",
    "        if i % j == 0:\n",
    "            is_prime = 0\n",
    "            break\n",
    "    if is_prime == 1 and i != 1:\n",
    "        print(i)\n",
    "\n",
    "# 방법2\n",
    "# table = [1] * (n+1)\n",
    "# table[0] = 0\n",
    "# table[1] = 0\n",
    "# ans = []\n",
    "# for i in range(2, n+1):\n",
    "#     if table[i]:\n",
    "#         for j in range(i+i, n+1, i):\n",
    "#             table[j] = 0\n",
    "#         if i >= m:\n",
    "#             ans.append(i)\n",
    "\n",
    "# for i in ans:\n",
    "#     print(i)"
   ]
  },
  {
   "cell_type": "code",
   "execution_count": 11,
   "metadata": {},
   "outputs": [
    {
     "name": "stdout",
     "output_type": "stream",
     "text": [
      "1\n",
      "4\n",
      "21\n",
      "135\n",
      "1033\n",
      "8392\n"
     ]
    }
   ],
   "source": [
    "# 베르트랑 공준\n",
    "# n 보다크고 2n보다 작거나 같은 소수의 갯수 출력\n",
    "import sys\n",
    "input = sys.stdin.readline\n",
    "\n",
    "table = [1] * ((123456*2)+1)\n",
    "table[0], table[1] = 0, 0\n",
    "\n",
    "for i in range(2, ((123456*2)+1)):\n",
    "    if table[i]:\n",
    "        for j in range(i+i, ((123456*2)+1), i):\n",
    "            table[j] = 0\n",
    "\n",
    "while True:\n",
    "    n = int(input())\n",
    "    if n == 0:\n",
    "        break\n",
    "    cnt = 0\n",
    "    for i in range(n+1, (2*n)+1):\n",
    "        if table[i]:\n",
    "            cnt+=1\n",
    "    print(cnt)\n",
    "    "
   ]
  },
  {
   "cell_type": "code",
   "execution_count": 2,
   "metadata": {},
   "outputs": [
    {
     "name": "stdout",
     "output_type": "stream",
     "text": [
      "1\n",
      "1\n"
     ]
    }
   ],
   "source": [
    "# 골드바흐 파티션\n",
    "# 2보다 큰 짝수는 두소수의 합으로 나타낼수있다\n",
    "import sys\n",
    "input = sys.stdin.readline\n",
    "\n",
    "t = int(input())\n",
    "nlist = [int(input()) for _ in range(t)]\n",
    "l = max(nlist)+1\n",
    "\n",
    "table = [1] * l\n",
    "table[0], table[1] = 0, 0\n",
    "\n",
    "for i in range(2, l):\n",
    "    if table[i]:\n",
    "        for j in range(i*2, l, i):\n",
    "            table[j] = 0\n",
    "\n",
    "for n in nlist:\n",
    "    cnt = 0\n",
    "    # 범위가 (n//2)+1이기 때문에 어차피 다른 순서로 확인하지 않는다\n",
    "    for i in range(2, (n//2)+1):\n",
    "        # print(i,n-i)\n",
    "        if table[i] and table[n-i]:\n",
    "            cnt+=1\n",
    "    print(cnt)\n",
    "    "
   ]
  },
  {
   "cell_type": "code",
   "execution_count": 97,
   "metadata": {},
   "outputs": [
    {
     "name": "stdout",
     "output_type": "stream",
     "text": [
      "3\n"
     ]
    }
   ],
   "source": [
    "# 창문닫기\n",
    "\n",
    "n = int(input())\n",
    "\n",
    "# windows = [0] * (n+1)\n",
    "# for i in range(1, n+1):\n",
    "#     for j in range(i, n+1, i):\n",
    "#         if windows[j] == 0:\n",
    "#             windows[j] = 1\n",
    "#         else:\n",
    "#             windows[j] = 0\n",
    "# print(windows.count(1))  # 메모리 초과뜸\n",
    "\n",
    "\n",
    "\n",
    "dist = 21*(10**8)+1\n",
    "cnt = 1\n",
    "now = -1\n",
    "for i in range(1, dist,2):\n",
    "    now +=i\n",
    "    # print(now, cnt)\n",
    "    if now >= n:\n",
    "        print(cnt-1)\n",
    "        break\n",
    "    cnt+=1\n",
    "        "
   ]
  }
 ],
 "metadata": {
  "kernelspec": {
   "display_name": "Python 3",
   "language": "python",
   "name": "python3"
  },
  "language_info": {
   "codemirror_mode": {
    "name": "ipython",
    "version": 3
   },
   "file_extension": ".py",
   "mimetype": "text/x-python",
   "name": "python",
   "nbconvert_exporter": "python",
   "pygments_lexer": "ipython3",
   "version": "3.11.5"
  }
 },
 "nbformat": 4,
 "nbformat_minor": 2
}
