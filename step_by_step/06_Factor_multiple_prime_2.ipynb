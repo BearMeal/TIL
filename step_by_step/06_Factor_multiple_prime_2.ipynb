{
 "cells": [
  {
   "cell_type": "code",
   "execution_count": 7,
   "metadata": {},
   "outputs": [
    {
     "name": "stdout",
     "output_type": "stream",
     "text": [
      "30\n"
     ]
    }
   ],
   "source": [
    "# 최소공배수 least common multiple\n",
    "# 최대공약수를 먼저 구해서 \n",
    "#a*b에 나누기 최대 공약수하면 최소공배수가 나온다\n",
    "import sys\n",
    "input = sys.stdin.readline\n",
    "\n",
    "t = int(input())\n",
    "\n",
    "for i in range(t):\n",
    "    a,b = map(int, input().split())\n",
    "    res = a*b\n",
    "    \n",
    "    # 최대공약수\n",
    "    while b:\n",
    "        a,b = b, a%b\n",
    "    \n",
    "    #최소 공배수\n",
    "    print(res//a)\n",
    "    \n",
    "    \n"
   ]
  },
  {
   "cell_type": "code",
   "execution_count": 10,
   "metadata": {},
   "outputs": [
    {
     "name": "stdout",
     "output_type": "stream",
     "text": [
      "31 35\n"
     ]
    }
   ],
   "source": [
    "# 분수 합\n",
    "import sys\n",
    "input = sys.stdin.readline\n",
    "\n",
    "a,b = map(int,input().split())\n",
    "c,d = map(int,input().split())\n",
    "#2/7 + 3/5 = (21+10)/35\n",
    "\n",
    "x = (a*d)+(c*b)\n",
    "y = b*d\n",
    "u, d = x, y\n",
    "\n",
    "# GCD\n",
    "while y:\n",
    "    x,y = y, x%y\n",
    "\n",
    "# 정답\n",
    "print(u//x, d//x)\n",
    "\n"
   ]
  }
 ],
 "metadata": {
  "kernelspec": {
   "display_name": "Python 3",
   "language": "python",
   "name": "python3"
  },
  "language_info": {
   "codemirror_mode": {
    "name": "ipython",
    "version": 3
   },
   "file_extension": ".py",
   "mimetype": "text/x-python",
   "name": "python",
   "nbconvert_exporter": "python",
   "pygments_lexer": "ipython3",
   "version": "3.11.5"
  }
 },
 "nbformat": 4,
 "nbformat_minor": 2
}
