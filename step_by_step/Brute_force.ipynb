{
 "cells": [
  {
   "cell_type": "markdown",
   "metadata": {},
   "source": [
    "- 브루트포스란 모든 경우의 수를 검사하는 단순한 기법을 말한다"
   ]
  },
  {
   "cell_type": "code",
   "execution_count": 19,
   "metadata": {},
   "outputs": [
    {
     "name": "stdout",
     "output_type": "stream",
     "text": [
      "21\n"
     ]
    }
   ],
   "source": [
    "# 블랙잭\n",
    "# 카드수, 합\n",
    "n, m = map(int, input().split())\n",
    "nlist = list(map(int, input().split()))\n",
    "\n",
    "ans = 0\n",
    "for i in range(n):\n",
    "    for j in range(i+1, n):\n",
    "        for k in range(j+1, n):\n",
    "            if nlist[i] + nlist[j] + nlist[k] > m:\n",
    "                continue\n",
    "            else:\n",
    "                ans = max(ans, nlist[i] + nlist[j] + nlist[k])\n",
    "print(ans)"
   ]
  },
  {
   "cell_type": "code",
   "execution_count": 35,
   "metadata": {},
   "outputs": [
    {
     "name": "stdout",
     "output_type": "stream",
     "text": [
      "198\n"
     ]
    }
   ],
   "source": [
    "# 분해합\n",
    "\n",
    "n = int(input())\n",
    "ans = 0\n",
    "# 시작 지점을 계산해서 시간을 줄인다\n",
    "start =  n - (9*len(str(n)))\n",
    "if start <= -1:\n",
    "    start = 1\n",
    "for i in range(start, n+1):\n",
    "    if n == (i + sum(map(int, str(i)))):\n",
    "        ans = i\n",
    "        break\n",
    "print(ans)"
   ]
  },
  {
   "cell_type": "code",
   "execution_count": 36,
   "metadata": {},
   "outputs": [
    {
     "name": "stdout",
     "output_type": "stream",
     "text": [
      "2 -1\n"
     ]
    }
   ],
   "source": [
    "# 수학은 비대면강의입니다\n",
    "# 크래머의 법칙이란것도 있다.\n",
    "# x = (c*e - b*f) / (a*e - b*d)\n",
    "# y = (a*f - c*d) / (a*e - b*d)\n",
    "a,b,c,d,e,f = map(int, input().split())\n",
    "\n",
    "for x in range(-999, 1000):\n",
    "    for y in range(-999, 1000):\n",
    "        if (a*x) + (b*y) == c:\n",
    "            if (d*x) + (e*y) == f:\n",
    "                print(x, y)\n",
    "                break\n",
    "            "
   ]
  }
 ],
 "metadata": {
  "kernelspec": {
   "display_name": "Python 3",
   "language": "python",
   "name": "python3"
  },
  "language_info": {
   "codemirror_mode": {
    "name": "ipython",
    "version": 3
   },
   "file_extension": ".py",
   "mimetype": "text/x-python",
   "name": "python",
   "nbconvert_exporter": "python",
   "pygments_lexer": "ipython3",
   "version": "3.11.5"
  }
 },
 "nbformat": 4,
 "nbformat_minor": 2
}
