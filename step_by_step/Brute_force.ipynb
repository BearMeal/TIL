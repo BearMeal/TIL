{
 "cells": [
  {
   "cell_type": "markdown",
   "metadata": {},
   "source": [
    "- 브루트포스란 모든 경우의 수를 검사하는 단순한 기법을 말한다"
   ]
  },
  {
   "cell_type": "code",
   "execution_count": 19,
   "metadata": {},
   "outputs": [
    {
     "name": "stdout",
     "output_type": "stream",
     "text": [
      "21\n"
     ]
    }
   ],
   "source": [
    "# 블랙잭\n",
    "# 카드수, 합\n",
    "n, m = map(int, input().split())\n",
    "nlist = list(map(int, input().split()))\n",
    "\n",
    "ans = 0\n",
    "for i in range(n):\n",
    "    for j in range(i+1, n):\n",
    "        for k in range(j+1, n):\n",
    "            if nlist[i] + nlist[j] + nlist[k] > m:\n",
    "                continue\n",
    "            else:\n",
    "                ans = max(ans, nlist[i] + nlist[j] + nlist[k])\n",
    "print(ans)"
   ]
  },
  {
   "cell_type": "code",
   "execution_count": 35,
   "metadata": {},
   "outputs": [
    {
     "name": "stdout",
     "output_type": "stream",
     "text": [
      "198\n"
     ]
    }
   ],
   "source": [
    "# 분해합\n",
    "\n",
    "n = int(input())\n",
    "ans = 0\n",
    "# 시작 지점을 계산해서 시간을 줄인다\n",
    "start =  n - (9*len(str(n)))\n",
    "if start <= -1:\n",
    "    start = 1\n",
    "for i in range(start, n+1):\n",
    "    if n == (i + sum(map(int, str(i)))):\n",
    "        ans = i\n",
    "        break\n",
    "print(ans)"
   ]
  },
  {
   "cell_type": "code",
   "execution_count": 36,
   "metadata": {},
   "outputs": [
    {
     "name": "stdout",
     "output_type": "stream",
     "text": [
      "2 -1\n"
     ]
    }
   ],
   "source": [
    "# 수학은 비대면강의입니다\n",
    "# 크래머의 법칙이란것도 있다.\n",
    "# x = (c*e - b*f) / (a*e - b*d)\n",
    "# y = (a*f - c*d) / (a*e - b*d)\n",
    "a,b,c,d,e,f = map(int, input().split())\n",
    "\n",
    "for x in range(-999, 1000):\n",
    "    for y in range(-999, 1000):\n",
    "        if (a*x) + (b*y) == c:\n",
    "            if (d*x) + (e*y) == f:\n",
    "                print(x, y)\n",
    "                break\n",
    "            "
   ]
  },
  {
   "cell_type": "code",
   "execution_count": 103,
   "metadata": {},
   "outputs": [
    {
     "name": "stdout",
     "output_type": "stream",
     "text": [
      "31\n"
     ]
    }
   ],
   "source": [
    "# 체스판 다시 칠하기\n",
    "# 행n, 열m\n",
    "n, m = map(int, input().split())\n",
    "board =[]\n",
    "# board =[\n",
    "#     ['W', 'B', 'W', 'B', 'W', 'B', 'W', 'B', 'W'],\n",
    "#     ['B', 'W', 'B', 'W', 'B', 'W', 'B', 'W', 'B'],\n",
    "#     ['W', 'B', 'W', 'B', 'W', 'B', 'W', 'B', 'W'],\n",
    "#     ['B', 'W', 'B', 'W', 'B', 'W', 'B', 'W', 'B'],\n",
    "#     ['W', 'B', 'W', 'B', 'W', 'B', 'W', 'B', 'W'],\n",
    "#     ['B', 'W', 'B', 'W', 'B', 'W', 'B', 'W', 'B'],\n",
    "#     ['W', 'B', 'W', 'B', 'W', 'B', 'W', 'B', 'W'],\n",
    "#     ['B', 'W', 'B', 'W', 'B', 'W', 'B', 'W', 'B'],\n",
    "#     ['B', 'W', 'B', 'W', 'B', 'W', 'B', 'W', 'W']]\n",
    "\n",
    "for i in range(n):\n",
    "    line = input()\n",
    "    board.append([i for i in line])\n",
    "# print(board)\n",
    "\n",
    "cnts = []\n",
    "ndist = n-8\n",
    "mdist = m-8\n",
    "\n",
    "# sol) 가능한 시작점 뽑아서 순서대로 검사한다\n",
    "# 흑으로 시작할경우, 백으로 시작할경우를 따로 검사해봐야한다\n",
    "\n",
    "# print(ndist, mdist)\n",
    "for i in range(ndist+1):\n",
    "    for j in range(mdist+1):\n",
    "        # 시작위치 확인\n",
    "        # print(i,j)\n",
    "        # B로싲가하는경우\n",
    "        cnt = 0\n",
    "        start = 'B'\n",
    "        for k in board[i:i+8]:\n",
    "            # 시작점에서 행순으로 확인\n",
    "            # print(k[j:j+8])\n",
    "            for l in k[j:j+8]:\n",
    "                if l != start:\n",
    "                    cnt += 1\n",
    "                    \n",
    "                if start=='B':\n",
    "                    start = 'W'\n",
    "                else: \n",
    "                    start = 'B'\n",
    "            if start=='B':\n",
    "                start = 'W'\n",
    "            else: \n",
    "                start = 'B'\n",
    "        cnts.append(cnt)\n",
    "        \n",
    "        # W로 시작하는경우\n",
    "        cnt = 0\n",
    "        start = 'W'\n",
    "        for k in board[i:i+8]:\n",
    "            for l in k[j:j+8]:\n",
    "                if l != start:\n",
    "                    cnt += 1\n",
    "                    \n",
    "                if start=='B':\n",
    "                    start = 'W'\n",
    "                else: \n",
    "                    start = 'B'\n",
    "            if start=='B':\n",
    "                start = 'W'\n",
    "            else: \n",
    "                start = 'B'\n",
    "        cnts.append(cnt)\n",
    "                \n",
    "                \n",
    "if len(cnts) != 0:\n",
    "    print(min(cnts))\n",
    "else:\n",
    "    print(0)\n",
    "    \n",
    "    "
   ]
  }
 ],
 "metadata": {
  "kernelspec": {
   "display_name": "Python 3",
   "language": "python",
   "name": "python3"
  },
  "language_info": {
   "codemirror_mode": {
    "name": "ipython",
    "version": 3
   },
   "file_extension": ".py",
   "mimetype": "text/x-python",
   "name": "python",
   "nbconvert_exporter": "python",
   "pygments_lexer": "ipython3",
   "version": "3.11.5"
  }
 },
 "nbformat": 4,
 "nbformat_minor": 2
}
