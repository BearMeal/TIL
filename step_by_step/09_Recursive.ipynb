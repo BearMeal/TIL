{
 "cells": [
  {
   "cell_type": "markdown",
   "metadata": {},
   "source": [
    "# recursive\n",
    "- 함수안에서 함수를 호출하는 재귀적인 구조를 활용해 문제를 해결한다"
   ]
  },
  {
   "cell_type": "code",
   "execution_count": 28,
   "metadata": {},
   "outputs": [
    {
     "name": "stdout",
     "output_type": "stream",
     "text": [
      "120\n"
     ]
    }
   ],
   "source": [
    "# 팩토리얼2\n",
    "import sys\n",
    "sys.setrecursionlimit(10**8)\n",
    "\n",
    "n = int(input())\n",
    "memo = {}\n",
    "def fac(n):\n",
    "    if n == 0:\n",
    "        return 1\n",
    "    if n in memo:\n",
    "        return memo[n]\n",
    "    \n",
    "    memo[n] = n*fac(n-1)\n",
    "    return memo[n]\n",
    "\n",
    "# print(memo)\n",
    "print(fac(n))\n"
   ]
  },
  {
   "cell_type": "code",
   "execution_count": 9,
   "metadata": {},
   "outputs": [
    {
     "name": "stdout",
     "output_type": "stream",
     "text": [
      "63245986\n"
     ]
    }
   ],
   "source": [
    "# 피보나치 5\n",
    "\n",
    "n = int(input())\n",
    "\n",
    "memo = {}\n",
    "def fibo(n):\n",
    "    if n == 0:\n",
    "        return 0\n",
    "    if n == 1 or n==2:\n",
    "        return 1\n",
    "    \n",
    "    if n in memo:\n",
    "        return memo[n]\n",
    "\n",
    "    memo[n] = fibo(n-1) + fibo(n-2)\n",
    "    return memo[n]\n",
    "    \n",
    "print(fibo(n))"
   ]
  },
  {
   "cell_type": "code",
   "execution_count": 17,
   "metadata": {},
   "outputs": [
    {
     "name": "stdout",
     "output_type": "stream",
     "text": [
      "(1, 2)\n",
      "(1, 3)\n",
      "(1, 3)\n",
      "(0, 2)\n"
     ]
    }
   ],
   "source": [
    "# 재귀의 귀재\n",
    "import sys\n",
    "input = sys.stdin.readline\n",
    "\n",
    "def recursion(s, l, r):\n",
    "    if l >= r:\n",
    "        return print(1, l+1)\n",
    "    elif s[l] != s[r]:\n",
    "        return print(0, l+1)\n",
    "    else:\n",
    "        return recursion(s, l+1, r-1)\n",
    "\n",
    "def isPalindrome(s):\n",
    "    return recursion(s, 0, len(s)-1)\n",
    "\n",
    "# print('ABBA:', isPalindrome('ABBA'))\n",
    "# print('ABC:', isPalindrome('ABC'))\n",
    "# print('AAA:', isPalindrome('AAA'))\n",
    "# print('PALINDROME:', isPalindrome('PALINDROME'))\n",
    "\n",
    "t = int(input())\n",
    "\n",
    "for _ in range(t):\n",
    "    a = input().rstrip()\n",
    "    isPalindrome(a)\n"
   ]
  },
  {
   "cell_type": "code",
   "execution_count": 59,
   "metadata": {},
   "outputs": [
    {
     "name": "stdout",
     "output_type": "stream",
     "text": [
      "-1\n"
     ]
    }
   ],
   "source": [
    "# 알고리즘수업 - 병합정렬\n",
    "import sys\n",
    "input = sys.stdin.readline\n",
    "\n",
    "# 배열크기, 저장횟수(비교후 정렬이 진행될때 바뀌는것을 cnt하면됨)\n",
    "a, b= map(int, input().split())\n",
    "nlist = list(map(int, input().split()))\n",
    "# nlist = [4,5,1,3,2]\n",
    "cnt = 0\n",
    "\n",
    "def merge_sort(nlist):\n",
    "    global cnt, b\n",
    "    if len(nlist) <= 1:\n",
    "        return\n",
    "    \n",
    "    # 여기서 중간값을 나누는 기준이 중요하다.\n",
    "    # 정렬되는 순서가 바뀌는데 \n",
    "    # 이는 언어의 특성에 따라 다르기 때문에 주의\n",
    "    if len(nlist)% 2 == 0: # 짝수일때는 딱반\n",
    "        mid = (len(nlist)//2)\n",
    "    else:      # 홀수일때는 중간에서 반올림\n",
    "        mid = (len(nlist)//2)+1\n",
    "    # print(mid)\n",
    "    \n",
    "    left = nlist[:mid]\n",
    "    right = nlist[mid:]\n",
    "    \n",
    "    # print(left, right)\n",
    "    merge_sort(left)\n",
    "    merge_sort(right)\n",
    "\n",
    "    i=j=k=0\n",
    "    \n",
    "    while i<len(left) and j<len(right):\n",
    "        if left[i]>right[j]:\n",
    "            nlist[k] = right[j]\n",
    "            j+=1\n",
    "            cnt +=1\n",
    "            if cnt ==b:\n",
    "                print(nlist[k])\n",
    "                return\n",
    "        else:\n",
    "            nlist[k] = left[i]\n",
    "            i+=1\n",
    "            cnt +=1\n",
    "            if cnt ==b:\n",
    "                print(nlist[k])\n",
    "                return\n",
    "        k+=1\n",
    "    \n",
    "    while i<len(left):\n",
    "        nlist[k] = left[i]\n",
    "        i+=1\n",
    "        cnt +=1\n",
    "        if cnt ==b:\n",
    "            print(nlist[k])\n",
    "            return\n",
    "        k+=1\n",
    "        \n",
    "    \n",
    "    while j<len(right):\n",
    "        nlist[k] = right[j]\n",
    "        j+=1\n",
    "        cnt +=1\n",
    "        if cnt ==b:\n",
    "            print(nlist[k])\n",
    "            return\n",
    "        k+=1\n",
    "    # print(nlist )\n",
    "\n",
    "merge_sort(nlist)\n",
    "# print(nlist)\n",
    "if cnt < b:\n",
    "    print(-1)"
   ]
  },
  {
   "cell_type": "code",
   "execution_count": 198,
   "metadata": {},
   "outputs": [
    {
     "name": "stdout",
     "output_type": "stream",
     "text": [
      "- -\n",
      "- -   - -\n",
      "- -   - -         - -   - -\n",
      "- -   - -         - -   - -                           - -   - -         - -   - -\n"
     ]
    },
    {
     "ename": "ValueError",
     "evalue": "invalid literal for int() with base 10: ''",
     "output_type": "error",
     "traceback": [
      "\u001b[1;31m---------------------------------------------------------------------------\u001b[0m",
      "\u001b[1;31mValueError\u001b[0m                                Traceback (most recent call last)",
      "Cell \u001b[1;32mIn[198], line 19\u001b[0m\n\u001b[0;32m     17\u001b[0m \u001b[38;5;28;01mwhile\u001b[39;00m \u001b[38;5;28;01mTrue\u001b[39;00m:\n\u001b[0;32m     18\u001b[0m     \u001b[38;5;28;01mtry\u001b[39;00m:\n\u001b[1;32m---> 19\u001b[0m         n \u001b[38;5;241m=\u001b[39m \u001b[38;5;28;43mint\u001b[39;49m\u001b[43m(\u001b[49m\u001b[38;5;28;43minput\u001b[39;49m\u001b[43m(\u001b[49m\u001b[43m)\u001b[49m\u001b[43m)\u001b[49m\n\u001b[0;32m     20\u001b[0m         \u001b[38;5;28mprint\u001b[39m(recur(n))\n\u001b[0;32m     21\u001b[0m     \u001b[38;5;28;01mexcept\u001b[39;00m \u001b[38;5;167;01mEOFError\u001b[39;00m:\n",
      "\u001b[1;31mValueError\u001b[0m: invalid literal for int() with base 10: ''"
     ]
    }
   ],
   "source": [
    "# 칸토어 집합\n",
    "\n",
    "# 3^n개의 '-'가 존재\n",
    "def recur(n):\n",
    "    if n == 0: \n",
    "        return '-'\n",
    "    return recur(n-1) + ' '*(3**(n-1)) + recur(n-1)\n",
    "\n",
    "# print(len(recur(n)))\n",
    "\n",
    "# print([3**i for i in range(1,6)])\n",
    "# a= 81\n",
    "# print(a/3, (a/3)*2)\n",
    "# len('- -   - -')\n",
    "# len('- -   - -         - -   - -')\n",
    "\n",
    "while True:\n",
    "    try:\n",
    "        n = int(input())\n",
    "        print(recur(n))\n",
    "    except EOFError:\n",
    "        break"
   ]
  }
 ],
 "metadata": {
  "kernelspec": {
   "display_name": "Python 3",
   "language": "python",
   "name": "python3"
  },
  "language_info": {
   "codemirror_mode": {
    "name": "ipython",
    "version": 3
   },
   "file_extension": ".py",
   "mimetype": "text/x-python",
   "name": "python",
   "nbconvert_exporter": "python",
   "pygments_lexer": "ipython3",
   "version": "3.11.5"
  }
 },
 "nbformat": 4,
 "nbformat_minor": 2
}
