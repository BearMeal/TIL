{
 "cells": [
  {
   "cell_type": "code",
   "execution_count": null,
   "metadata": {},
   "outputs": [],
   "source": [
    "# 직사각형\n",
    " \n",
    "a = int(input())\n",
    "b = int(input())\n",
    "\n",
    "print(a*b)"
   ]
  },
  {
   "cell_type": "code",
   "execution_count": 6,
   "metadata": {},
   "outputs": [
    {
     "name": "stdout",
     "output_type": "stream",
     "text": [
      "601 161 194 181\n",
      "161\n"
     ]
    }
   ],
   "source": [
    "# 직사각형에서 탈출\n",
    "\n",
    "x, y, w, h = map(int, input().split())\n",
    "\n",
    "a = abs(w - x)\n",
    "c = abs(h - y)\n",
    "ans = 1001\n",
    "\n",
    "ans = min(x,y,a,c,ans)\n",
    "\n",
    "print(ans)\n",
    "    "
   ]
  },
  {
   "cell_type": "code",
   "execution_count": 4,
   "metadata": {},
   "outputs": [
    {
     "name": "stdout",
     "output_type": "stream",
     "text": [
      "[5, 5, 7]\n",
      "[5, 7, 5]\n",
      "7 7\n"
     ]
    }
   ],
   "source": [
    "# 네번째 점\n",
    "\n",
    "# 같은 x, y가 두개씩 나와야 축에 평행한 변을가진 사각형이 된다\n",
    "\n",
    "xlst =[]\n",
    "ylst =[]\n",
    "for i in range(3):\n",
    "    x, y = map(int, input().split())\n",
    "    xlst.append(x)\n",
    "    ylst.append(y)\n",
    "    \n",
    "    \n",
    "# print(xlst)\n",
    "# print(ylst)\n",
    "x=0\n",
    "y=0\n",
    "for i in range(len(xlst)):\n",
    "    if xlst.count(xlst[i]) == 1:\n",
    "        x = xlst[i]\n",
    "    if ylst.count(ylst[i]) == 1:\n",
    "        y = ylst[i]\n",
    "    \n",
    "print(x,y)\n",
    "    "
   ]
  },
  {
   "cell_type": "code",
   "execution_count": 7,
   "metadata": {},
   "outputs": [
    {
     "name": "stdout",
     "output_type": "stream",
     "text": [
      "12\n"
     ]
    }
   ],
   "source": [
    "# 수학은 체육과목입니다\n",
    "\n",
    "n = int(input())\n",
    "\n",
    "print(n*4)"
   ]
  },
  {
   "cell_type": "code",
   "execution_count": 3,
   "metadata": {},
   "outputs": [
    {
     "name": "stdout",
     "output_type": "stream",
     "text": [
      "9\n"
     ]
    }
   ],
   "source": [
    "# 대지\n",
    "\n",
    "n = int(input())\n",
    "\n",
    "points = []\n",
    "xmin = 10001\n",
    "xmax = -10001\n",
    "ymin = 10001\n",
    "ymax = -10001\n",
    "for i in range(n):\n",
    "    p = list(map(int, input().split()))\n",
    "    xmin = min(xmin, p[0])\n",
    "    xmax = max(xmax, p[0])\n",
    "    ymin = min(ymin, p[1])\n",
    "    ymax = max(ymax, p[1])\n",
    "    \n",
    "    points.append(p)\n",
    "\n",
    "if n <= 1:\n",
    "    print(0)\n",
    "else:\n",
    "    if xmin != xmax and ymin !=ymax:\n",
    "        x = xmax - xmin\n",
    "        y = ymax - ymin\n",
    "        print(x*y)\n",
    "    else:\n",
    "        print(0)\n",
    "    \n"
   ]
  },
  {
   "cell_type": "code",
   "execution_count": 8,
   "metadata": {},
   "outputs": [
    {
     "name": "stdout",
     "output_type": "stream",
     "text": [
      "Scalene\n"
     ]
    }
   ],
   "source": [
    "# 삼각형 외우기\n",
    "# 세 각의 크기가 모두 60이면, Equilateral\n",
    "# 세 각의 합이 180이고, 두 각이 같은 경우에는 Isosceles\n",
    "# 세 각의 합이 180이고, 같은 각이 없는 경우에는 Scalene\n",
    "# 세 각의 합이 180이 아닌 경우에는 Error\n",
    "\n",
    "n = [ int(input()) for _ in range(3) ]\n",
    "\n",
    "if sum(n) == 180:\n",
    "    if len(set(n)) == 1:\n",
    "        print('Equilateral')\n",
    "    elif len(set(n)) == 2:\n",
    "        print('Isosceles')\n",
    "    else:\n",
    "        print('Scalene')\n",
    "else:\n",
    "    print('Error')\n"
   ]
  },
  {
   "cell_type": "code",
   "execution_count": 15,
   "metadata": {},
   "outputs": [
    {
     "name": "stdout",
     "output_type": "stream",
     "text": [
      "Equilateral\n",
      "Scalene\n",
      "Invalid\n",
      "Isosceles\n"
     ]
    }
   ],
   "source": [
    "# 삼각형과 세변\n",
    "# Equilateral :  세 변의 길이가 모두 같은 경우\n",
    "# Isosceles : 두 변의 길이만 같은 경우\n",
    "# Scalene : 세 변의 길이가 모두 다른 경우\n",
    "# 조건을 만족하지 못하는 경우에는 \"Invalid\"\n",
    "\n",
    "while True:\n",
    "    a,b,c = map(int, input().split())\n",
    "    \n",
    "    if a==b==c==0:\n",
    "        break\n",
    "    elif (sum([a,b,c]) - max([a,b,c])) <= max([a,b,c]):\n",
    "        print('Invalid')\n",
    "    elif a==b==c: \n",
    "        print('Equilateral')\n",
    "    elif a==b or b==c or a==c:\n",
    "        print('Isosceles')\n",
    "    elif a!=b!=c:\n",
    "        print('Scalene')\n",
    "        "
   ]
  },
  {
   "cell_type": "code",
   "execution_count": 33,
   "metadata": {},
   "outputs": [
    {
     "name": "stdout",
     "output_type": "stream",
     "text": [
      "113\n"
     ]
    }
   ],
   "source": [
    "# 세막대\n",
    "\n",
    "lst = list(map(int, input().split()))\n",
    "\n",
    "if (sum(lst) - max(lst)) <= max(lst):\n",
    "    print(sum(lst)-max(lst)+ sum(lst)-max(lst) -1)\n",
    "else:\n",
    "    print(sum(lst))"
   ]
  }
 ],
 "metadata": {
  "kernelspec": {
   "display_name": "Python 3",
   "language": "python",
   "name": "python3"
  },
  "language_info": {
   "codemirror_mode": {
    "name": "ipython",
    "version": 3
   },
   "file_extension": ".py",
   "mimetype": "text/x-python",
   "name": "python",
   "nbconvert_exporter": "python",
   "pygments_lexer": "ipython3",
   "version": "3.11.5"
  }
 },
 "nbformat": 4,
 "nbformat_minor": 2
}
