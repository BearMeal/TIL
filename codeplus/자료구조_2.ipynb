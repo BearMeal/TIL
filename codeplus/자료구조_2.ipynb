{
 "cells": [
  {
   "cell_type": "code",
   "execution_count": 30,
   "metadata": {},
   "outputs": [
    {
     "name": "stdout",
     "output_type": "stream",
     "text": [
      "6.20\n"
     ]
    }
   ],
   "source": [
    "#후위 표기식2\n",
    "n = int(input())\n",
    "postfix = input()\n",
    "# postfix = 'ABC*+DE/-'\n",
    "\n",
    "stack =[ ]\n",
    "num_dict ={}\n",
    "\n",
    "for i in postfix:\n",
    "    # print(i, stack)\n",
    "    if i.isalpha() and i not in num_dict :\n",
    "        num_dict[i] = int(input())\n",
    "        stack.append(num_dict[i])\n",
    "    elif i in num_dict:\n",
    "        stack.append(num_dict[i])\n",
    "    else:\n",
    "        back = stack.pop()\n",
    "        front = stack.pop()\n",
    "        \n",
    "        if i == '+':\n",
    "            stack.append( front + back)   \n",
    "        if i == '-':\n",
    "            stack.append( front - back)   \n",
    "        if i == '*':\n",
    "            stack.append( front * back)   \n",
    "        if i == '/':\n",
    "            stack.append( front / back)   \n",
    "    \n",
    "\n",
    "print(f'{stack[0]:.2f}')"
   ]
  },
  {
   "cell_type": "code",
   "execution_count": 52,
   "metadata": {},
   "outputs": [
    {
     "name": "stdout",
     "output_type": "stream",
     "text": [
      "A [] \n",
      "* [] A\n",
      "( ['*'] A\n",
      "B ['*', '('] A\n",
      "* ['*', '('] AB\n",
      "C ['*', '(', '*'] AB\n",
      ") ['*', '(', '*'] ABC\n",
      "ABC**\n"
     ]
    }
   ],
   "source": [
    "# 후위 표기식\n",
    "postfix = input()\n",
    "# postfix = 'A*(B*C)'  #'A*(B+C)'  # abc+* A+B*C-D/E\n",
    "# A*(B+C)/D => ABC+*D/\n",
    "# A+(B-C)/D => ABC-D/+\n",
    "stack = []\n",
    "result = ''\n",
    "\n",
    "for i in postfix:\n",
    "    # print(i,stack, result)\n",
    "    if i.isalpha():\n",
    "        result += i\n",
    "    elif i=='(':\n",
    "        stack.append(i)\n",
    "    elif i==')':\n",
    "        while stack:\n",
    "            if stack[-1]!='(':\n",
    "                result+=stack.pop()\n",
    "            else:\n",
    "                stack.pop()\n",
    "                break \n",
    "    elif i=='*' or i=='/':\n",
    "        while stack:\n",
    "            if stack[-1]=='(':\n",
    "                break\n",
    "                # stack.pop()\n",
    "            elif stack[-1]=='*' or stack[-1]=='/':\n",
    "                result+=stack.pop()\n",
    "            else: \n",
    "                break\n",
    "        stack.append(i)\n",
    "    elif i=='+' or i=='-':\n",
    "        while stack:\n",
    "            if stack[-1]!='(':\n",
    "                result+=stack.pop()\n",
    "            else:\n",
    "                # stack.pop()\n",
    "                break\n",
    "        stack.append(i)\n",
    "        \n",
    "        \n",
    "while stack:\n",
    "    result += stack.pop()\n",
    "print(result)\n"
   ]
  },
  {
   "cell_type": "code",
   "execution_count": 43,
   "metadata": {},
   "outputs": [
    {
     "name": "stdout",
     "output_type": "stream",
     "text": [
      "1 1 0 0 1 0 0 0 0 1 1 0 0 1 2 0 0 0 0 0 0 0 0 0 0 0\n"
     ]
    }
   ],
   "source": [
    "# 알파벳 개수\n",
    "word = input()\n",
    "# word = 'az'\n",
    "a_list = [ 0 for i in range(26)]\n",
    "for i in word:\n",
    "    a_list[ord(i)-97]+=1\n",
    "    \n",
    "print(' '.join(map(str,a_list)))"
   ]
  },
  {
   "cell_type": "code",
   "execution_count": 1,
   "metadata": {},
   "outputs": [
    {
     "name": "stdout",
     "output_type": "stream",
     "text": [
      "0 0 0 0\n",
      "12 0 0 4\n"
     ]
    }
   ],
   "source": [
    "# 문자열 분석\n",
    "# try-except 말고 if not line break로 해도 됨\n",
    "while True:\n",
    "    try:\n",
    "        line = input()    \n",
    "        # line =  'This is String'\n",
    "        result = [0 for i in range(4)]\n",
    "        for i in line:\n",
    "            if i.isupper():\n",
    "                result[1] +=1\n",
    "            elif i.islower():\n",
    "                result[0] +=1\n",
    "            elif i.isdigit():\n",
    "                result[2] +=1\n",
    "            elif i.isspace():\n",
    "                result[3] +=1\n",
    "        print(' '.join(map(str,result)))\n",
    "    except EOFError:\n",
    "        break\n"
   ]
  },
  {
   "cell_type": "code",
   "execution_count": 18,
   "metadata": {},
   "outputs": [
    {
     "name": "stdout",
     "output_type": "stream",
     "text": [
      "Onrxwbba Bayvar Whqtr\n"
     ]
    }
   ],
   "source": [
    "# ROT13\n",
    "line = input()\n",
    "# line = 'Baekjoon Online Judge'\n",
    "result =''\n",
    "\n",
    "# print(ord('A'),ord('Z'))\n",
    "# print(ord('a'),ord('z'))\n",
    "\n",
    "# chr(ord('n')+13)\n",
    "# ord('n')+13-26\n",
    "for i in line:\n",
    "    if i.isupper():\n",
    "        if ord(i)+13 >=91:\n",
    "            result += chr(ord(i)+13-26)\n",
    "            continue\n",
    "        result += chr(ord(i)+13)\n",
    "    elif i.islower():\n",
    "        if ord(i)+13 >=123:\n",
    "            result += chr(ord(i)+13-26)\n",
    "            continue\n",
    "        result += chr(ord(i)+13)\n",
    "    else:\n",
    "        result += i\n",
    "        \n",
    "print(result)\n",
    "        "
   ]
  },
  {
   "cell_type": "code",
   "execution_count": 3,
   "metadata": {},
   "outputs": [
    {
     "name": "stdout",
     "output_type": "stream",
     "text": [
      "4060\n"
     ]
    }
   ],
   "source": [
    "# 네 수\n",
    "a,b,c,d = map(str,input().split())\n",
    "print(int(a+b)+int(c+d))"
   ]
  },
  {
   "cell_type": "code",
   "execution_count": 16,
   "metadata": {},
   "outputs": [
    {
     "name": "stdout",
     "output_type": "stream",
     "text": [
      "aekjoon\n",
      "baekjoon\n",
      "ekjoon\n",
      "joon\n",
      "kjoon\n",
      "n\n",
      "on\n",
      "oon\n"
     ]
    }
   ],
   "source": [
    "# 접미사 배열 \n",
    "s =input()\n",
    "suffix = []\n",
    "for i in range(len(s)):\n",
    "    suffix.append(s[i:])\n",
    "print('\\n'.join(map(str,sorted(suffix))))"
   ]
  }
 ],
 "metadata": {
  "kernelspec": {
   "display_name": "Python 3",
   "language": "python",
   "name": "python3"
  },
  "language_info": {
   "codemirror_mode": {
    "name": "ipython",
    "version": 3
   },
   "file_extension": ".py",
   "mimetype": "text/x-python",
   "name": "python",
   "nbconvert_exporter": "python",
   "pygments_lexer": "ipython3",
   "version": "3.10.11"
  }
 },
 "nbformat": 4,
 "nbformat_minor": 2
}
