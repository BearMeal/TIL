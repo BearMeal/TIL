{
 "cells": [
  {
   "cell_type": "code",
   "execution_count": null,
   "metadata": {},
   "outputs": [],
   "source": [
    "# 트리순회\n",
    "# 이진트리, 전위, 중위,후위 순회 결과를 출력\n",
    "# 아이디어가 떠오르지 않아서 답을 보았다. 전위순회만 보고 나머지는 참고해서 직접 작성했다\n",
    "#노드수\n",
    "n = int(input())\n",
    "\n",
    "# n = 7\n",
    "# lst = [['A' ,'B', 'C'],\n",
    "# ['B' ,'D' ,'.'],\n",
    "# ['C' ,'E', 'F'],\n",
    "# ['E' ,'.' ,'.'],\n",
    "# ['F', '.', 'G'],\n",
    "# ['D', '.', '.'],\n",
    "# ['G', '.', '.']]\n",
    "\n",
    "tree = {}\n",
    "\n",
    "class Node:\n",
    "    def __init__(self, data, left_node, right_node):\n",
    "        self.data = data\n",
    "        self.left_node = left_node\n",
    "        self.right_node = right_node\n",
    "        \n",
    "def pre_order(node):\n",
    "    print(node.data, end='') \n",
    "    if node.left_node != '.':\n",
    "        pre_order(tree[node.left_node])\n",
    "    if node.right_node != '.':\n",
    "        pre_order(tree[node.right_node])\n",
    "\n",
    "# 트리안의 클래스 객체를 함수매개변수로 받아와서 정보를 본다\n",
    "def in_order(node):\n",
    "    if node.left_node != '.':\n",
    "        in_order(tree[node.left_node])\n",
    "    print(node.data, end='')\n",
    "    if node.right_node != '.':\n",
    "        in_order(tree[node.right_node])\n",
    "\n",
    "def post_order(node):\n",
    "    if node.left_node != '.':\n",
    "        post_order(tree[node.left_node])\n",
    "    if node.right_node != '.':\n",
    "        post_order(tree[node.right_node])\n",
    "    print(node.data, end='')\n",
    "\n",
    "for i in range(n):\n",
    "    # data, left_node, right_node = lst[i]\n",
    "    data, left_node, right_node = input().split()\n",
    "    tree[data] = Node(data, left_node, right_node)\n",
    "\n",
    "pre_order(tree['A'])\n",
    "print()\n",
    "in_order(tree['A'])\n",
    "print()\n",
    "post_order(tree['A'])\n"
   ]
  },
  {
   "cell_type": "code",
   "execution_count": 34,
   "metadata": {},
   "outputs": [
    {
     "name": "stdout",
     "output_type": "stream",
     "text": [
      "[[], [2, 3], [1, 4], [1, 5, 6], [2, 7, 8], [3, 9, 10], [3, 11, 12], [4], [4], [5], [5], [6], [6]]\n",
      "[0, 1, 1, 1, 2, 3, 3, 4, 4, 5, 5, 6, 6]\n"
     ]
    }
   ],
   "source": [
    "# 트리의 부모 찾기\n",
    "# dfs도 되고 bfs도된다\n",
    "# 깊이가 깊을때는 dfs가 더 효율적\n",
    "\n",
    "# 노드 수\n",
    "from collections import deque\n",
    "import sys\n",
    "sys.setrecursionlimit(1000000)\n",
    "input = sys.stdin.readline\n",
    "n = int(input())\n",
    "\n",
    "graph = [[] for _ in range(n+1)]\n",
    "\n",
    "\n",
    "for i in range(n-1):\n",
    "    # 연결여부\n",
    "    a, b = map(int, input().split())\n",
    "    graph[b].append(a)\n",
    "    graph[a].append(b)\n",
    "    \n",
    "# print(graph)  \n",
    "\n",
    "visited = [0 for _ in range(n+1)]\n",
    "visited[1] = 1\n",
    "\n",
    "def dfs(start):\n",
    "    for i in graph[start]:\n",
    "        if visited[i] == 0:\n",
    "            visited[i] = start\n",
    "            dfs(i)\n",
    "\n",
    "dfs(1)\n",
    "\n",
    "\n",
    "for i in visited[2:]:\n",
    "    print(i)\n",
    "    "
   ]
  },
  {
   "cell_type": "code",
   "execution_count": 37,
   "metadata": {},
   "outputs": [
    {
     "ename": "SyntaxError",
     "evalue": "invalid syntax (4181998814.py, line 5)",
     "output_type": "error",
     "traceback": [
      "\u001b[1;36m  Cell \u001b[1;32mIn[37], line 5\u001b[1;36m\u001b[0m\n\u001b[1;33m    graph [[] for _ in range(n+1)]\u001b[0m\n\u001b[1;37m              ^\u001b[0m\n\u001b[1;31mSyntaxError\u001b[0m\u001b[1;31m:\u001b[0m invalid syntax\n"
     ]
    }
   ],
   "source": [
    "# 트리의 지름\n",
    "\n",
    "#노드 수\n",
    "n = int(input())\n",
    "graph = [[] for _ in range(n+1)]\n",
    "visited = []\n",
    "\n",
    "for i in range(n-1):\n",
    "    # 부모, 해당노드, 가중치 \n",
    "    a, b, c = map(int, input().split()) \n",
    "    graph[a].append((b,c))\n",
    "    graph[b].append((a,c))\n",
    "\n",
    "def dfs(start):\n",
    "    for i in graph[start]: \n",
    "        if visited[i] == 0:\n",
    "            visited[i] = \n",
    "            dfs(i)\n",
    "        \n",
    "dfs(1)\n",
    "    "
   ]
  }
 ],
 "metadata": {
  "kernelspec": {
   "display_name": "Python 3",
   "language": "python",
   "name": "python3"
  },
  "language_info": {
   "codemirror_mode": {
    "name": "ipython",
    "version": 3
   },
   "file_extension": ".py",
   "mimetype": "text/x-python",
   "name": "python",
   "nbconvert_exporter": "python",
   "pygments_lexer": "ipython3",
   "version": "3.10.11"
  }
 },
 "nbformat": 4,
 "nbformat_minor": 2
}
