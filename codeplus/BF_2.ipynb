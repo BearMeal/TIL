{
 "cells": [
  {
   "cell_type": "code",
   "execution_count": 17,
   "metadata": {},
   "outputs": [
    {
     "name": "stdout",
     "output_type": "stream",
     "text": [
      "1 2\n",
      "1 3\n",
      "1 4\n",
      "2 1\n",
      "2 3\n",
      "2 4\n",
      "3 1\n",
      "3 2\n",
      "3 4\n",
      "4 1\n",
      "4 2\n",
      "4 3\n"
     ]
    }
   ],
   "source": [
    "# N과 M (1)\n",
    "\n",
    "# 길이가 n , 중복없이 m개\n",
    "n,m = map(int,input().split())\n",
    "# n,m = 4,2\n",
    "\n",
    "def bt(n,m,lst):\n",
    "    if len(lst) ==m:\n",
    "        return print(' '.join(map(str,lst)))\n",
    "    for i in range(1, n+1):\n",
    "        if i not in lst:\n",
    "            lst.append(i)\n",
    "            bt(n,m,lst)\n",
    "            lst.pop()\n",
    "  \n",
    "bt(n,m,[])\n",
    "    \n"
   ]
  }
 ],
 "metadata": {
  "kernelspec": {
   "display_name": "Python 3",
   "language": "python",
   "name": "python3"
  },
  "language_info": {
   "codemirror_mode": {
    "name": "ipython",
    "version": 3
   },
   "file_extension": ".py",
   "mimetype": "text/x-python",
   "name": "python",
   "nbconvert_exporter": "python",
   "pygments_lexer": "ipython3",
   "version": "3.10.11"
  }
 },
 "nbformat": 4,
 "nbformat_minor": 2
}
