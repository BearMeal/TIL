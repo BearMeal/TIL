{
 "cells": [
  {
   "cell_type": "code",
   "execution_count": 15,
   "metadata": {},
   "outputs": [
    {
     "name": "stdout",
     "output_type": "stream",
     "text": [
      "3\n"
     ]
    }
   ],
   "source": [
    "# 1로 만들기\n",
    "n = int(input())\n",
    "\n",
    "# cnt 저장, 최솟값을 구하기위해 큰수로 초기화\n",
    "dp = [float('inf')]*(n+1)\n",
    "dp[1] =0\n",
    "for i in range(2,n+1):\n",
    "    dp[i] = dp[i-1] + 1\n",
    "    if i % 2 == 0:\n",
    "        dp[i] = min(dp[i], dp[i//2] + 1)\n",
    "    if i % 3 == 0:\n",
    "        dp[i] = min(dp[i],dp[i//3] + 1)\n",
    "    # print(i, dp)\n",
    "print(dp[n])"
   ]
  },
  {
   "cell_type": "code",
   "execution_count": 13,
   "metadata": {},
   "outputs": [
    {
     "name": "stdout",
     "output_type": "stream",
     "text": [
      "2\n"
     ]
    }
   ],
   "source": [
    "# 2xn 타일링\n",
    "n = int(input())\n",
    "\n",
    "if n==1:\n",
    "    print(1)\n",
    "else:\n",
    "    # 타일을 채우는 경우의수\n",
    "    dp = [0]*(n+1)\n",
    "    dp[1] = 1\n",
    "    dp[2] = 2\n",
    "    # 1,2,3,5,8\n",
    "    for i in range(3,n+1):\n",
    "        dp[i] = dp[i-1] +dp[i-2]\n",
    "\n",
    "    print(dp[n]%10007) \n",
    "\n"
   ]
  },
  {
   "cell_type": "code",
   "execution_count": 33,
   "metadata": {},
   "outputs": [
    {
     "name": "stdout",
     "output_type": "stream",
     "text": [
      "3\n"
     ]
    }
   ],
   "source": [
    "# 타일링_2\n",
    "n = int(input())\n",
    "dp = [0]*(n+1)\n",
    "dp[1] = 1\n",
    "\n",
    "#1,3, 5, 11, 21\n",
    "if n>1:\n",
    "    dp[2] = 3\n",
    "    for i in range(3,n+1):\n",
    "        dp[i] = dp[i-1] + dp[i-2]*2\n",
    "\n",
    "print(dp[n]%10007)\n"
   ]
  },
  {
   "cell_type": "code",
   "execution_count": 69,
   "metadata": {},
   "outputs": [
    {
     "name": "stdout",
     "output_type": "stream",
     "text": [
      "7\n",
      "44\n",
      "274\n"
     ]
    }
   ],
   "source": [
    "# 1,2,3 더하기\n",
    "t = int(input())\n",
    "dp = [0,1,2,4]+[0]*(10)\n",
    "\n",
    "#1,2,4,7,13,24,44 \n",
    "for i in range(4,12):\n",
    "    dp[i] = dp[i-1]+dp[i-2]+dp[i-3]\n",
    "for i in range(t):\n",
    "    print(dp[int(input())])\n"
   ]
  },
  {
   "cell_type": "code",
   "execution_count": 84,
   "metadata": {},
   "outputs": [
    {
     "name": "stdout",
     "output_type": "stream",
     "text": [
      "2 1\n",
      "2 2\n",
      "3 1\n",
      "3 2\n",
      "3 3\n",
      "4 1\n",
      "4 2\n",
      "4 3\n",
      "4 4\n",
      "10\n"
     ]
    }
   ],
   "source": [
    "# 카드 구매하기\n",
    "\n",
    "# dp테이블과 인덱스를 맞추기위해 앞에 0원소 추가\n",
    "n = int(input())\n",
    "nlist =[0] + list(map(int,input().split()))\n",
    "\n",
    "\n",
    "dp =[0]*(n+1)\n",
    "dp[1] = nlist[1]\n",
    "\n",
    "for i in range(2,n+1):\n",
    "    for j in range(1,i+1):\n",
    "        # print(i,j)\n",
    "        # 가능한 경우를 조합 해본다\n",
    "        # ex) 세번째카드팩에서=> 2+1, 1+1+1, 3 \n",
    "        # 누적값으로 계산 되기 때문에 따로 1+1+1의 계산을 하지 않게 된다\n",
    "        if dp[i] > dp[i-j] + nlist[j]:\n",
    "            continue\n",
    "        else:\n",
    "            dp[i] =dp[i-j] + nlist[j]\n",
    "        \n",
    "\n",
    "# print(nlist)\n",
    "print(dp[-1])"
   ]
  },
  {
   "cell_type": "code",
   "execution_count": 21,
   "metadata": {},
   "outputs": [
    {
     "name": "stdout",
     "output_type": "stream",
     "text": [
      "4\n"
     ]
    }
   ],
   "source": [
    "# 카드 구매하기2\n",
    "n = int(input())\n",
    "nlist = [0] + list(map(int,input().split()))\n",
    "\n",
    "# 최대값으로 초기화하고 최소값을 갱신한다\n",
    "dp = [float('inf')]*(n+1)\n",
    "dp[1] = nlist[1]\n",
    "\n",
    "# print(nlist)\n",
    "# i번째 카드팩에서 최소 가격\n",
    "for i in range(2,n+1):\n",
    "    # print(dp)\n",
    "    for j in range(1,i+1):\n",
    "        # print(i,j)\n",
    "        if nlist[i] < dp[i-j] + nlist[j]:\n",
    "            if dp[i] > nlist[i]: \n",
    "                dp[i] = nlist[i]\n",
    "        else:\n",
    "            if dp[i] > dp[i-j] + nlist[j]:\n",
    "                dp[i] = dp[i-j] + nlist[j]\n",
    "        # print(dp)\n",
    "print(dp[-1])\n"
   ]
  },
  {
   "cell_type": "code",
   "execution_count": 69,
   "metadata": {},
   "outputs": [
    {
     "name": "stdout",
     "output_type": "stream",
     "text": [
      "1\n"
     ]
    },
    {
     "ename": "ValueError",
     "evalue": "invalid literal for int() with base 10: ''",
     "output_type": "error",
     "traceback": [
      "\u001b[1;31m---------------------------------------------------------------------------\u001b[0m",
      "\u001b[1;31mValueError\u001b[0m                                Traceback (most recent call last)",
      "\u001b[1;32mc:\\Users\\82105\\Desktop\\알고리즘 기초\\TIL\\codeplus\\DP_1.ipynb 셀 7\u001b[0m line \u001b[0;36m2\n\u001b[0;32m     <a href='vscode-notebook-cell:/c%3A/Users/82105/Desktop/%EC%95%8C%EA%B3%A0%EB%A6%AC%EC%A6%98%20%EA%B8%B0%EC%B4%88/TIL/codeplus/DP_1.ipynb#X10sZmlsZQ%3D%3D?line=18'>19</a>\u001b[0m \u001b[39m# for i in dp:\u001b[39;00m\n\u001b[0;32m     <a href='vscode-notebook-cell:/c%3A/Users/82105/Desktop/%EC%95%8C%EA%B3%A0%EB%A6%AC%EC%A6%98%20%EA%B8%B0%EC%B4%88/TIL/codeplus/DP_1.ipynb#X10sZmlsZQ%3D%3D?line=19'>20</a>\u001b[0m \u001b[39m#     print(i)\u001b[39;00m\n\u001b[0;32m     <a href='vscode-notebook-cell:/c%3A/Users/82105/Desktop/%EC%95%8C%EA%B3%A0%EB%A6%AC%EC%A6%98%20%EA%B8%B0%EC%B4%88/TIL/codeplus/DP_1.ipynb#X10sZmlsZQ%3D%3D?line=22'>23</a>\u001b[0m \u001b[39mfor\u001b[39;00m n \u001b[39min\u001b[39;00m nlist:\n\u001b[1;32m---> <a href='vscode-notebook-cell:/c%3A/Users/82105/Desktop/%EC%95%8C%EA%B3%A0%EB%A6%AC%EC%A6%98%20%EA%B8%B0%EC%B4%88/TIL/codeplus/DP_1.ipynb#X10sZmlsZQ%3D%3D?line=23'>24</a>\u001b[0m     \u001b[39mprint\u001b[39m(\u001b[39msum\u001b[39m(dp[\u001b[39mint\u001b[39;49m(\u001b[39minput\u001b[39;49m())])\u001b[39m%\u001b[39m\u001b[39m1000000009\u001b[39m)\n",
      "\u001b[1;31mValueError\u001b[0m: invalid literal for int() with base 10: ''"
     ]
    }
   ],
   "source": [
    "# 1,2,3 더하기 5\n",
    "\n",
    "t = int(input())\n",
    "\n",
    "# print(nlist)\n",
    "# 가장큰수를 기준으로해서 모든수를 포함하는 범위의 dp를 만든다\n",
    "# 0행0열은 패딩으로둔다 = 직관적인 코드 이해\n",
    "dp = [[0]*(4) for _ in range(100001)]\n",
    "dp[1] = [0,1,0,0]\n",
    "dp[2] = [0,0,1,0]\n",
    "dp[3] = [0,1,1,1]\n",
    "\n",
    "for i in range(4,100001):\n",
    "    #1로 계산이 끝나는 경우 n-1 행에의 2,3,으로 끝나는 경우의 수의 합이다\n",
    "    dp[i][1] = dp[i-1][2] + dp[i-1][3]\n",
    "    dp[i][2] = dp[i-2][1] + dp[i-2][3]\n",
    "    dp[i][3] = dp[i-3][1] + dp[i-3][2]\n",
    "\n",
    "# for i in dp:\n",
    "#     print(i)\n",
    "\n",
    "\n",
    "for n in nlist:\n",
    "    print(sum(dp[int(input())])%1000000009)\n",
    "    \n"
   ]
  },
  {
   "cell_type": "code",
   "execution_count": 2,
   "metadata": {},
   "outputs": [
    {
     "name": "stdout",
     "output_type": "stream",
     "text": [
      "[0, 9, 17]\n",
      "17\n"
     ]
    }
   ],
   "source": [
    "# 쉬운 계단수\n",
    "n = int(input())\n",
    "# 길이가 n인 계단수의 갯수\n",
    "# n = 1 일때      1,2,3,4,5,6,7,8,9\n",
    "# n = 2 일때 오름 12,23,34,45,56,67,78,89\n",
    "#            내림 98,87,76,65,54,43,32,21,10\n",
    "# n = 3 일때 오름 123,234,345,456,567,678,789\n",
    "#        오르내림 121,232,343,454,565,676,787,898\n",
    "#            내림 210,321,423,543,654,765,876,987\n",
    "#        내리오름 101,212,323,434,545,656,767,878,989\n",
    "\n",
    "dp = [0] * (n+1)\n",
    "dp[1] = 9\n",
    "for i in range(2,n+1):\n",
    "    \n",
    "\n",
    "print(dp)\n",
    "# print(dp[n]%1000000000) \n",
    "# 1,4,13,35\n"
   ]
  }
 ],
 "metadata": {
  "kernelspec": {
   "display_name": "Python 3",
   "language": "python",
   "name": "python3"
  },
  "language_info": {
   "codemirror_mode": {
    "name": "ipython",
    "version": 3
   },
   "file_extension": ".py",
   "mimetype": "text/x-python",
   "name": "python",
   "nbconvert_exporter": "python",
   "pygments_lexer": "ipython3",
   "version": "3.10.11"
  }
 },
 "nbformat": 4,
 "nbformat_minor": 2
}
