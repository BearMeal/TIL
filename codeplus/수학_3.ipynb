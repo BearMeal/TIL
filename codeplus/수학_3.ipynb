{
 "cells": [
  {
   "cell_type": "code",
   "execution_count": 13,
   "metadata": {},
   "outputs": [
    {
     "ename": "ValueError",
     "evalue": "invalid literal for int() with base 10: 'ZZZZZ'",
     "output_type": "error",
     "traceback": [
      "\u001b[1;31m---------------------------------------------------------------------------\u001b[0m",
      "\u001b[1;31mValueError\u001b[0m                                Traceback (most recent call last)",
      "\u001b[1;32mc:\\Users\\82105\\Desktop\\알고리즘 기초\\TIL\\codeplus\\수학_3.ipynb 셀 1\u001b[0m line \u001b[0;36m2\n\u001b[0;32m      <a href='vscode-notebook-cell:/c%3A/Users/82105/Desktop/%EC%95%8C%EA%B3%A0%EB%A6%AC%EC%A6%98%20%EA%B8%B0%EC%B4%88/TIL/codeplus/%EC%88%98%ED%95%99_3.ipynb#W0sZmlsZQ%3D%3D?line=0'>1</a>\u001b[0m \u001b[39m# 진법변환2\u001b[39;00m\n\u001b[1;32m----> <a href='vscode-notebook-cell:/c%3A/Users/82105/Desktop/%EC%95%8C%EA%B3%A0%EB%A6%AC%EC%A6%98%20%EA%B8%B0%EC%B4%88/TIL/codeplus/%EC%88%98%ED%95%99_3.ipynb#W0sZmlsZQ%3D%3D?line=1'>2</a>\u001b[0m a,b \u001b[39m=\u001b[39m \u001b[39mmap\u001b[39m(\u001b[39mint\u001b[39m, \u001b[39minput\u001b[39m()\u001b[39m.\u001b[39msplit())\n\u001b[0;32m      <a href='vscode-notebook-cell:/c%3A/Users/82105/Desktop/%EC%95%8C%EA%B3%A0%EB%A6%AC%EC%A6%98%20%EA%B8%B0%EC%B4%88/TIL/codeplus/%EC%88%98%ED%95%99_3.ipynb#W0sZmlsZQ%3D%3D?line=2'>3</a>\u001b[0m \u001b[39m# a를 b진수로 변환\u001b[39;00m\n\u001b[0;32m      <a href='vscode-notebook-cell:/c%3A/Users/82105/Desktop/%EC%95%8C%EA%B3%A0%EB%A6%AC%EC%A6%98%20%EA%B8%B0%EC%B4%88/TIL/codeplus/%EC%88%98%ED%95%99_3.ipynb#W0sZmlsZQ%3D%3D?line=3'>4</a>\u001b[0m temp \u001b[39m=\u001b[39m \u001b[39m'\u001b[39m\u001b[39m0123456789ABCDEFGHIJKLMNOPQRSTUVWXYZ\u001b[39m\u001b[39m'\u001b[39m\n",
      "\u001b[1;31mValueError\u001b[0m: invalid literal for int() with base 10: 'ZZZZZ'"
     ]
    }
   ],
   "source": [
    "# 진법변환2\n",
    "a,b = map(int, input().split())\n",
    "# a를 b진수로 변환\n",
    "temp = '0123456789ABCDEFGHIJKLMNOPQRSTUVWXYZ'\n",
    "\n",
    "result = ''\n",
    "\n",
    "while a:\n",
    "    result += temp[a%b]\n",
    "    a = a//b\n",
    "\n",
    "print(result[::-1])\n"
   ]
  },
  {
   "cell_type": "code",
   "execution_count": 28,
   "metadata": {},
   "outputs": [
    {
     "name": "stdout",
     "output_type": "stream",
     "text": [
      "60466175\n"
     ]
    }
   ],
   "source": [
    "# 진법변환1\n",
    "# ZZZZZ 36\n",
    "\n",
    "a,b = map(str, input().split())\n",
    "# b진수인 a를 10진수로 \n",
    "temp = '0123456789ABCDEFGHIJKLMNOPQRSTUVWXYZ'\n",
    "\n",
    "a = a[::-1]\n",
    "b=int(b)\n",
    "result =0\n",
    "for i in range(len(a)):\n",
    "    # print(temp.index(a[i])*(b**i))\n",
    "    result += temp.index(a[i])*(b**i)\n",
    "print(result)\n",
    "    \n",
    "\n"
   ]
  },
  {
   "cell_type": "code",
   "execution_count": 2,
   "metadata": {},
   "outputs": [
    {
     "ename": "ValueError",
     "evalue": "not enough values to unpack (expected 2, got 0)",
     "output_type": "error",
     "traceback": [
      "\u001b[1;31m---------------------------------------------------------------------------\u001b[0m",
      "\u001b[1;31mValueError\u001b[0m                                Traceback (most recent call last)",
      "\u001b[1;32mc:\\Users\\82105\\Desktop\\알고리즘 기초\\TIL\\codeplus\\수학_3.ipynb 셀 3\u001b[0m line \u001b[0;36m4\n\u001b[0;32m      <a href='vscode-notebook-cell:/c%3A/Users/82105/Desktop/%EC%95%8C%EA%B3%A0%EB%A6%AC%EC%A6%98%20%EA%B8%B0%EC%B4%88/TIL/codeplus/%EC%88%98%ED%95%99_3.ipynb#W2sZmlsZQ%3D%3D?line=0'>1</a>\u001b[0m \u001b[39m# base conversion\u001b[39;00m\n\u001b[0;32m      <a href='vscode-notebook-cell:/c%3A/Users/82105/Desktop/%EC%95%8C%EA%B3%A0%EB%A6%AC%EC%A6%98%20%EA%B8%B0%EC%B4%88/TIL/codeplus/%EC%88%98%ED%95%99_3.ipynb#W2sZmlsZQ%3D%3D?line=1'>2</a>\u001b[0m \n\u001b[0;32m      <a href='vscode-notebook-cell:/c%3A/Users/82105/Desktop/%EC%95%8C%EA%B3%A0%EB%A6%AC%EC%A6%98%20%EA%B8%B0%EC%B4%88/TIL/codeplus/%EC%88%98%ED%95%99_3.ipynb#W2sZmlsZQ%3D%3D?line=2'>3</a>\u001b[0m \u001b[39m# a진수를 b진수로 변환해서 출력\u001b[39;00m\n\u001b[1;32m----> <a href='vscode-notebook-cell:/c%3A/Users/82105/Desktop/%EC%95%8C%EA%B3%A0%EB%A6%AC%EC%A6%98%20%EA%B8%B0%EC%B4%88/TIL/codeplus/%EC%88%98%ED%95%99_3.ipynb#W2sZmlsZQ%3D%3D?line=3'>4</a>\u001b[0m a,b \u001b[39m=\u001b[39m\u001b[39mmap\u001b[39m(\u001b[39mint\u001b[39m,\u001b[39minput\u001b[39m()\u001b[39m.\u001b[39msplit())\n\u001b[0;32m      <a href='vscode-notebook-cell:/c%3A/Users/82105/Desktop/%EC%95%8C%EA%B3%A0%EB%A6%AC%EC%A6%98%20%EA%B8%B0%EC%B4%88/TIL/codeplus/%EC%88%98%ED%95%99_3.ipynb#W2sZmlsZQ%3D%3D?line=4'>5</a>\u001b[0m m \u001b[39m=\u001b[39m \u001b[39mint\u001b[39m(\u001b[39minput\u001b[39m())\n\u001b[0;32m      <a href='vscode-notebook-cell:/c%3A/Users/82105/Desktop/%EC%95%8C%EA%B3%A0%EB%A6%AC%EC%A6%98%20%EA%B8%B0%EC%B4%88/TIL/codeplus/%EC%88%98%ED%95%99_3.ipynb#W2sZmlsZQ%3D%3D?line=5'>6</a>\u001b[0m mlist \u001b[39m=\u001b[39m \u001b[39mlist\u001b[39m(\u001b[39mmap\u001b[39m(\u001b[39mint\u001b[39m,\u001b[39minput\u001b[39m()\u001b[39m.\u001b[39msplit()))[::\u001b[39m-\u001b[39m\u001b[39m1\u001b[39m]\n",
      "\u001b[1;31mValueError\u001b[0m: not enough values to unpack (expected 2, got 0)"
     ]
    }
   ],
   "source": [
    "# base conversion\n",
    "\n",
    "# a진수를 b진수로 변환해서 출력\n",
    "a,b =map(int,input().split())\n",
    "m = int(input())\n",
    "mlist = list(map(int,input().split()))[::-1]\n",
    "res= 0\n",
    "for i in range(m):\n",
    "    res += mlist[i]*(a**i)\n",
    "# print(res)\n",
    "result = []\n",
    "while res:\n",
    "    result.append(str(res%b))\n",
    "    res = res//b\n",
    "    \n",
    "# print(result)\n",
    "print(' '.join(map(str,result[::-1])))\n"
   ]
  },
  {
   "cell_type": "code",
   "execution_count": 22,
   "metadata": {},
   "outputs": [
    {
     "name": "stdout",
     "output_type": "stream",
     "text": [
      "2\n",
      "2\n",
      "2\n",
      "3\n",
      "3\n"
     ]
    }
   ],
   "source": [
    "# 소인수 분해\n",
    "\n",
    "n = int(input())\n",
    "#2로 나눌수 있는 만큼 나눔\n",
    "while n%2 ==0 :\n",
    "    print(2)\n",
    "    n = int(n//2)\n",
    "# 나머지 인수는 소수이자 홀수여야함\n",
    "# 범위는 루트n+1까지 하면 더 효율적 \n",
    "for i in range(3,n+1,2):\n",
    "    while n%i==0:\n",
    "        print(i)\n",
    "        n=n//i\n",
    "\n",
    "        "
   ]
  }
 ],
 "metadata": {
  "kernelspec": {
   "display_name": "Python 3",
   "language": "python",
   "name": "python3"
  },
  "language_info": {
   "codemirror_mode": {
    "name": "ipython",
    "version": 3
   },
   "file_extension": ".py",
   "mimetype": "text/x-python",
   "name": "python",
   "nbconvert_exporter": "python",
   "pygments_lexer": "ipython3",
   "version": "3.10.11"
  }
 },
 "nbformat": 4,
 "nbformat_minor": 2
}
