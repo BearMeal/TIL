{
 "cells": [
  {
   "cell_type": "code",
   "execution_count": 74,
   "metadata": {},
   "outputs": [
    {
     "name": "stdout",
     "output_type": "stream",
     "text": [
      "3\n"
     ]
    }
   ],
   "source": [
    "# 숨바꼭질\n",
    "\n",
    "n, k = map(int, input().split())\n",
    "\n",
    "# n 에서 k까지 최단시간, 한칸에 1초 또는 x*2 에 1 초\n",
    "\n",
    "from collections import deque\n",
    "\n",
    "graph = [0 for _ in range(100001)]\n",
    "visited = [0 for _ in range(100010)]\n",
    "\n",
    "\n",
    "def bfs(start, k):\n",
    "    q = deque([start])\n",
    "    visited[start] = 1\n",
    "    \n",
    "    while q:\n",
    "        now = q.popleft()\n",
    "        # print(now)\n",
    "        if now == k:\n",
    "            return print(visited[k]-1)\n",
    "        dx = [1, -1, now]\n",
    "        for i in range(3):\n",
    "            nx = now + dx[i]\n",
    "            if nx >= 0 and nx <= 100000 and visited[nx] ==0:\n",
    "                visited[nx] = visited[now] + 1\n",
    "                q.append(nx)\n",
    "            \n",
    "bfs(n,k)"
   ]
  },
  {
   "cell_type": "code",
   "execution_count": 62,
   "metadata": {},
   "outputs": [
    {
     "name": "stdout",
     "output_type": "stream",
     "text": [
      "[[0]]\n",
      "[[-1]]\n",
      "0\n"
     ]
    }
   ],
   "source": [
    "# 알고스팟\n",
    "\n",
    "# 아이디어: bfs를 이용한 미로 탐색과 동일한 원리로 푼다. visited[이전] + 1 하는 방식으로 최소거리를 카운트\n",
    "# 이 문제에서는 최소거리이면서 최소비용 값으로 도달하는 카운트를 구해야 한다. \n",
    "# 단순 bfs로 할경우 카운트가 갱신되는 순서가 이상해지면서 최소 카운트를 구하지못함\n",
    "# 따라서 appendleft를 통해 우선 갱신하여 카운트값을 최소로 보장해줌\n",
    "\n",
    "\n",
    "#행길이, 열길이\n",
    "m, n = map(int, input().split())\n",
    "graph = [list(map(int, input())) for _ in range(n)]\n",
    "\n",
    "# graph =[[0, 0, 1, 1, 1, 1],\n",
    "#  [0, 1, 0, 0, 0, 0],\n",
    "#  [0, 0, 1, 1, 1, 1],\n",
    "#  [1, 1, 0, 0, 0, 1],\n",
    "#  [0, 1, 1, 0, 1, 0],\n",
    "#  [1, 0, 0, 0, 1, 0]]\n",
    "\n",
    "visited = [[-1]*(m) for _ in range(n)]\n",
    "# print(graph)\n",
    "# print(visited)\n",
    "\n",
    "from collections import deque\n",
    "def bfs(x,y):\n",
    "    q = deque([(x,y)])\n",
    "    visited[x][y] = 0\n",
    "    #하우상좌\n",
    "    dx = [-1,0,1,0]\n",
    "    dy = [0,1,0,-1]\n",
    "    \n",
    "    while q:\n",
    "        x,y = q.popleft()\n",
    "        \n",
    "        # print(x,y)\n",
    "        # for i in visited:\n",
    "        #     print(i)\n",
    "        # print(q)\n",
    "        if x+1 == n and y+1 == m:\n",
    "            return print(visited[x][y])\n",
    "        for i in range(4):\n",
    "            nx = x + dx[i] \n",
    "            ny = y + dy[i]\n",
    "            if 0 <= nx <n and 0<=ny<m:\n",
    "                \n",
    "                if visited[nx][ny]==-1:\n",
    "                    if graph[nx][ny] ==1:\n",
    "                        visited[nx][ny] = visited[x][y] + 1\n",
    "                        q.append((nx,ny))\n",
    "                    elif graph[nx][ny] ==0: \n",
    "                        visited[nx][ny] = visited[x][y]\n",
    "                        q.appendleft((nx,ny))\n",
    "       \n",
    "        \n",
    "bfs(0, 0)\n"
   ]
  },
  {
   "cell_type": "code",
   "execution_count": 103,
   "metadata": {},
   "outputs": [
    {
     "name": "stdout",
     "output_type": "stream",
     "text": [
      "1\n",
      "[0, 0, 3, 2, 1, 2, 2, 2, 1, 2, 0, 0]\n"
     ]
    }
   ],
   "source": [
    "# 숨바꼭질3 \n",
    "from collections import deque\n",
    "\n",
    "n, k = map(int, input().split())\n",
    "\n",
    "# graph = [0 for _ in range(100001)]\n",
    "visited = [0 for _ in range(100001)]\n",
    "\n",
    "def bfs(n, k):\n",
    "    q = deque([n])\n",
    "    visited[n] = 1\n",
    "    \n",
    "    while q:\n",
    "        # print(q)\n",
    "        now = q.popleft()\n",
    "        dx = [-1,1,now]\n",
    "        if now == k:\n",
    "            return print(visited[now]-1)\n",
    "        for i in range(3):\n",
    "            nx = now + dx[i]\n",
    "            if 0 <= nx <100001 and visited[nx] ==0:\n",
    "                if nx == now*2:\n",
    "                    visited[nx] = visited[now]\n",
    "                    q.appendleft(nx)\n",
    "                else: \n",
    "                    visited[nx] = visited[now] + 1\n",
    "                    q.append(nx)\n",
    "            \n",
    "bfs(n,k)\n",
    "# print(visited)"
   ]
  },
  {
   "cell_type": "code",
   "execution_count": 17,
   "metadata": {},
   "outputs": [
    {
     "name": "stdout",
     "output_type": "stream",
     "text": [
      "4\n",
      "5 4 8 16 17\n"
     ]
    }
   ],
   "source": [
    "# 숨바꼭질4\n",
    "# 아이디어: 부모 노드에서 탐색해 들어갈때 자식노드 인덱스에 부모노드를 \n",
    "# 기록한다. 탐색이 끝나면 거꾸로 경로를 타고올라가서 시작점으로 찾아 이동경로를 출력한다\n",
    "\n",
    "from collections import deque\n",
    "import sys\n",
    "# input = sys.stdin.readline\n",
    "sys.setrecursionlimit(1000000)\n",
    "\n",
    "n, k = map(int, input().split())\n",
    "\n",
    "visited = [0 for _ in range(100001)]\n",
    "\n",
    "def bfs(n, k):\n",
    "    q = deque([n])\n",
    "    visited[n] = 1\n",
    "    path = [0 for _ in range(100001)]\n",
    "    while q:\n",
    "        now = q.popleft()\n",
    "        if now ==k:\n",
    "            ans = []\n",
    "            while True:\n",
    "                ans.append(now)\n",
    "                now = path[now]\n",
    "                if now == n:\n",
    "                    ans.append(n)\n",
    "                    break\n",
    "                \n",
    "            return visited[k]-1, ans\n",
    "        dx = [-1,1,now]\n",
    "        # temp = []\n",
    "        for i in range(3):\n",
    "            nx = now + dx[i]\n",
    "            if 0<=nx<100001 and visited[nx] ==0:\n",
    "                visited[nx] = visited[now] + 1\n",
    "                # temp.append(nx)\n",
    "                path[nx] = now \n",
    "                q.append(nx)\n",
    "        # print(now, temp)\n",
    "    \n",
    "                \n",
    "cnt, ans = bfs(n, k)\n",
    "\n",
    "print(cnt)\n",
    "print(' '.join(map(str, ans[::-1])))\n"
   ]
  },
  {
   "cell_type": "code",
   "execution_count": 12,
   "metadata": {},
   "outputs": [
    {
     "name": "stdout",
     "output_type": "stream",
     "text": [
      "4\n"
     ]
    }
   ],
   "source": [
    "# 이모티콘\n",
    "# 아이디어: dp 테이블을 만들어 이모티콘 S개가 만들어지는 모든 경우의 수를 기록하고 \n",
    "#거기서 가장 적게 걸리는 시간을 찾는다.\n",
    "\n",
    "S = int(input())\n",
    "\n",
    "from collections import deque\n",
    "\n",
    "# s까지 걸리는 시간을 계산\n",
    "# def bfs(s):\n",
    "#     # 초기화: 화면 1, 보드 0\n",
    "q = deque([(1,0)])\n",
    "dp = [ [0]*(S+1) for _ in range(S+1) ]\n",
    "dp[1][0] = 1\n",
    "\n",
    "ans = float('inf')\n",
    "\n",
    "while q:\n",
    "    # 화면과 클립\n",
    "    s, c = q.popleft()\n",
    "    # 복사\n",
    "    if dp[s][s] == 0:\n",
    "        # 시간 저장\n",
    "        dp[s][s] = dp[s][c] + 1 \n",
    "        if dp[s] == dp[S]:\n",
    "            ans = min(ans, dp[s][s])\n",
    "        q.append((s, s))\n",
    "        \n",
    "    # 클립보드의 이모티콘을 화면으로\n",
    "    # 아직 목표한 S에 도달하지 않았고 해당 dp에 방문기록이 없을때\n",
    "    if s+c <= S and dp[s+c][c] == 0:\n",
    "        dp[s+c][c] = dp[s][c] + 1\n",
    "        if dp[s+c] == dp[S]:\n",
    "            ans = min(ans, dp[s+c][c])\n",
    "        q.append((s+c, c))\n",
    "        \n",
    "    # 이모티콘 한개 삭제\n",
    "    if s-1 >= 0 and dp[s-1][c] == 0: \n",
    "        dp[s-1][c] = dp[s][c] + 1\n",
    "        if dp[s-1] == dp[S]:\n",
    "            ans = min(ans, dp[s-1][c])\n",
    "        q.append((s-1, c))\n",
    "    \n",
    "       \n",
    "print(ans-1)\n"
   ]
  }
 ],
 "metadata": {
  "kernelspec": {
   "display_name": "Python 3",
   "language": "python",
   "name": "python3"
  },
  "language_info": {
   "codemirror_mode": {
    "name": "ipython",
    "version": 3
   },
   "file_extension": ".py",
   "mimetype": "text/x-python",
   "name": "python",
   "nbconvert_exporter": "python",
   "pygments_lexer": "ipython3",
   "version": "3.10.11"
  }
 },
 "nbformat": 4,
 "nbformat_minor": 2
}
