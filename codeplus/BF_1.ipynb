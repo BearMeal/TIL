{
 "cells": [
  {
   "cell_type": "markdown",
   "metadata": {},
   "source": [
    "- 가능한 경우의수를 모두 조사해본다.\n",
    "- 가장 효율적인 경우의수 조사방법을 알아내야한다.\n",
    "- 기본적으로 정렬 알고리즘과 유사한 짜임새인듯하다"
   ]
  },
  {
   "cell_type": "code",
   "execution_count": 1,
   "metadata": {},
   "outputs": [
    {
     "name": "stdout",
     "output_type": "stream",
     "text": [
      "7\n",
      "8\n",
      "10\n",
      "13\n",
      "19\n",
      "20\n",
      "23\n"
     ]
    }
   ],
   "source": [
    "# 일곱 난쟁이\n",
    "# 20\n",
    "# 7\n",
    "# 23\n",
    "# 19\n",
    "# 10\n",
    "# 15\n",
    "# 25\n",
    "# 8\n",
    "# 13\n",
    "\n",
    "# hight_list = [int(input()) for _ in range(9)]\n",
    "# print(hight_list)\n",
    "\n",
    "hight_list= [20,7,23,19,10,15,25,8,13]\n",
    "# 합이 100이 되게끔 7개 뽑아서 오름차순으로 출력\n",
    "hight_list.sort()\n",
    "# print(hight_list)\n",
    "total = sum(hight_list)\n",
    "stop=0\n",
    "for i in range(9):\n",
    "    if stop:\n",
    "        break\n",
    "    for j in range(i+1, 9):\n",
    "        if total - (hight_list[i]+hight_list[j])==100:\n",
    "            # print(i,j)\n",
    "            # print(total- (hight_list[i]+hight_list[j]))\n",
    "            del hight_list[i]\n",
    "            del hight_list[j-1]\n",
    "            for k in hight_list:\n",
    "                print(k)\n",
    "            stop = 1\n",
    "            break\n",
    "            \n",
    "        "
   ]
  },
  {
   "cell_type": "code",
   "execution_count": 2,
   "metadata": {},
   "outputs": [
    {
     "name": "stdout",
     "output_type": "stream",
     "text": [
      "4\n"
     ]
    }
   ],
   "source": [
    "# 봄보니 게임\n",
    "# n = int(input())\n",
    "# nlist = [list(input()) for _ in range(n)]\n",
    "# print(nlist)\n",
    "n = 4\n",
    "nlist = [['p', 'p', 'p', 'p'], ['c', 'y', 'z', 'y'], ['c', 'c', 'p', 'y'], ['p', 'p', 'c', 'c']]\n",
    "\n",
    "def find_len(nlist,n):\n",
    "    maxrow =1\n",
    "    cntr = 1\n",
    "    maxcol =1\n",
    "    cntc = 1\n",
    "    for i in range(n):\n",
    "        tempr = 0\n",
    "        tempc = 0\n",
    "        for j in range(n):\n",
    "            if nlist[i][j] == tempr:\n",
    "                cntr += 1\n",
    "            else:\n",
    "                maxrow = max(cntr, maxrow)\n",
    "                cntr=1\n",
    "                tempr = nlist[i][j]\n",
    "            if nlist[j][i] == tempc:\n",
    "                cntc +=1\n",
    "            else:\n",
    "                maxcol = max(cntc, maxcol)\n",
    "                cntc = 1\n",
    "                tempc = nlist[j][i]\n",
    "            maxcol = max(cntc, maxcol)\n",
    "            maxrow = max(cntr, maxrow)\n",
    "    return max(maxcol,maxrow)\n",
    "\n",
    "\n",
    "# 오른쪽과 아래있는것과 교체 해보면 된다\n",
    "max_len = find_len(nlist,n)\n",
    "for i in range(n):\n",
    "    for j in range(n):\n",
    "        if i<n-1 and nlist[i][j] != nlist[i+1][j]:\n",
    "            nlist[i][j],nlist[i+1][j] = nlist[i+1][j], nlist[i][j]\n",
    "            max_len = max(max_len, find_len(nlist,n))\n",
    "            nlist[i][j],nlist[i+1][j] = nlist[i+1][j], nlist[i][j]\n",
    "            \n",
    "        if j<n-1 and nlist[i][j] != nlist[i][j+1]:\n",
    "            nlist[i][j], nlist[i][j+1] = nlist[i][j+1],nlist[i][j]\n",
    "            max_len = max(max_len, find_len(nlist,n))\n",
    "            nlist[i][j], nlist[i][j+1] = nlist[i][j+1],nlist[i][j]\n",
    "            \n",
    "print(max_len)\n",
    "            "
   ]
  },
  {
   "cell_type": "code",
   "execution_count": 5,
   "metadata": {},
   "outputs": [
    {
     "name": "stdout",
     "output_type": "stream",
     "text": [
      "5266\n"
     ]
    }
   ],
   "source": [
    "# 날짜계산\n",
    "# 1~15 , 1~ 28, 1~ 19\n",
    "e,s,m = map(int, input().split())\n",
    "\n",
    "a,b,c =1,1,1\n",
    "cnt = 1\n",
    "while True:\n",
    "    if a==e and b==s and c==m:\n",
    "        print(cnt)\n",
    "        break\n",
    "    else:\n",
    "        cnt += 1\n",
    "        a+=1\n",
    "        b+=1\n",
    "        c+=1\n",
    "    if a == 16:\n",
    "        a = 1\n",
    "    if b == 29:\n",
    "        b = 1\n",
    "    if c == 20:\n",
    "        c = 1\n"
   ]
  },
  {
   "cell_type": "code",
   "execution_count": 1,
   "metadata": {},
   "outputs": [
    {
     "name": "stdout",
     "output_type": "stream",
     "text": [
      "6\n"
     ]
    }
   ],
   "source": [
    "# 리모컨\n",
    "\n",
    "n = int(input())\n",
    "\n",
    "m = int(input())\n",
    "\n",
    "if m==0:\n",
    "    print(min(len(str(n)),abs(n-100)))\n",
    "    exit()\n",
    "elif m == 10:\n",
    "    print(abs(n-100))\n",
    "    exit()    \n",
    "\n",
    "nums = list(map(str,input().split()))\n",
    "# nums의 원소를 돌려서 숫자가 가능한지 확인하는것이\n",
    "# 확인해볼 숫자의 원소를 순회하여 하나하나 가능한지 확인하는것보다 숫자가 클수록 빠르다.\n",
    "\n",
    "if n ==100:\n",
    "    print(0)\n",
    "    exit()\n",
    "\n",
    "    \n",
    "close_num = 0\n",
    "dist = float('inf')\n",
    "for i in range(1_000_001):\n",
    "# for i in range(500):\n",
    "    stop = 0\n",
    "    temp = list(str(i))\n",
    "    for j in nums:\n",
    "        if j in temp:\n",
    "            stop = 1\n",
    "            break\n",
    "    # 목표 n과 가장 가까운 채널 찾기 \n",
    "    if stop==0:\n",
    "        if dist > abs(i-n):\n",
    "            dist = abs(i-n)\n",
    "            close_num =i\n",
    "\n",
    "# print(close_num)\n",
    "\n",
    "print(min(len(str(close_num))+abs(close_num-n), abs(n-100)))\n",
    "\n",
    "\n",
    "# => 이렇게 구현하는것이 직관적이지만 나쁘지않은 속도도 보여주지만\n",
    "# 0~1백만 까지 순회 하는것보다 \n",
    "# 입력받은 nums를 이용해 반대로 가능한 버튼들로 숫자를 먼저 조합해 조회하면 훨씬 빠를것이다 \n",
    "        \n",
    "            "
   ]
  },
  {
   "cell_type": "code",
   "execution_count": 4,
   "metadata": {},
   "outputs": [
    {
     "name": "stdout",
     "output_type": "stream",
     "text": [
      "[[0, 0, 0, 0, 0], [0, 0, 0, 0, 0], [0, 0, 0, 0, 0], [0, 0, 0, 0, 0], [0, 0, 0, 0, 0]]\n"
     ]
    }
   ],
   "source": [
    "# 테트로미노\n",
    "''' \n",
    "이전 풀이방법은 도형을 놔두고 뒷맵을 회전시켜 최대 점수를 조회 하는 방법을 사용하였다\n",
    "이번에는 dfs로 정석대로 풀어볼것\n",
    "'''\n",
    "\n",
    "# n,m = map(int,input().split())\n",
    "# board = [ list(map(int,input().split())) for _ in range(n) ]\n",
    "\n",
    "n,m = 5,5\n",
    "board = [[1, 2, 3, 4, 5], [5, 4, 3, 2, 1], [2, 3, 4, 5, 6], [6, 5, 4, 3, 2], [1, 2, 1, 2, 1]]\n",
    "\n",
    "visited = [[0]*m for _ in range(n)]\n",
    "print(visited)\n",
    "\n",
    "# print(board)\n",
    "# 파라미터: 방문여부, 위치, 도형의 크기, 현재까지의 합계\n",
    "def DFS(visited, x,y, tail, point):\n",
    "    visited[x][y] = 1\n",
    "    \n",
    "    # 동서남북 네방향\n",
    "    if \n",
    "\n",
    "\n"
   ]
  }
 ],
 "metadata": {
  "kernelspec": {
   "display_name": "Python 3",
   "language": "python",
   "name": "python3"
  },
  "language_info": {
   "codemirror_mode": {
    "name": "ipython",
    "version": 3
   },
   "file_extension": ".py",
   "mimetype": "text/x-python",
   "name": "python",
   "nbconvert_exporter": "python",
   "pygments_lexer": "ipython3",
   "version": "3.10.11"
  }
 },
 "nbformat": 4,
 "nbformat_minor": 2
}
