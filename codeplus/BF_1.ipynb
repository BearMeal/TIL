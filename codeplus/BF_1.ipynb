{
 "cells": [
  {
   "cell_type": "markdown",
   "metadata": {},
   "source": [
    "- 가능한 경우의수를 모두 조사해본다.\n",
    "- 가장 효율적인 경우의수 조사방법을 알아내야한다.\n",
    "- 기본적으로 정렬 알고리즘과 유사한 짜임새인듯하다"
   ]
  },
  {
   "cell_type": "code",
   "execution_count": 1,
   "metadata": {},
   "outputs": [
    {
     "ename": "ValueError",
     "evalue": "invalid literal for int() with base 10: ''",
     "output_type": "error",
     "traceback": [
      "\u001b[1;31m---------------------------------------------------------------------------\u001b[0m",
      "\u001b[1;31mValueError\u001b[0m                                Traceback (most recent call last)",
      "\u001b[1;32mc:\\Users\\82105\\Desktop\\알고리즘 기초\\TIL\\codeplus\\brute_force.ipynb 셀 2\u001b[0m line \u001b[0;36m1\n\u001b[0;32m      <a href='vscode-notebook-cell:/c%3A/Users/82105/Desktop/%EC%95%8C%EA%B3%A0%EB%A6%AC%EC%A6%98%20%EA%B8%B0%EC%B4%88/TIL/codeplus/brute_force.ipynb#W1sZmlsZQ%3D%3D?line=0'>1</a>\u001b[0m \u001b[39m# 일곱 난쟁이\u001b[39;00m\n\u001b[0;32m      <a href='vscode-notebook-cell:/c%3A/Users/82105/Desktop/%EC%95%8C%EA%B3%A0%EB%A6%AC%EC%A6%98%20%EA%B8%B0%EC%B4%88/TIL/codeplus/brute_force.ipynb#W1sZmlsZQ%3D%3D?line=1'>2</a>\u001b[0m \u001b[39m# 20\u001b[39;00m\n\u001b[0;32m      <a href='vscode-notebook-cell:/c%3A/Users/82105/Desktop/%EC%95%8C%EA%B3%A0%EB%A6%AC%EC%A6%98%20%EA%B8%B0%EC%B4%88/TIL/codeplus/brute_force.ipynb#W1sZmlsZQ%3D%3D?line=2'>3</a>\u001b[0m \u001b[39m# 7\u001b[39;00m\n\u001b[1;32m   (...)\u001b[0m\n\u001b[0;32m      <a href='vscode-notebook-cell:/c%3A/Users/82105/Desktop/%EC%95%8C%EA%B3%A0%EB%A6%AC%EC%A6%98%20%EA%B8%B0%EC%B4%88/TIL/codeplus/brute_force.ipynb#W1sZmlsZQ%3D%3D?line=8'>9</a>\u001b[0m \u001b[39m# 8\u001b[39;00m\n\u001b[0;32m     <a href='vscode-notebook-cell:/c%3A/Users/82105/Desktop/%EC%95%8C%EA%B3%A0%EB%A6%AC%EC%A6%98%20%EA%B8%B0%EC%B4%88/TIL/codeplus/brute_force.ipynb#W1sZmlsZQ%3D%3D?line=9'>10</a>\u001b[0m \u001b[39m# 13\u001b[39;00m\n\u001b[1;32m---> <a href='vscode-notebook-cell:/c%3A/Users/82105/Desktop/%EC%95%8C%EA%B3%A0%EB%A6%AC%EC%A6%98%20%EA%B8%B0%EC%B4%88/TIL/codeplus/brute_force.ipynb#W1sZmlsZQ%3D%3D?line=11'>12</a>\u001b[0m hight_list \u001b[39m=\u001b[39m [\u001b[39mint\u001b[39m(\u001b[39minput\u001b[39m()) \u001b[39mfor\u001b[39;00m _ \u001b[39min\u001b[39;00m \u001b[39mrange\u001b[39m(\u001b[39m9\u001b[39m)]\n\u001b[0;32m     <a href='vscode-notebook-cell:/c%3A/Users/82105/Desktop/%EC%95%8C%EA%B3%A0%EB%A6%AC%EC%A6%98%20%EA%B8%B0%EC%B4%88/TIL/codeplus/brute_force.ipynb#W1sZmlsZQ%3D%3D?line=12'>13</a>\u001b[0m \u001b[39m# print(hight_list)\u001b[39;00m\n\u001b[0;32m     <a href='vscode-notebook-cell:/c%3A/Users/82105/Desktop/%EC%95%8C%EA%B3%A0%EB%A6%AC%EC%A6%98%20%EA%B8%B0%EC%B4%88/TIL/codeplus/brute_force.ipynb#W1sZmlsZQ%3D%3D?line=13'>14</a>\u001b[0m \n\u001b[0;32m     <a href='vscode-notebook-cell:/c%3A/Users/82105/Desktop/%EC%95%8C%EA%B3%A0%EB%A6%AC%EC%A6%98%20%EA%B8%B0%EC%B4%88/TIL/codeplus/brute_force.ipynb#W1sZmlsZQ%3D%3D?line=14'>15</a>\u001b[0m \u001b[39m# hight_list= [20,7,23,19,10,15,25,8,13]\u001b[39;00m\n\u001b[0;32m     <a href='vscode-notebook-cell:/c%3A/Users/82105/Desktop/%EC%95%8C%EA%B3%A0%EB%A6%AC%EC%A6%98%20%EA%B8%B0%EC%B4%88/TIL/codeplus/brute_force.ipynb#W1sZmlsZQ%3D%3D?line=15'>16</a>\u001b[0m \u001b[39m# 합이 100이 되게끔 7개 뽑아서 오름차순으로 출력\u001b[39;00m\n\u001b[0;32m     <a href='vscode-notebook-cell:/c%3A/Users/82105/Desktop/%EC%95%8C%EA%B3%A0%EB%A6%AC%EC%A6%98%20%EA%B8%B0%EC%B4%88/TIL/codeplus/brute_force.ipynb#W1sZmlsZQ%3D%3D?line=16'>17</a>\u001b[0m hight_list\u001b[39m.\u001b[39msort()\n",
      "\u001b[1;32mc:\\Users\\82105\\Desktop\\알고리즘 기초\\TIL\\codeplus\\brute_force.ipynb 셀 2\u001b[0m line \u001b[0;36m1\n\u001b[0;32m      <a href='vscode-notebook-cell:/c%3A/Users/82105/Desktop/%EC%95%8C%EA%B3%A0%EB%A6%AC%EC%A6%98%20%EA%B8%B0%EC%B4%88/TIL/codeplus/brute_force.ipynb#W1sZmlsZQ%3D%3D?line=0'>1</a>\u001b[0m \u001b[39m# 일곱 난쟁이\u001b[39;00m\n\u001b[0;32m      <a href='vscode-notebook-cell:/c%3A/Users/82105/Desktop/%EC%95%8C%EA%B3%A0%EB%A6%AC%EC%A6%98%20%EA%B8%B0%EC%B4%88/TIL/codeplus/brute_force.ipynb#W1sZmlsZQ%3D%3D?line=1'>2</a>\u001b[0m \u001b[39m# 20\u001b[39;00m\n\u001b[0;32m      <a href='vscode-notebook-cell:/c%3A/Users/82105/Desktop/%EC%95%8C%EA%B3%A0%EB%A6%AC%EC%A6%98%20%EA%B8%B0%EC%B4%88/TIL/codeplus/brute_force.ipynb#W1sZmlsZQ%3D%3D?line=2'>3</a>\u001b[0m \u001b[39m# 7\u001b[39;00m\n\u001b[1;32m   (...)\u001b[0m\n\u001b[0;32m      <a href='vscode-notebook-cell:/c%3A/Users/82105/Desktop/%EC%95%8C%EA%B3%A0%EB%A6%AC%EC%A6%98%20%EA%B8%B0%EC%B4%88/TIL/codeplus/brute_force.ipynb#W1sZmlsZQ%3D%3D?line=8'>9</a>\u001b[0m \u001b[39m# 8\u001b[39;00m\n\u001b[0;32m     <a href='vscode-notebook-cell:/c%3A/Users/82105/Desktop/%EC%95%8C%EA%B3%A0%EB%A6%AC%EC%A6%98%20%EA%B8%B0%EC%B4%88/TIL/codeplus/brute_force.ipynb#W1sZmlsZQ%3D%3D?line=9'>10</a>\u001b[0m \u001b[39m# 13\u001b[39;00m\n\u001b[1;32m---> <a href='vscode-notebook-cell:/c%3A/Users/82105/Desktop/%EC%95%8C%EA%B3%A0%EB%A6%AC%EC%A6%98%20%EA%B8%B0%EC%B4%88/TIL/codeplus/brute_force.ipynb#W1sZmlsZQ%3D%3D?line=11'>12</a>\u001b[0m hight_list \u001b[39m=\u001b[39m [\u001b[39mint\u001b[39;49m(\u001b[39minput\u001b[39;49m()) \u001b[39mfor\u001b[39;00m _ \u001b[39min\u001b[39;00m \u001b[39mrange\u001b[39m(\u001b[39m9\u001b[39m)]\n\u001b[0;32m     <a href='vscode-notebook-cell:/c%3A/Users/82105/Desktop/%EC%95%8C%EA%B3%A0%EB%A6%AC%EC%A6%98%20%EA%B8%B0%EC%B4%88/TIL/codeplus/brute_force.ipynb#W1sZmlsZQ%3D%3D?line=12'>13</a>\u001b[0m \u001b[39m# print(hight_list)\u001b[39;00m\n\u001b[0;32m     <a href='vscode-notebook-cell:/c%3A/Users/82105/Desktop/%EC%95%8C%EA%B3%A0%EB%A6%AC%EC%A6%98%20%EA%B8%B0%EC%B4%88/TIL/codeplus/brute_force.ipynb#W1sZmlsZQ%3D%3D?line=13'>14</a>\u001b[0m \n\u001b[0;32m     <a href='vscode-notebook-cell:/c%3A/Users/82105/Desktop/%EC%95%8C%EA%B3%A0%EB%A6%AC%EC%A6%98%20%EA%B8%B0%EC%B4%88/TIL/codeplus/brute_force.ipynb#W1sZmlsZQ%3D%3D?line=14'>15</a>\u001b[0m \u001b[39m# hight_list= [20,7,23,19,10,15,25,8,13]\u001b[39;00m\n\u001b[0;32m     <a href='vscode-notebook-cell:/c%3A/Users/82105/Desktop/%EC%95%8C%EA%B3%A0%EB%A6%AC%EC%A6%98%20%EA%B8%B0%EC%B4%88/TIL/codeplus/brute_force.ipynb#W1sZmlsZQ%3D%3D?line=15'>16</a>\u001b[0m \u001b[39m# 합이 100이 되게끔 7개 뽑아서 오름차순으로 출력\u001b[39;00m\n\u001b[0;32m     <a href='vscode-notebook-cell:/c%3A/Users/82105/Desktop/%EC%95%8C%EA%B3%A0%EB%A6%AC%EC%A6%98%20%EA%B8%B0%EC%B4%88/TIL/codeplus/brute_force.ipynb#W1sZmlsZQ%3D%3D?line=16'>17</a>\u001b[0m hight_list\u001b[39m.\u001b[39msort()\n",
      "\u001b[1;31mValueError\u001b[0m: invalid literal for int() with base 10: ''"
     ]
    }
   ],
   "source": [
    "# 일곱 난쟁이\n",
    "# 20\n",
    "# 7\n",
    "# 23\n",
    "# 19\n",
    "# 10\n",
    "# 15\n",
    "# 25\n",
    "# 8\n",
    "# 13\n",
    "\n",
    "hight_list = [int(input()) for _ in range(9)]\n",
    "# print(hight_list)\n",
    "\n",
    "# hight_list= [20,7,23,19,10,15,25,8,13]\n",
    "# 합이 100이 되게끔 7개 뽑아서 오름차순으로 출력\n",
    "hight_list.sort()\n",
    "# print(hight_list)\n",
    "total = sum(hight_list)\n",
    "stop=0\n",
    "for i in range(9):\n",
    "    if stop:\n",
    "        break\n",
    "    for j in range(i+1, 9):\n",
    "        if total - (hight_list[i]+hight_list[j])==100:\n",
    "            # print(i,j)\n",
    "            # print(total- (hight_list[i]+hight_list[j]))\n",
    "            del hight_list[i]\n",
    "            del hight_list[j-1]\n",
    "            for k in hight_list:\n",
    "                print(k)\n",
    "            stop = 1\n",
    "            break\n",
    "            \n",
    "        "
   ]
  },
  {
   "cell_type": "code",
   "execution_count": 42,
   "metadata": {},
   "outputs": [
    {
     "ename": "ValueError",
     "evalue": "invalid literal for int() with base 10: ''",
     "output_type": "error",
     "traceback": [
      "\u001b[1;31m---------------------------------------------------------------------------\u001b[0m",
      "\u001b[1;31mValueError\u001b[0m                                Traceback (most recent call last)",
      "\u001b[1;32mc:\\Users\\82105\\Desktop\\알고리즘 기초\\TIL\\codeplus\\brute_force.ipynb 셀 3\u001b[0m line \u001b[0;36m2\n\u001b[0;32m      <a href='vscode-notebook-cell:/c%3A/Users/82105/Desktop/%EC%95%8C%EA%B3%A0%EB%A6%AC%EC%A6%98%20%EA%B8%B0%EC%B4%88/TIL/codeplus/brute_force.ipynb#W4sZmlsZQ%3D%3D?line=0'>1</a>\u001b[0m \u001b[39m# 봄보니 게임\u001b[39;00m\n\u001b[1;32m----> <a href='vscode-notebook-cell:/c%3A/Users/82105/Desktop/%EC%95%8C%EA%B3%A0%EB%A6%AC%EC%A6%98%20%EA%B8%B0%EC%B4%88/TIL/codeplus/brute_force.ipynb#W4sZmlsZQ%3D%3D?line=1'>2</a>\u001b[0m n \u001b[39m=\u001b[39m \u001b[39mint\u001b[39;49m(\u001b[39minput\u001b[39;49m())\n\u001b[0;32m      <a href='vscode-notebook-cell:/c%3A/Users/82105/Desktop/%EC%95%8C%EA%B3%A0%EB%A6%AC%EC%A6%98%20%EA%B8%B0%EC%B4%88/TIL/codeplus/brute_force.ipynb#W4sZmlsZQ%3D%3D?line=2'>3</a>\u001b[0m nlist \u001b[39m=\u001b[39m [\u001b[39mlist\u001b[39m(\u001b[39minput\u001b[39m()) \u001b[39mfor\u001b[39;00m _ \u001b[39min\u001b[39;00m \u001b[39mrange\u001b[39m(n)]\n\u001b[0;32m      <a href='vscode-notebook-cell:/c%3A/Users/82105/Desktop/%EC%95%8C%EA%B3%A0%EB%A6%AC%EC%A6%98%20%EA%B8%B0%EC%B4%88/TIL/codeplus/brute_force.ipynb#W4sZmlsZQ%3D%3D?line=3'>4</a>\u001b[0m \u001b[39m# print(nlist)\u001b[39;00m\n\u001b[0;32m      <a href='vscode-notebook-cell:/c%3A/Users/82105/Desktop/%EC%95%8C%EA%B3%A0%EB%A6%AC%EC%A6%98%20%EA%B8%B0%EC%B4%88/TIL/codeplus/brute_force.ipynb#W4sZmlsZQ%3D%3D?line=4'>5</a>\u001b[0m \u001b[39m# n = 4\u001b[39;00m\n\u001b[0;32m      <a href='vscode-notebook-cell:/c%3A/Users/82105/Desktop/%EC%95%8C%EA%B3%A0%EB%A6%AC%EC%A6%98%20%EA%B8%B0%EC%B4%88/TIL/codeplus/brute_force.ipynb#W4sZmlsZQ%3D%3D?line=5'>6</a>\u001b[0m \u001b[39m# nlist = [['p', 'p', 'p', 'p'], ['c', 'y', 'z', 'y'], ['c', 'c', 'p', 'y'], ['p', 'p', 'c', 'c']]\u001b[39;00m\n",
      "\u001b[1;31mValueError\u001b[0m: invalid literal for int() with base 10: ''"
     ]
    }
   ],
   "source": [
    "# 봄보니 게임\n",
    "n = int(input())\n",
    "nlist = [list(input()) for _ in range(n)]\n",
    "# print(nlist)\n",
    "# n = 4\n",
    "# nlist = [['p', 'p', 'p', 'p'], ['c', 'y', 'z', 'y'], ['c', 'c', 'p', 'y'], ['p', 'p', 'c', 'c']]\n",
    "\n",
    "def find_len(nlist,n):\n",
    "    maxrow =1\n",
    "    cntr = 1\n",
    "    maxcol =1\n",
    "    cntc = 1\n",
    "    for i in range(n):\n",
    "        tempr = 0\n",
    "        tempc = 0\n",
    "        for j in range(n):\n",
    "            if nlist[i][j] == tempr:\n",
    "                cntr += 1\n",
    "            else:\n",
    "                maxrow = max(cntr, maxrow)\n",
    "                cntr=1\n",
    "                tempr = nlist[i][j]\n",
    "            if nlist[j][i] == tempc:\n",
    "                cntc +=1\n",
    "            else:\n",
    "                maxcol = max(cntc, maxcol)\n",
    "                cntc = 1\n",
    "                tempc = nlist[j][i]\n",
    "            maxcol = max(cntc, maxcol)\n",
    "            maxrow = max(cntr, maxrow)\n",
    "    return max(maxcol,maxrow)\n",
    "\n",
    "\n",
    "# 오른쪽과 아래있는것과 교체 해보면 된다\n",
    "max_len = find_len(nlist,n)\n",
    "for i in range(n):\n",
    "    for j in range(n):\n",
    "        if i<n-1 and nlist[i][j] != nlist[i+1][j]:\n",
    "            nlist[i][j],nlist[i+1][j] = nlist[i+1][j], nlist[i][j]\n",
    "            max_len = max(max_len, find_len(nlist,n))\n",
    "            nlist[i][j],nlist[i+1][j] = nlist[i+1][j], nlist[i][j]\n",
    "            \n",
    "        if j<n-1 and nlist[i][j] != nlist[i][j+1]:\n",
    "            nlist[i][j], nlist[i][j+1] = nlist[i][j+1],nlist[i][j]\n",
    "            max_len = max(max_len, find_len(nlist,n))\n",
    "            nlist[i][j], nlist[i][j+1] = nlist[i][j+1],nlist[i][j]\n",
    "            \n",
    "print(max_len)\n",
    "            "
   ]
  },
  {
   "cell_type": "code",
   "execution_count": 5,
   "metadata": {},
   "outputs": [
    {
     "name": "stdout",
     "output_type": "stream",
     "text": [
      "5266\n"
     ]
    }
   ],
   "source": [
    "# 날짜계산\n",
    "# 1~15 , 1~ 28, 1~ 19\n",
    "e,s,m = map(int, input().split())\n",
    "\n",
    "a,b,c =1,1,1\n",
    "cnt = 1\n",
    "while True:\n",
    "    if a==e and b==s and c==m:\n",
    "        print(cnt)\n",
    "        break\n",
    "    else:\n",
    "        cnt += 1\n",
    "        a+=1\n",
    "        b+=1\n",
    "        c+=1\n",
    "    if a == 16:\n",
    "        a = 1\n",
    "    if b == 29:\n",
    "        b = 1\n",
    "    if c == 20:\n",
    "        c = 1\n"
   ]
  },
  {
   "cell_type": "code",
   "execution_count": 7,
   "metadata": {},
   "outputs": [
    {
     "name": "stdout",
     "output_type": "stream",
     "text": [
      "99 100 1\n",
      "1\n"
     ]
    }
   ],
   "source": [
    "# 리모컨"
   ]
  }
 ],
 "metadata": {
  "kernelspec": {
   "display_name": "Python 3",
   "language": "python",
   "name": "python3"
  },
  "language_info": {
   "codemirror_mode": {
    "name": "ipython",
    "version": 3
   },
   "file_extension": ".py",
   "mimetype": "text/x-python",
   "name": "python",
   "nbconvert_exporter": "python",
   "pygments_lexer": "ipython3",
   "version": "3.10.11"
  }
 },
 "nbformat": 4,
 "nbformat_minor": 2
}
