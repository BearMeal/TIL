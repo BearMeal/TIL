{
 "cells": [
  {
   "cell_type": "markdown",
   "metadata": {},
   "source": [
    "Kruskal  : 그리디 활용\n",
    "Topological sort : 큐 or 스택 활용\n",
    "Disjoint sets (서로소): 공통원소가 없는 서로다른 집합, 자료구조이다.\n",
    "=> (합집합, 찾기) 두 종류의 연산을 한다."
   ]
  },
  {
   "cell_type": "code",
   "execution_count": 8,
   "metadata": {},
   "outputs": [
    {
     "name": "stdout",
     "output_type": "stream",
     "text": [
      "[0, 1, 2, 3, 1, 5, 6]\n"
     ]
    },
    {
     "data": {
      "text/plain": [
       "5"
      ]
     },
     "execution_count": 8,
     "metadata": {},
     "output_type": "execute_result"
    }
   ],
   "source": [
    "# union-find 알고리즘 == disjoint set이라고도 함\n",
    "# 그래프의 노드(원소)를 그룹별로 나누는것\n",
    "# 합집합연산 =>합치기, \n",
    "# 찾기 연산 => 원소가 속한 그룹 찾기\n",
    "\n",
    "#find\n",
    "def find_parent(parent, x):\n",
    "    #루트노드가 아니라면 루트노드가 나올 때까지 재귀호출함\n",
    "    if parent[x] !=x:\n",
    "        parent[x] = find_parent(parent, parent[x])\n",
    "    return parent[x]\n",
    "\n",
    "#union \n",
    "def union_parent(parent, a,b):\n",
    "    a = find_parent(parent,a)\n",
    "    b = find_parent(parent,b)\n",
    "    if a < b :\n",
    "        parent[b] = a\n",
    "    else: \n",
    "        parent[a] = b\n",
    "        \n",
    "# vertexs and edges\n",
    "v, e = 6,4 \n",
    "# reset parent table => 부모노드를 자기자신으로\n",
    "parent = [i for i in range(v+1)]\n",
    "\n",
    "#[0, 1, 2, 3, 4, 5, 6]   \n",
    "\n",
    "a,b = 1,4\n",
    "# 두원소가 속한 집합을 합친다.\n",
    "union_parent(parent,a,b)\n",
    "print(parent)\n",
    "\n",
    "find_parent(parent,5)\n",
    "\n",
    "\n",
    "# cycle check\n",
    "cycle = False\n",
    "\n",
    "if find_parent(parent,a) == find_parent(parent,b):\n",
    "    cycle = True\n",
    "    print('cycle!')"
   ]
  },
  {
   "cell_type": "code",
   "execution_count": 13,
   "metadata": {},
   "outputs": [
    {
     "name": "stdout",
     "output_type": "stream",
     "text": [
      "[(7, 3, 4), (13, 4, 7), (23, 4, 6), (25, 6, 7), (29, 1, 2), (34, 2, 6), (35, 2, 3), (53, 5, 6), (75, 1, 5)]\n",
      "159\n"
     ]
    }
   ],
   "source": [
    "# spanning_tree\n",
    "# 모든 노드를 포함하면서 사이클을 만들지 않는 부분을 찾는 알고리즘\n",
    "# == 이 말은 트리의 성립조건과 동일하다. 그래서 신장트리라고 부른다.\n",
    "# kruskal 알고리즘 => spanning에서 가장 최소의비용으로 도시들을 연결하는법(사이클 없이)\n",
    "# == 최소 신장 알고리즘이라고 한다. \n",
    "\n",
    "# vertexs and edges\n",
    "v, e = 7,9 \n",
    "# reset parent table => 부모노드를 자기자신으로\n",
    "parent = [i for i in range(v+1)]\n",
    "\n",
    "#[0, 1, 2, 3, 4, 5, 6]   \n",
    "\n",
    "# 모든 간선을 담을 리스트와 최종 비용\n",
    "edges = [\n",
    "    (29,1,2), # cost, a ,b\n",
    "    (75,1,5),    \n",
    "    (35,2,3),\n",
    "    (34,2,6),\n",
    "    (7,3,4),\n",
    "    (23,4,6),\n",
    "    (13,4,7),\n",
    "    (53,5,6),\n",
    "    (25,6,7)\n",
    "]\n",
    "result = 0\n",
    "\n",
    "# cost 순으로 정렬\n",
    "edges.sort()\n",
    "\n",
    "print(edges)\n",
    "\n",
    "for edge in edges: \n",
    "    cost,a,b = edge\n",
    "    # 사이클이 발생하지 않을때만\n",
    "    if find_parent(parent, a) != find_parent(parent, b):\n",
    "        union_parent(parent, a, b)\n",
    "        result += cost\n",
    "        \n",
    "print(result)\n",
    "        "
   ]
  },
  {
   "cell_type": "code",
   "execution_count": 32,
   "metadata": {},
   "outputs": [
    {
     "name": "stdout",
     "output_type": "stream",
     "text": [
      "[0, 0, 1, 1, 2, 1, 2, 1]\n",
      "deque([1])\n",
      "1\n",
      "2\n",
      "5\n",
      "3\n",
      "6\n",
      "4\n",
      "7\n",
      "[1, 2, 5, 3, 6, 4, 7]\n"
     ]
    }
   ],
   "source": [
    "# topology_sort\n",
    "# 위상정렬: 방향그래프의 모든 노드는 방향성을 거스르지 않도록 순서대로 나열하는 것\n",
    "# 큐를 이용한다\n",
    "from collections import deque\n",
    "\n",
    "v,e = 7,8\n",
    "\n",
    "# 진입차수 0으로 초기화\n",
    "indegree = [0] * (v+1)\n",
    "graph = [\n",
    "    [],\n",
    "    [2,5],\n",
    "    [3,6],\n",
    "    [4],\n",
    "    [7],\n",
    "    [6],\n",
    "    [4],\n",
    "    []\n",
    "]\n",
    "for i in graph:\n",
    "    if len(i)!=0:\n",
    "        for j in i:\n",
    "            indegree[j] +=1\n",
    "print( indegree) # [0, 0, 1, 1, 2, 1, 2, 1]\n",
    "\n",
    "# 위상 정렬 함수\n",
    "def topology_sort():\n",
    "    result = []\n",
    "    q = deque()\n",
    "    \n",
    "    for i in range(1, v+1):\n",
    "        if indegree[i] == 0:\n",
    "            q.append(i)\n",
    "            print(q)\n",
    "            \n",
    "    while q: \n",
    "        now = q.popleft()\n",
    "        print(now)\n",
    "        result.append(now)\n",
    "        # 해당 원소와 연결된 노드에서 진입차수 1빼기\n",
    "        for i in graph[now]:\n",
    "            indegree[i] -= 1\n",
    "            # 새롭게 진입차수가 0이 되는 노드를 큐에 삽입\n",
    "            if indegree[i] ==0:\n",
    "                q.append(i)\n",
    "            \n",
    "    print(result)\n",
    "\n",
    "topology_sort()"
   ]
  }
 ],
 "metadata": {
  "kernelspec": {
   "display_name": "Python 3",
   "language": "python",
   "name": "python3"
  },
  "language_info": {
   "codemirror_mode": {
    "name": "ipython",
    "version": 3
   },
   "file_extension": ".py",
   "mimetype": "text/x-python",
   "name": "python",
   "nbconvert_exporter": "python",
   "pygments_lexer": "ipython3",
   "version": "3.10.11"
  },
  "orig_nbformat": 4
 },
 "nbformat": 4,
 "nbformat_minor": 2
}
