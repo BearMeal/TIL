{
 "cells": [
  {
   "cell_type": "markdown",
   "metadata": {},
   "source": [
    "# 코테 기초 수학"
   ]
  },
  {
   "cell_type": "code",
   "execution_count": 3,
   "metadata": {},
   "outputs": [
    {
     "name": "stdout",
     "output_type": "stream",
     "text": [
      "1\n",
      "0\n",
      "0\n",
      "0\n"
     ]
    }
   ],
   "source": [
    "# 나머지\n",
    "# 첫째 줄에 (A+B)%C, 둘째 줄에 ((A%C) + (B%C))%C, \n",
    "# 셋째 줄에 (A×B)%C, 넷째 줄에 ((A%C) × (B%C))%C를 출력\n",
    "\n",
    "a, b, c = map(int, input().split())\n",
    "\n",
    "print((a+b)%c)\n",
    "print(((a%c)+(b%c))%c)\n",
    "print((a*b)%c)\n",
    "print(((a%c)*(b%c))%c)\n",
    "\n"
   ]
  },
  {
   "cell_type": "code",
   "execution_count": 34,
   "metadata": {},
   "outputs": [
    {
     "name": "stdout",
     "output_type": "stream",
     "text": [
      "3\n",
      "6\n",
      "12\n"
     ]
    }
   ],
   "source": [
    "# 1 \n",
    "# 각 자릿수가 모두 1로만 이루어진 n의 배수 중 가장 작은 수의 자리수를 출력한다.\n",
    "import sys\n",
    "# input = sys.stdin.readline\n",
    "\n",
    "# 현재 숫자를 순회하며 1을 조회하면 시간이 너무많이걸린다\n",
    "# => 1, 11,111,1111,을 나눠보고 나머지가 없으면 넘어가는식으로 하면 빠르다 \n",
    "# sys.set_int_max_str_digits(100000)\n",
    "# while True:\n",
    "#     try:\n",
    "#         n = int(input())\n",
    "#     except ValueError:\n",
    "#         break\n",
    "#     a = n\n",
    "#     while True:\n",
    "#         # print(a)\n",
    "#         is_1 = 1\n",
    "#         for j in str(a):\n",
    "#             if int(j) != 1:\n",
    "#                 is_1 = 0\n",
    "#                 break\n",
    "#         if is_1:\n",
    "#             print(len(str(a)))\n",
    "#             # print(a)\n",
    "#             break\n",
    "#         a = (a+n)\n",
    "\n",
    "while True:\n",
    "    try:\n",
    "        n = int(input())\n",
    "    except:\n",
    "        break\n",
    "    \n",
    "    now = '1'\n",
    "    while True:\n",
    "        # 나머지가 0이면 배수이다\n",
    "        if int(now) % n == 0:\n",
    "            print(len(now))\n",
    "            break\n",
    "        now = now + '1'\n",
    "            \n",
    "            \n"
   ]
  },
  {
   "cell_type": "code",
   "execution_count": 46,
   "metadata": {},
   "outputs": [
    {
     "name": "stdout",
     "output_type": "stream",
     "text": [
      "24\n"
     ]
    }
   ],
   "source": [
    "# 약수\n",
    "# 들어오는 수들이 약수를 이루는 원래 수를 찾기\n",
    "# 최소 공배수? 구할때 최대 공약수와 최소 공배수를 곱하면 되는 원리? \n",
    "\n",
    "n = int(input()) #약수의 개수\n",
    "nlist = list(map(int, input().split()))\n",
    "\n",
    "# 배수를 찾아서 모두 검증 => 배수는 되지만 구하는수의 약수는 안될수도 있어서 틀렸음\n",
    "# test = 3\n",
    "# while True:\n",
    "#     is_dn = 1\n",
    "#     for i in nlist:\n",
    "#         if test % i != 0 or test == i:\n",
    "#             is_dn = 0\n",
    "#             break\n",
    "#     if is_dn:\n",
    "#         print(test)\n",
    "#         break\n",
    "#     test +=1\n",
    "\n",
    "# 최솟값과 최댓값을 구해서 곱하면 구하고자 하는 수가 나옴\n",
    "print(min(nlist) * max(nlist))\n",
    "            "
   ]
  },
  {
   "cell_type": "code",
   "execution_count": 51,
   "metadata": {},
   "outputs": [
    {
     "name": "stdout",
     "output_type": "stream",
     "text": [
      "27\n"
     ]
    }
   ],
   "source": [
    "# 약수의 합 2\n",
    "# 약수의 약수들의 합을 모두 더한다\n",
    "# f(x): 약수들의 합\n",
    "# g(x) = f(x)+f(x/2)+f(x/3)+... : 약수들의 약수들의 합\n",
    "\n",
    "# n의 배수는 n을 항상 약수로 가진다 \n",
    "# 따라서 n의 1~n 까지 나눈 몫을 구하면 개수를 구할수있따\n",
    "\n",
    "n = int(input())\n",
    " \n",
    "ans = 0\n",
    "for i in range(1, n+1):\n",
    "    ans += ((n//i)*i)\n",
    "\n",
    "print(ans)"
   ]
  }
 ],
 "metadata": {
  "kernelspec": {
   "display_name": "Python 3",
   "language": "python",
   "name": "python3"
  },
  "language_info": {
   "codemirror_mode": {
    "name": "ipython",
    "version": 3
   },
   "file_extension": ".py",
   "mimetype": "text/x-python",
   "name": "python",
   "nbconvert_exporter": "python",
   "pygments_lexer": "ipython3",
   "version": "3.11.5"
  }
 },
 "nbformat": 4,
 "nbformat_minor": 2
}
