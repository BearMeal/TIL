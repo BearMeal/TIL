{
 "cells": [
  {
   "cell_type": "code",
   "execution_count": 2,
   "metadata": {},
   "outputs": [
    {
     "name": "stdout",
     "output_type": "stream",
     "text": [
      "3 5 7 "
     ]
    }
   ],
   "source": [
    "# 홀수 출력\n",
    "a,b = map(int,input().split())\n",
    "\n",
    "def recur(a,b):\n",
    "    if a>b:\n",
    "        return\n",
    "    if a%2 ==1:\n",
    "        print(a,end=' ')\n",
    "    recur(a+1,b)\n",
    "    \n",
    "    \n",
    "recur(a,b)"
   ]
  },
  {
   "cell_type": "code",
   "execution_count": 12,
   "metadata": {},
   "outputs": [
    {
     "name": "stdout",
     "output_type": "stream",
     "text": [
      "5050\n"
     ]
    }
   ],
   "source": [
    "# 1~n까지 합\n",
    "import sys\n",
    "sys.setrecursionlimit(20000)\n",
    "n = int(input())\n",
    "def recur(start,n,n_sum):\n",
    "    if start ==n:\n",
    "        return print(n_sum+start)\n",
    "    recur(start+1,n,n_sum+start)\n",
    "recur(1,n,0)"
   ]
  },
  {
   "cell_type": "code",
   "execution_count": 2,
   "metadata": {},
   "outputs": [
    {
     "name": "stdout",
     "output_type": "stream",
     "text": [
      "120\n"
     ]
    }
   ],
   "source": [
    "# 팩토리얼 계산\n",
    "n = int(input())\n",
    "\n",
    "def fac(n):\n",
    "    if n == 1:\n",
    "        return 1\n",
    "    return n*fac(n-1)\n",
    "    \n",
    "print(fac(n))"
   ]
  },
  {
   "cell_type": "code",
   "execution_count": 15,
   "metadata": {},
   "outputs": [
    {
     "name": "stdout",
     "output_type": "stream",
     "text": [
      "13\n"
     ]
    }
   ],
   "source": [
    "# 피보나치 수열\n",
    "n = int(input())\n",
    "dp = [0]* 201\n",
    "\n",
    "def fibo(n):\n",
    "    if n<=2:\n",
    "        dp[n] = 1\n",
    "        return dp[n]\n",
    "    elif dp[n] !=0:\n",
    "        return dp[n]\n",
    "    \n",
    "    dp[n] = fibo(n-2) + fibo(n-1)\n",
    "    return dp[n]\n",
    "\n",
    "print(fibo(n)%10009)"
   ]
  },
  {
   "cell_type": "code",
   "execution_count": 36,
   "metadata": {},
   "outputs": [
    {
     "name": "stdout",
     "output_type": "stream",
     "text": [
      "0\n"
     ]
    }
   ],
   "source": [
    "# 이진수 변환\n",
    "n = int(input())\n",
    "\n",
    "result = ''\n",
    "def to_binary(n):\n",
    "    global result\n",
    "    result = str(n%2) + result\n",
    "    if n == 1:\n",
    "        return print(result)\n",
    "    elif n ==0:\n",
    "        return print(0)\n",
    "    to_binary(n//2)\n",
    "    \n",
    "to_binary(n)\n",
    "\n"
   ]
  },
  {
   "cell_type": "code",
   "execution_count": 71,
   "metadata": {},
   "outputs": [
    {
     "name": "stdout",
     "output_type": "stream",
     "text": [
      "0 7 0 0\n",
      "1 7 1 13\n",
      "2 7 2 14\n",
      "4 7 1 29\n",
      "5 7 2 58\n",
      "7 7 1 79\n",
      "6 7 1 58\n",
      "7 7 2 78\n",
      "3 7 1 14\n",
      "4 7 2 41\n",
      "6 7 1 70\n",
      "7 7 2 90\n",
      "5 7 1 41\n",
      "6 7 2 62\n",
      "7 7 1 62\n",
      "2 7 1 13\n",
      "3 7 2 28\n",
      "5 7 1 55\n",
      "6 7 2 76\n",
      "7 7 1 76\n",
      "4 7 1 28\n",
      "5 7 2 57\n",
      "7 7 1 78\n",
      "6 7 1 57\n",
      "7 7 2 77\n",
      "90\n"
     ]
    }
   ],
   "source": [
    "# 계단오르기\n",
    "# n = int(input())\n",
    "# points = [int(input()) for _ in range(n)]\n",
    "n= 7\n",
    "points = [13,1,15,27,29,21,20]  #96\n",
    "# n=16\n",
    "# points = [72,28,39,27,38,8,97,16,72,58,45,58,85,41,83,30]\n",
    "\n",
    "# 시작점제외 세개 이상 밟지말고 얻을수 있는 최대값\n",
    "max_point = 0\n",
    "\n",
    "def dfs(start,n,cnt,sum_point):\n",
    "    print(start,n,cnt,sum_point)\n",
    "    global max_point\n",
    "    global points\n",
    "    if start >= n  and cnt <3 :\n",
    "        max_point = max(max_point,sum_point)\n",
    "        return \n",
    "    if cnt == 2:\n",
    "        #무조건두칸\n",
    "        if start+2 <= n:\n",
    "            dfs(start+2,n,1,sum_point + points[start])\n",
    "        return\n",
    "    #1칸씩\n",
    "    if start+1 <= n: \n",
    "        dfs(start+1,n,cnt+1,sum_point + points[start])\n",
    "    #2칸\n",
    "    if start+2 <= n:\n",
    "        dfs(start+2,n,1,sum_point + points[start])\n",
    "\n",
    "dfs(0,n,0,0)\n",
    "\n",
    "print(max_point)\n",
    "    \n"
   ]
  }
 ],
 "metadata": {
  "kernelspec": {
   "display_name": "Python 3",
   "language": "python",
   "name": "python3"
  },
  "language_info": {
   "codemirror_mode": {
    "name": "ipython",
    "version": 3
   },
   "file_extension": ".py",
   "mimetype": "text/x-python",
   "name": "python",
   "nbconvert_exporter": "python",
   "pygments_lexer": "ipython3",
   "version": "3.10.11"
  },
  "orig_nbformat": 4
 },
 "nbformat": 4,
 "nbformat_minor": 2
}
