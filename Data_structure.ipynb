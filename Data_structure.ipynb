{
 "cells": [
  {
   "cell_type": "code",
   "execution_count": 1,
   "metadata": {},
   "outputs": [
    {
     "name": "stdout",
     "output_type": "stream",
     "text": [
      "[1, 2]\n"
     ]
    }
   ],
   "source": [
    "#Stack\n",
    "#후입 선출 LIFO\n",
    "# 재귀함수로 구현가능하다.\n",
    "\n",
    "a=[]\n",
    "a.append(1)\n",
    "a.append(2)\n",
    "a.append(3)\n",
    "a.pop()\n",
    "print(a)\n",
    "\n"
   ]
  },
  {
   "cell_type": "code",
   "execution_count": 6,
   "metadata": {},
   "outputs": [
    {
     "name": "stdout",
     "output_type": "stream",
     "text": [
      "deque([2, 3])\n"
     ]
    }
   ],
   "source": [
    "# Queue\n",
    "# 선입선출 FIFO\n",
    "\n",
    "from collections import deque\n",
    "\n",
    "a=deque([])\n",
    "a.append(1)\n",
    "a.append(2)\n",
    "a.append(3)\n",
    "a.popleft()\n",
    "\n",
    "print(a)"
   ]
  },
  {
   "cell_type": "code",
   "execution_count": 8,
   "metadata": {},
   "outputs": [
    {
     "name": "stdout",
     "output_type": "stream",
     "text": [
      "[2, 3, 4, 5]\n"
     ]
    }
   ],
   "source": [
    "# Priority Queue\n",
    "# 큐와 동일하나 우선순위별로 정렬되어 높은것이 먼저 나간다.\n",
    "# 튜플로 넣으면 (1,'응급환자') 이런식으로 활용할수있다\n",
    "\n",
    "import heapq\n",
    "\n",
    "a =[]\n",
    "\n",
    "heapq.heappush(a,5)\n",
    "heapq.heappush(a,2)\n",
    "heapq.heappush(a,1)\n",
    "heapq.heappush(a,3)\n",
    "heapq.heappush(a,4)\n",
    "heapq.heappop(a)\n",
    "\n",
    "print(a)\n"
   ]
  },
  {
   "cell_type": "code",
   "execution_count": null,
   "metadata": {},
   "outputs": [],
   "source": [
    "# Tree 구조, 부모노드는 하나만 있다.그래프의 일종\n",
    "# 자식노드는 여러개가 있을수 있다.계층형\n",
    "\n",
    "# Graph 구조 모든 노드가 모든노드와 연결되거나 연결이 없을수도있다.\n",
    "# 방향이 있을수도 있고 없어도된다. 네트워크형\n",
    "\n",
    "# Linked list : 연결 리스트, 동적할당이다. 파이썬의 리스트와 동일하다.\n",
    "\n",
    "# Hash : 키와 값의 쌍으로 이루어진 데이터 구조이다. 파이썬의 딕셔너리와 동일하다."
   ]
  }
 ],
 "metadata": {
  "kernelspec": {
   "display_name": "Python 3 (ipykernel)",
   "language": "python",
   "name": "python3"
  },
  "language_info": {
   "codemirror_mode": {
    "name": "ipython",
    "version": 3
   },
   "file_extension": ".py",
   "mimetype": "text/x-python",
   "name": "python",
   "nbconvert_exporter": "python",
   "pygments_lexer": "ipython3",
   "version": "3.10.11"
  }
 },
 "nbformat": 4,
 "nbformat_minor": 2
}
