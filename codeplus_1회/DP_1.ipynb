{
 "cells": [
  {
   "cell_type": "code",
   "execution_count": null,
   "metadata": {},
   "outputs": [],
   "source": [
    "# 1로 만들기\n",
    "n = int(input())\n",
    "\n",
    "# cnt 저장, 최솟값을 구하기위해 큰수로 초기화\n",
    "dp = [float('inf')]*(n+1)\n",
    "dp[1] = 0\n",
    "for i in range(2,n+1):\n",
    "    dp[i] = dp[i-1] + 1\n",
    "    if i % 2 == 0:\n",
    "        dp[i] = min(dp[i], dp[i//2] + 1)\n",
    "    if i % 3 == 0:\n",
    "        dp[i] = min(dp[i],dp[i//3] + 1)\n",
    "    # print(i, dp)\n",
    "print(dp[n])"
   ]
  },
  {
   "cell_type": "code",
   "execution_count": null,
   "metadata": {},
   "outputs": [
    {
     "name": "stdout",
     "output_type": "stream",
     "text": [
      "2\n"
     ]
    }
   ],
   "source": [
    "# 2xn 타일링\n",
    "n = int(input())\n",
    "\n",
    "if n==1:\n",
    "    print(1)\n",
    "else:\n",
    "    # 타일을 채우는 경우의수\n",
    "    dp = [0]*(n+1)\n",
    "    dp[1] = 1\n",
    "    dp[2] = 2\n",
    "    # 1,2,3,5,8\n",
    "    for i in range(3,n+1):\n",
    "        dp[i] = dp[i-1] +dp[i-2]\n",
    "\n",
    "    print(dp[n]%10007) \n",
    "\n"
   ]
  },
  {
   "cell_type": "code",
   "execution_count": null,
   "metadata": {},
   "outputs": [
    {
     "name": "stdout",
     "output_type": "stream",
     "text": [
      "3\n"
     ]
    }
   ],
   "source": [
    "# 타일링_2\n",
    "n = int(input())\n",
    "dp = [0]*(n+1)\n",
    "dp[1] = 1\n",
    "\n",
    "#1,3, 5, 11, 21\n",
    "if n>1:\n",
    "    dp[2] = 3\n",
    "    for i in range(3,n+1):\n",
    "        dp[i] = dp[i-1] + dp[i-2]*2\n",
    "\n",
    "print(dp[n]%10007)\n"
   ]
  },
  {
   "cell_type": "code",
   "execution_count": null,
   "metadata": {},
   "outputs": [
    {
     "name": "stdout",
     "output_type": "stream",
     "text": [
      "7\n",
      "44\n",
      "274\n"
     ]
    }
   ],
   "source": [
    "# 1,2,3 더하기\n",
    "t = int(input())\n",
    "dp = [0,1,2,4]+[0]*(10)\n",
    "\n",
    "#1,2,4,7,13,24,44 \n",
    "for i in range(4,12):\n",
    "    dp[i] = dp[i-1]+dp[i-2]+dp[i-3]\n",
    "for i in range(t):\n",
    "    print(dp[int(input())])\n"
   ]
  },
  {
   "cell_type": "code",
   "execution_count": null,
   "metadata": {},
   "outputs": [
    {
     "name": "stdout",
     "output_type": "stream",
     "text": [
      "2 1\n",
      "2 2\n",
      "3 1\n",
      "3 2\n",
      "3 3\n",
      "4 1\n",
      "4 2\n",
      "4 3\n",
      "4 4\n",
      "10\n"
     ]
    }
   ],
   "source": [
    "# 카드 구매하기\n",
    "\n",
    "# dp테이블과 인덱스를 맞추기위해 앞에 0원소 추가\n",
    "n = int(input())\n",
    "nlist =[0] + list(map(int,input().split()))\n",
    "\n",
    "\n",
    "dp =[0]*(n+1)\n",
    "dp[1] = nlist[1]\n",
    "\n",
    "for i in range(2,n+1):\n",
    "    for j in range(1,i+1):\n",
    "        # print(i,j)\n",
    "        # 가능한 경우를 조합 해본다\n",
    "        # ex) 세번째카드팩에서=> 2+1, 1+1+1, 3 \n",
    "        # 누적값으로 계산 되기 때문에 따로 1+1+1의 계산을 하지 않게 된다\n",
    "        if dp[i] > dp[i-j] + nlist[j]:\n",
    "            continue\n",
    "        else:\n",
    "            dp[i] =dp[i-j] + nlist[j]\n",
    "        \n",
    "\n",
    "# print(nlist)\n",
    "print(dp[-1])"
   ]
  },
  {
   "cell_type": "code",
   "execution_count": null,
   "metadata": {},
   "outputs": [
    {
     "name": "stdout",
     "output_type": "stream",
     "text": [
      "4\n"
     ]
    }
   ],
   "source": [
    "# 카드 구매하기2\n",
    "n = int(input())\n",
    "nlist = [0] + list(map(int,input().split()))\n",
    "\n",
    "# 최대값으로 초기화하고 최소값을 갱신한다\n",
    "dp = [float('inf')]*(n+1)\n",
    "dp[1] = nlist[1]\n",
    "\n",
    "# print(nlist)\n",
    "# i번째 카드팩에서 최소 가격\n",
    "for i in range(2,n+1):\n",
    "    # print(dp)\n",
    "    for j in range(1,i+1):\n",
    "        # print(i,j)\n",
    "        if nlist[i] < dp[i-j] + nlist[j]:\n",
    "            if dp[i] > nlist[i]: \n",
    "                dp[i] = nlist[i]\n",
    "        else:\n",
    "            if dp[i] > dp[i-j] + nlist[j]:\n",
    "                dp[i] = dp[i-j] + nlist[j]\n",
    "        # print(dp)\n",
    "print(dp[-1])\n"
   ]
  },
  {
   "cell_type": "code",
   "execution_count": null,
   "metadata": {},
   "outputs": [
    {
     "name": "stdout",
     "output_type": "stream",
     "text": [
      "3\n",
      "3\n",
      "9\n",
      "27\n"
     ]
    }
   ],
   "source": [
    "# 1,2,3 더하기 5\n",
    "\n",
    "t = int(input())\n",
    "nums = [int(input()) for _ in range(t)]\n",
    "n_sort = sorted(nums)\n",
    "\n",
    "#dp 테이블 초기화\n",
    "dp = [[0]*4 for _ in range(n_sort[-1]+1)]\n",
    "for i in [1,2,3]:\n",
    "    dp[i][i] = 1\n",
    "# print(dp)\n",
    "    \n",
    "for i in range(n_sort[-1]+1):\n",
    "    for j in range(1, 4):\n",
    "        # print(i, j)\n",
    "        #1 일때, 2,3을 사용\n",
    "        if j == 1 and i-j > 0:\n",
    "            dp[i][j] = dp[i-j][2] % 1_000_000_009+ dp[i-j][3]% 1_000_000_009\n",
    "        if j == 2 and i-j > 0:\n",
    "            dp[i][j] = dp[i-j][1] % 1_000_000_009+ dp[i-j][3]% 1_000_000_009\n",
    "        if j == 3 and i-j > 0:\n",
    "            dp[i][j] = dp[i-j][1]% 1_000_000_009+ dp[i-j][2]  % 1_000_000_009\n",
    "\n",
    "for n in nums:\n",
    "    print((dp[n][1] + dp[n][2] + dp[n][3]) % 1_000_000_009 )\n",
    "\n",
    "        "
   ]
  },
  {
   "cell_type": "code",
   "execution_count": null,
   "metadata": {},
   "outputs": [],
   "source": [
    "# 1,2,3 더하기 5 예전에 풀었던 방법\n",
    "\n",
    "t = int(input())\n",
    "\n",
    "# print(nlist)\n",
    "# 가장큰수를 기준으로해서 모든수를 포함하는 범위의 dp를 만든다\n",
    "# 0행0열은 패딩으로둔다 = 직관적인 코드 이해\n",
    "dp = [[0]*(4) for _ in range(100001)]\n",
    "dp[1] = [0,1,0,0]\n",
    "dp[2] = [0,0,1,0]\n",
    "dp[3] = [0,1,1,1]\n",
    "\n",
    "for i in range(4,100001):\n",
    "    #1로 계산이 끝나는 경우 n-1 행에의 2,3,으로 끝나는 경우의 수의 합이다\n",
    "    dp[i][1] = dp[i-1][2]%1000000009 + dp[i-1][3]%1000000009\n",
    "    dp[i][2] = dp[i-2][1]%1000000009 + dp[i-2][3]%1000000009\n",
    "    dp[i][3] = dp[i-3][1]%1000000009 + dp[i-3][2]%1000000009\n",
    "\n",
    "# for i in dp:\n",
    "#     print(i)\n",
    "\n",
    "nlist = [int(input()) for _ in range(t)]\n",
    "\n",
    "for n in nlist:\n",
    "    print(sum(dp[n])%1000000009)"
   ]
  },
  {
   "cell_type": "code",
   "execution_count": null,
   "metadata": {},
   "outputs": [
    {
     "name": "stdout",
     "output_type": "stream",
     "text": [
      "13\n"
     ]
    }
   ],
   "source": [
    "# 이친수\n",
    "# 0으로 시작 안됨, 11이 연속으로 안됨\n",
    "\n",
    "n = int(input())\n",
    "\n",
    "dp = [0 for _ in range(91)]\n",
    "\n",
    "dp[1] = 1\n",
    "\n",
    "for i in range(2,n+1):\n",
    "    dp[i] = dp[i-1] + dp[i-2]\n",
    "    \n",
    "print(dp[n])\n"
   ]
  },
  {
   "cell_type": "code",
   "execution_count": 51,
   "metadata": {},
   "outputs": [
    {
     "name": "stdout",
     "output_type": "stream",
     "text": [
      "2\n"
     ]
    }
   ],
   "source": [
    "# 제곱수의 합\n",
    "\n",
    "n = int(input())\n",
    "\n",
    "dp = [0]*100001\n",
    "dp[1] = 1\n",
    "\n",
    "\n",
    "for i in range(2, n+1):\n",
    "    if dp[i] != 0:\n",
    "        continue\n",
    "    # 제곱근이 정수면\n",
    "    if (i**0.5).is_integer():\n",
    "        dp[i] = 1\n",
    "        dp[i+1] = 2\n",
    "        continue\n",
    "    # 자기 보다 작은 제곱근을 가진 정수가 있는지\n",
    "    j = 1\n",
    "    temp = float('inf')\n",
    "    while i >= j**2:\n",
    "        temp = min(dp[i-(j**2)],temp)\n",
    "        j+=1\n",
    "    dp[i] = temp+1 \n",
    "\n",
    "    \n",
    "print(dp[n])\n",
    "# print(dp[:n+1])"
   ]
  },
  {
   "cell_type": "code",
   "execution_count": null,
   "metadata": {},
   "outputs": [
    {
     "data": {
      "text/plain": [
       "True"
      ]
     },
     "execution_count": 30,
     "metadata": {},
     "output_type": "execute_result"
    }
   ],
   "source": []
  }
 ],
 "metadata": {
  "kernelspec": {
   "display_name": "Python 3",
   "language": "python",
   "name": "python3"
  },
  "language_info": {
   "codemirror_mode": {
    "name": "ipython",
    "version": 3
   },
   "file_extension": ".py",
   "mimetype": "text/x-python",
   "name": "python",
   "nbconvert_exporter": "python",
   "pygments_lexer": "ipython3",
   "version": "3.10.11"
  }
 },
 "nbformat": 4,
 "nbformat_minor": 2
}
