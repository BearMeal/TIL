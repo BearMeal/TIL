{
 "cells": [
  {
   "cell_type": "code",
   "execution_count": 6,
   "metadata": {},
   "outputs": [
    {
     "name": "stdout",
     "output_type": "stream",
     "text": [
      "30\n"
     ]
    }
   ],
   "source": [
    "# 최소 공배수 \n",
    "n = int(input())\n",
    "# 6 10,  13 17\n",
    "for i in range(n):\n",
    "    res=0\n",
    "    a,b=map(int,input().split())\n",
    "    res = a*b\n",
    "    \n",
    "    # 최대공약수: a,b와 b, a/b의나머지 의 최대공약수는 동일하다\n",
    "    # == 유클리드 호제법\n",
    "    while b:\n",
    "        a ,b = b, a%b\n",
    "    # 최소 공배수: a*b를 최대공약수로 나눈 몫과 동일하다\n",
    "    res //=a\n",
    "    print(res)\n",
    "        \n",
    "    "
   ]
  },
  {
   "cell_type": "code",
   "execution_count": 112,
   "metadata": {},
   "outputs": [
    {
     "name": "stdout",
     "output_type": "stream",
     "text": [
      "1 2 3 4 5 6 7 8 9 10 \n",
      "3628800\n"
     ]
    }
   ],
   "source": [
    "# 팩토리얼\n",
    "n = int(input())\n",
    "result = 1\n",
    "for i in range(1,n+1):\n",
    "    print(i, end=' ')\n",
    "    result *=i\n",
    "print()\n",
    "print(result)\n",
    "result = list(str(result))[::-1]\n",
    "# print(list(result))\n",
    "cnt=0\n",
    "for i in result:\n",
    "    if i =='0':\n",
    "        cnt+=1\n",
    "    else:\n",
    "        break\n",
    "# print(cnt)"
   ]
  },
  {
   "cell_type": "code",
   "execution_count": 2,
   "metadata": {},
   "outputs": [
    {
     "name": "stdout",
     "output_type": "stream",
     "text": [
      "5\n",
      "1\n",
      "1\n"
     ]
    }
   ],
   "source": [
    "# 소인수 분해: 어떤수를 소수의 곱으로 나타내는것\n",
    "# 어떤 숫자에서 소수 5의 지수가 몇인지 알아내는 코드\n",
    "n = int(input())\n",
    "cnt = 0\n",
    "while n>0:\n",
    "    print(n)\n",
    "    cnt+=n//5   \n",
    "    n = n//5\n",
    "print(cnt)\n"
   ]
  },
  {
   "cell_type": "code",
   "execution_count": 8,
   "metadata": {},
   "outputs": [
    {
     "name": "stdout",
     "output_type": "stream",
     "text": [
      "2\n"
     ]
    }
   ],
   "source": [
    "# 조합의 0 개수  nCr구하기\n",
    "n,r = map(int,input().split())\n",
    "\n",
    "# 수에서 소인수의 갯수를 구한다 2,5의 짝이 0을 만들기 때문에 적은쪽의 지수를 출력\n",
    "def make0(n,factor):\n",
    "    cnt = 0\n",
    "    while n>0:\n",
    "        n = n//factor\n",
    "        cnt += n\n",
    "    return cnt\n",
    "\n",
    "res5 = make0(n,5) - make0(n-r,5) - make0(r,5)\n",
    "res2 = make0(n,2) - make0(n-r,2) - make0(r,2)\n",
    "print(min(res2,res5)) "
   ]
  }
 ],
 "metadata": {
  "kernelspec": {
   "display_name": "Python 3",
   "language": "python",
   "name": "python3"
  },
  "language_info": {
   "codemirror_mode": {
    "name": "ipython",
    "version": 3
   },
   "file_extension": ".py",
   "mimetype": "text/x-python",
   "name": "python",
   "nbconvert_exporter": "python",
   "pygments_lexer": "ipython3",
   "version": "3.10.11"
  }
 },
 "nbformat": 4,
 "nbformat_minor": 2
}
