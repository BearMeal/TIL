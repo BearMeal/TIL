{
 "cells": [
  {
   "cell_type": "code",
   "execution_count": 5,
   "metadata": {},
   "outputs": [
    {
     "data": {
      "text/plain": [
       "45"
      ]
     },
     "execution_count": 5,
     "metadata": {},
     "output_type": "execute_result"
    }
   ],
   "source": [
    "# 알고리즘의 수행시간1\n",
    "# 입력 n 이 아무리 커져도 알고리즘 수행시간이 일정하면 \n",
    "# O(1) 시간복잡도인, 상수시간이다.\n",
    "\n",
    "# ex) 상수시간O(1)일 경우 짝수 판별\n",
    "def is_even(n):\n",
    "    return n % 2 == 0\n",
    "is_even(4)\n",
    "# 입력의 크기와 상관없이 일정한 수행시간이 걸린다\n",
    "\n"
   ]
  },
  {
   "cell_type": "code",
   "execution_count": 23,
   "metadata": {},
   "outputs": [
    {
     "name": "stdout",
     "output_type": "stream",
     "text": [
      "5\n"
     ]
    },
    {
     "data": {
      "text/plain": [
       "34"
      ]
     },
     "execution_count": 23,
     "metadata": {},
     "output_type": "execute_result"
    }
   ],
   "source": [
    "# 알고리즘의 수행시간2\n",
    "# 선형시간O(n)일 경우, 최댓값 찾기\n",
    "def find_max(nums):\n",
    "    nmax = nums[0]\n",
    "    cnt=0\n",
    "    for n in nums:\n",
    "        if n > nmax:\n",
    "            nmax = n\n",
    "        cnt+=1\n",
    "    print(cnt)\n",
    "    return nmax\n",
    "find_max([5,3,5,11,34])\n",
    "# 모든 요소를 한번씩 확인하기 때문에 입력크기에 비례해서 증가한다\n"
   ]
  },
  {
   "cell_type": "code",
   "execution_count": 25,
   "metadata": {},
   "outputs": [
    {
     "name": "stdout",
     "output_type": "stream",
     "text": [
      "10\n"
     ]
    },
    {
     "data": {
      "text/plain": [
       "[2, 3, 3, 5, 6]"
      ]
     },
     "execution_count": 25,
     "metadata": {},
     "output_type": "execute_result"
    }
   ],
   "source": [
    "# 알고리즘의 수행시간3\n",
    "# 제곱시간, O(n^2)일 경우, ex)버블소트\n",
    "\n",
    "def bs(nums):\n",
    "    n = len(nums)\n",
    "    cnt=0\n",
    "    for i in range(n):\n",
    "        for j in range(0, n-i-1):\n",
    "            if nums[j] > nums[j+1]:\n",
    "                nums[j], nums[j+1] = nums[j+1], nums[j]\n",
    "            cnt+=1 \n",
    "    print(cnt)\n",
    "    return nums\n",
    "# 1,3,6,10,15\n",
    "# bs([3,2,3,6,5])\n",
    "# 입력크기가 늘때 제곱에 비례해서 시간이 증가한다\n",
    "\n",
    "print(int(input())**2)\n",
    "print(2)"
   ]
  },
  {
   "cell_type": "code",
   "execution_count": 48,
   "metadata": {},
   "outputs": [
    {
     "name": "stdout",
     "output_type": "stream",
     "text": [
      "21\n",
      "2\n"
     ]
    }
   ],
   "source": [
    "# 알고리즘의 수행시간4\n",
    "# 이중 반복문에서 외부루프와 내부루프의 수행시간이\n",
    "# 제곱에 비례한다\n",
    "# 내부루프의 반복횟수가 등차수열의 합으로 표현되기 때문에\n",
    "# 총실행횟수는 n(n-1) /2 가 된다\n",
    "n = int(input())\n",
    "print(n*(n-1) // 2)\n",
    "print(2)"
   ]
  },
  {
   "cell_type": "code",
   "execution_count": null,
   "metadata": {},
   "outputs": [],
   "source": [
    "# 알고리즘의 수행시간5\n",
    "# 삼중반복문에다가 내부루프에서 반복횟수가 동일하기 때문에 n^3에 비례한다\n",
    "# 실행횟수도 동일하다\n",
    "\n",
    "print(int(input())**3)\n",
    "print(3)"
   ]
  },
  {
   "cell_type": "code",
   "execution_count": 52,
   "metadata": {},
   "outputs": [
    {
     "name": "stdout",
     "output_type": "stream",
     "text": [
      "35\n",
      "3\n"
     ]
    }
   ],
   "source": [
    "# 알고리즘의 수행시간6\n",
    "# 삼중루프는 O(n^3)의 시간복잡도를 가지며\n",
    "# 해당 루프에서의 수행결과는 세개를 조합하는 nC3과 동일하다\n",
    "#따라서 수행횟수는 n(n-1)(n-2) // 6 이 된다\n",
    "\n",
    "n= int(input())\n",
    "print( (n*(n-1)*(n-2))// 6)\n",
    "print(3)"
   ]
  },
  {
   "cell_type": "code",
   "execution_count": 2,
   "metadata": {},
   "outputs": [
    {
     "name": "stdout",
     "output_type": "stream",
     "text": [
      "1\n"
     ]
    }
   ],
   "source": [
    "# 알고리즘- 점근적 표기1\n",
    "# 이 문제는 알고리즘 분석에 중요한 개념인 점근적 표기를 이해하고 적용하는것이 요점이다\n",
    "# 입력에따라 알고리즘 실행시간이나 필요한 공간이 대략적으로 나타내는 방법이다\n",
    "a1, a0 = map(int, input().split())\n",
    "c = int(input())\n",
    "n0 = int(input())\n",
    "\n",
    "res = 0\n",
    "for i in range(1, n0+1):\n",
    "    if (a1*i + a0) <= (c*i) and c >= a1:\n",
    "        res = 1\n",
    "        break\n",
    "\n",
    "print(res)\n"
   ]
  }
 ],
 "metadata": {
  "kernelspec": {
   "display_name": "Python 3",
   "language": "python",
   "name": "python3"
  },
  "language_info": {
   "codemirror_mode": {
    "name": "ipython",
    "version": 3
   },
   "file_extension": ".py",
   "mimetype": "text/x-python",
   "name": "python",
   "nbconvert_exporter": "python",
   "pygments_lexer": "ipython3",
   "version": "3.11.5"
  }
 },
 "nbformat": 4,
 "nbformat_minor": 2
}
