{
 "cells": [
  {
   "cell_type": "code",
   "execution_count": 8,
   "metadata": {},
   "outputs": [
    {
     "name": "stdout",
     "output_type": "stream",
     "text": [
      "2\n",
      "2\n",
      "1\n"
     ]
    },
    {
     "ename": "IndexError",
     "evalue": "list index out of range",
     "output_type": "error",
     "traceback": [
      "\u001b[1;31m---------------------------------------------------------------------------\u001b[0m",
      "\u001b[1;31mIndexError\u001b[0m                                Traceback (most recent call last)",
      "\u001b[1;32mc:\\Users\\82105\\Desktop\\알고리즘 기초\\TIL\\codeplus\\data_structure.ipynb 셀 1\u001b[0m line \u001b[0;36m7\n\u001b[0;32m      <a href='vscode-notebook-cell:/c%3A/Users/82105/Desktop/%EC%95%8C%EA%B3%A0%EB%A6%AC%EC%A6%98%20%EA%B8%B0%EC%B4%88/TIL/codeplus/data_structure.ipynb#W0sZmlsZQ%3D%3D?line=4'>5</a>\u001b[0m \u001b[39mfor\u001b[39;00m i \u001b[39min\u001b[39;00m \u001b[39mrange\u001b[39m(n):\n\u001b[0;32m      <a href='vscode-notebook-cell:/c%3A/Users/82105/Desktop/%EC%95%8C%EA%B3%A0%EB%A6%AC%EC%A6%98%20%EA%B8%B0%EC%B4%88/TIL/codeplus/data_structure.ipynb#W0sZmlsZQ%3D%3D?line=5'>6</a>\u001b[0m     order \u001b[39m=\u001b[39m \u001b[39mlist\u001b[39m(\u001b[39minput\u001b[39m()\u001b[39m.\u001b[39msplit())\n\u001b[1;32m----> <a href='vscode-notebook-cell:/c%3A/Users/82105/Desktop/%EC%95%8C%EA%B3%A0%EB%A6%AC%EC%A6%98%20%EA%B8%B0%EC%B4%88/TIL/codeplus/data_structure.ipynb#W0sZmlsZQ%3D%3D?line=6'>7</a>\u001b[0m     \u001b[39mif\u001b[39;00m order[\u001b[39m0\u001b[39;49m] \u001b[39m==\u001b[39m \u001b[39m'\u001b[39m\u001b[39mpush\u001b[39m\u001b[39m'\u001b[39m:\n\u001b[0;32m      <a href='vscode-notebook-cell:/c%3A/Users/82105/Desktop/%EC%95%8C%EA%B3%A0%EB%A6%AC%EC%A6%98%20%EA%B8%B0%EC%B4%88/TIL/codeplus/data_structure.ipynb#W0sZmlsZQ%3D%3D?line=7'>8</a>\u001b[0m         stack\u001b[39m.\u001b[39mappend(\u001b[39mint\u001b[39m(order[\u001b[39m1\u001b[39m]))\n\u001b[0;32m      <a href='vscode-notebook-cell:/c%3A/Users/82105/Desktop/%EC%95%8C%EA%B3%A0%EB%A6%AC%EC%A6%98%20%EA%B8%B0%EC%B4%88/TIL/codeplus/data_structure.ipynb#W0sZmlsZQ%3D%3D?line=8'>9</a>\u001b[0m     \u001b[39melif\u001b[39;00m order[\u001b[39m0\u001b[39m] \u001b[39m==\u001b[39m \u001b[39m'\u001b[39m\u001b[39mpop\u001b[39m\u001b[39m'\u001b[39m:\n",
      "\u001b[1;31mIndexError\u001b[0m: list index out of range"
     ]
    }
   ],
   "source": [
    "# 스택\n",
    "import sys\n",
    "input = sys.stdin.readline\n",
    "n= int(input())\n",
    "stack = []\n",
    "\n",
    "for i in range(n):\n",
    "    order = list(input().split())\n",
    "    if order[0] == 'push':\n",
    "        stack.append(int(order[1]))\n",
    "    elif order[0] == 'pop':\n",
    "        if len(stack)==0:\n",
    "            print(-1)\n",
    "        else:\n",
    "            print(stack.pop())\n",
    "    elif order[0] == 'size':\n",
    "        print(len(stack))\n",
    "    elif order[0] == 'empty':\n",
    "        if stack:\n",
    "            print(0)\n",
    "        else:\n",
    "            print(1)\n",
    "    elif order[0] == 'top':\n",
    "        if len(stack)==0:\n",
    "            print(-1)\n",
    "        else:\n",
    "            print(stack[-1])\n",
    "    \n",
    "    "
   ]
  },
  {
   "cell_type": "code",
   "execution_count": 21,
   "metadata": {},
   "outputs": [
    {
     "name": "stdout",
     "output_type": "stream",
     "text": [
      "[['I', 'am', 'happy', 'today']]\n"
     ]
    }
   ],
   "source": [
    "# 단어 뒤집기\n",
    "# I am happy today\n",
    "# We want to win the first prize\n",
    "\n",
    "n = int(input())\n",
    "words = [input().split() for i in range(n) ]\n",
    "# words =['hi my', 'name is']\n",
    "print(words)\n",
    "\n",
    "# for i in words:\n",
    "#     for j in i.split():\n",
    "#         print(j[::-1], end=' ')\n",
    "#     print()\n",
    "    "
   ]
  },
  {
   "cell_type": "code",
   "execution_count": 88,
   "metadata": {},
   "outputs": [
    {
     "name": "stdout",
     "output_type": "stream",
     "text": [
      "())\n",
      "NO\n",
      "())(()\n",
      "NO\n",
      "(())()\n",
      "YES\n"
     ]
    }
   ],
   "source": [
    "# 괄호\n",
    "n = int(input())\n",
    "nlist = [input() for i in range(n)]\n",
    "# nlist = ['())','())(()', '(())()'] # \n",
    "\n",
    "\n",
    "for i in nlist:\n",
    "    stack= []\n",
    "    temp = 0 \n",
    "    # print(i)\n",
    "    for j in i:\n",
    "        if j=='(':\n",
    "            stack.append(j)\n",
    "        elif j==')' :\n",
    "            if len(stack) == 0:\n",
    "                # print('NO')\n",
    "                temp = 1\n",
    "            else: \n",
    "                stack.pop()\n",
    "    # print(stack)\n",
    "    if temp == 1:\n",
    "        print('NO')\n",
    "        continue\n",
    "    elif stack:\n",
    "        print('NO')\n",
    "    elif  temp == 0 and not stack:\n",
    "        print('YES')\n",
    "\n",
    "            \n",
    "                     \n",
    "        \n",
    "# 틀린이유? 괄호의 짝 갯수는 맞는데 위치때문에 틀렸다.\n",
    "# => 어떻게 해결? 하나씩 짝을 찾아서 없애면될듯\n",
    "# => 스택을 활용해서 풀면된다고 한다.\n",
    "\n",
    "\n"
   ]
  },
  {
   "cell_type": "code",
   "execution_count": 150,
   "metadata": {},
   "outputs": [
    {
     "name": "stdout",
     "output_type": "stream",
     "text": [
      "+\n",
      "-\n"
     ]
    }
   ],
   "source": [
    "# 스택수열\n",
    "\n",
    "n= int(input())\n",
    "nums = [int(input()) for i in range(n)]\n",
    "nlist = [i for i in range(n,0,-1)]\n",
    "\n",
    "temp = []\n",
    "result = []\n",
    "# print(nums, nlist)\n",
    "i=0\n",
    "pplist=[]\n",
    "while int(i) < int(n):\n",
    "    \n",
    "    if not nlist and len(result)!=n and temp[-1] != nums[i]:\n",
    "        print('NO')\n",
    "        # print(pplist)\n",
    "        break\n",
    "    \n",
    "    # print(nums[i],nlist[-1])\n",
    "    # print(temp, nlist, result)\n",
    "    if temp and temp[-1] == nums[i]:\n",
    "        result.append(temp.pop())\n",
    "        pplist.append('-')\n",
    "        # print(temp, nlist, result)\n",
    "        i+=1\n",
    "    elif nums[i] != nlist[-1]:\n",
    "        temp.append(nlist.pop())\n",
    "        pplist.append('+')\n",
    "    elif nums[i] == nlist[-1]:\n",
    "        temp.append(nlist.pop())\n",
    "        pplist.append('+')\n",
    "        result.append(temp.pop())\n",
    "        pplist.append('-')\n",
    "        # print(temp, nlist, result)\n",
    "        i+=1\n",
    "    # print(temp, nlist, result) \n",
    "      \n",
    "    if len(result)==n:\n",
    "        for a in pplist:\n",
    "            print(a)\n",
    "\n"
   ]
  },
  {
   "cell_type": "code",
   "execution_count": 20,
   "metadata": {},
   "outputs": [
    {
     "name": "stdout",
     "output_type": "stream",
     "text": [
      "['a', 'b', 'c'] []\n",
      "['a', 'b'] ['c']\n",
      "['a'] ['c', 'b']\n",
      "[] ['c', 'b', 'a']\n",
      "[] ['c', 'b', 'a']\n",
      "[] ['c', 'b', 'a']\n",
      "['x'] ['c', 'b', 'a']\n",
      "[] ['c', 'b', 'a', 'x']\n",
      "[] ['c', 'b', 'a', 'x']\n",
      "yxabc"
     ]
    }
   ],
   "source": [
    "# 1406 에디터\n",
    "\n",
    "word = list(input())\n",
    "m = int(input()) \n",
    "cmd =[input().split() for i in range(m)]\n",
    "stack = []\n",
    "# print(cmd) #[['P', 'x'], ['L'], ['P', 'y']]\n",
    "\n",
    "for i in cmd:\n",
    "    # print(word, stack)\n",
    "    if i[0] == 'L' and word:\n",
    "        stack.append(word.pop())\n",
    "    elif i[0] == 'D' and stack:\n",
    "        word.append(stack.pop())\n",
    "    elif i[0] == 'B' and word:\n",
    "        word.pop()\n",
    "    elif i[0] == 'P':\n",
    "        word.append(i[1])\n",
    "if word:\n",
    "    for i in word:\n",
    "        print(i, end='')\n",
    "if stack:\n",
    "    for i in stack[::-1]:\n",
    "        print(i,end='')\n"
   ]
  },
  {
   "cell_type": "code",
   "execution_count": 23,
   "metadata": {},
   "outputs": [
    {
     "name": "stdout",
     "output_type": "stream",
     "text": [
      "1\n",
      "2\n",
      "2\n",
      "0\n",
      "-1\n",
      "0\n",
      "1\n",
      "-1\n",
      "0\n",
      "3\n"
     ]
    }
   ],
   "source": [
    "# 큐 구현\n",
    "n = int(input())\n",
    "cmd = [input().split() for i in range(n)]\n",
    "\n",
    "result=[ ] \n",
    "\n",
    "for i in cmd:\n",
    "    if i[0] =='push':\n",
    "        result.append(i[1])\n",
    "    if i[0] =='pop':\n",
    "        if result:\n",
    "            print(result.pop(0))\n",
    "        else:\n",
    "            print(-1)\n",
    "    if i[0] =='size':\n",
    "        print(len(result))\n",
    "    if i[0] =='empty':\n",
    "        if result:\n",
    "            print(0)\n",
    "        else:\n",
    "            print(1)\n",
    "    if i[0] =='front':\n",
    "        if result:\n",
    "            print(result[0])\n",
    "        else:\n",
    "            print(-1)\n",
    "    if i[0] =='back':\n",
    "        if result:\n",
    "            print(result[-1])\n",
    "        else:\n",
    "            print(-1)\n"
   ]
  },
  {
   "cell_type": "code",
   "execution_count": 92,
   "metadata": {},
   "outputs": [
    {
     "name": "stdout",
     "output_type": "stream",
     "text": [
      "deque([1, 2, 3, 4, 5])\n",
      "<5, 1, 3, 4, 2>\n"
     ]
    }
   ],
   "source": [
    "# 1158 요세푸스문제\n",
    "\n",
    "from collections import deque\n",
    "n,k = map(int, input().split())\n",
    "\n",
    "result = []\n",
    "q = deque([i for i in range(1,n+1)])\n",
    "# print(q)\n",
    "for i in range(n):\n",
    "    for j in range(k-1):\n",
    "        q.append(q.popleft())\n",
    "    result.append(str(q.popleft()))\n",
    "    \n",
    "        \n",
    "        \n",
    "# print(result)\n",
    "print('<'+', '.join(result)+'>')"
   ]
  },
  {
   "cell_type": "code",
   "execution_count": null,
   "metadata": {},
   "outputs": [],
   "source": [
    "# 덱(deque)  자료구조 구현\n",
    "\n",
    "n = int(input())\n",
    "cmd = [input().split() for _ in range(n)]\n",
    "dep = []\n",
    "for i in cmd:\n",
    "    if i[0] == 'push_front':\n",
    "        dep.insert(0, i[1])\n",
    "    elif i[0] == 'push_back':\n",
    "        dep.append(i[1])\n",
    "    elif i[0] == 'pop_front':\n",
    "        if dep:\n",
    "            print(dep.pop(0))\n",
    "        else:\n",
    "            print(-1)\n",
    "    elif i[0] == 'pop_back':\n",
    "        if dep:\n",
    "            print(dep.pop())\n",
    "        else:\n",
    "            print(-1)\n",
    "    elif i[0] == 'size':\n",
    "        print(len(dep))\n",
    "    elif i[0] == 'empty':\n",
    "        if dep:\n",
    "            print(0)\n",
    "        else:\n",
    "            print(1)\n",
    "    elif i[0] == 'front':\n",
    "        if dep:\n",
    "            print(dep[0])\n",
    "        else:\n",
    "            print(-1)\n",
    "    elif i[0] == 'back':\n",
    "        if dep:\n",
    "            print(dep[-1])\n",
    "        else:\n",
    "            print(-1)\n",
    "\n"
   ]
  },
  {
   "cell_type": "code",
   "execution_count": 90,
   "metadata": {},
   "outputs": [
    {
     "name": "stdout",
     "output_type": "stream",
     "text": [
      "<int><max>7463847412<long long><max>7085774586302733229\n"
     ]
    }
   ],
   "source": [
    "# 단어 뒤집기\n",
    "# 소괄호안은 그대로 나머지는 뒤집어서 순서는 그대로\n",
    "# <open>geat hdd<close>\n",
    "# <   space   >space space space<    spa   c e>\n",
    "# <int><max>2147483647<long long><max>9223372036854775807\n",
    "\n",
    "line = input()\n",
    "bracket_stack = []\n",
    "word_stack=''\n",
    "result=''\n",
    "for i in range(len(line)):\n",
    "    if line[i] =='<':\n",
    "        if word_stack:\n",
    "            # print(word_stack[::-1])\n",
    "            result+=word_stack[::-1]\n",
    "            word_stack=''\n",
    "        bracket_stack.append(i)\n",
    "    elif line[i] == '>':\n",
    "        a=bracket_stack.pop()\n",
    "        # print(line[a:i+1])\n",
    "        result+=line[a:i+1]\n",
    "    elif len(bracket_stack) == 0:\n",
    "        if line[i]!= ' ':\n",
    "            word_stack+=line[i]\n",
    "        elif line[i] == ' ':\n",
    "            # print(word_stack[::-1])\n",
    "            result+=word_stack[::-1]+' '\n",
    "            word_stack=''\n",
    "        # print(word_stack)\n",
    "# print(word_stack[::-1])\n",
    "result+=word_stack[::-1]\n",
    "\n",
    "print(result)\n",
    "\n",
    "\n"
   ]
  },
  {
   "cell_type": "code",
   "execution_count": 44,
   "metadata": {},
   "outputs": [
    {
     "name": "stdout",
     "output_type": "stream",
     "text": [
      "24\n"
     ]
    }
   ],
   "source": [
    "# 쇠막대기\n",
    "# ()(((()())(())()))(())\n",
    "# stack이 빈다면 분리되어있는 단위\n",
    "# 분리 시키고 또 쪼개질 수 있나?\n",
    "# 분리된거 안에서 레이저위치 인덱스 추출\n",
    "# 모든 레이저제외 다른괄호들 범위 구하기\n",
    "# 범위안에 레이저가 있으면 카운트 \n",
    "# 모든범위에대해 레이저 있는지 확인하고 카운트\n",
    "# 더좋은 방법이 떠오르지 않음 \n",
    "\n",
    "brackets = input()\n",
    "\n",
    "stack = []\n",
    "separated_indexes = [ ]\n",
    "for i in range(len(brackets)):\n",
    "    # print(stack)\n",
    "    if brackets[i] == '(':\n",
    "        stack.append(i)\n",
    "    elif brackets[i] == ')':\n",
    "        a= stack.pop()\n",
    "    if i!=0 and not stack:\n",
    "        # print('분리')\n",
    "        separated_indexes.append([a,i])\n",
    "# print(separated_indexes)\n",
    "\n",
    "separated = []\n",
    "for i in separated_indexes:\n",
    "    separated.append(brackets[i[0]:i[1]+1])\n",
    "# print(separated)\n",
    "\n",
    "\n",
    "result = 0\n",
    "for i in separated:\n",
    "    temp_stack=[]\n",
    "    temp_check =[]\n",
    "    raser_index =[]\n",
    "    for j in range(len(i)):\n",
    "        # print(temp_stack)\n",
    "        if i[j] =='(':\n",
    "            temp_stack.append(j)\n",
    "        elif i[j] ==')':\n",
    "            b= temp_stack.pop()\n",
    "            if i[j-1]=='(':\n",
    "                raser_index.append(j)\n",
    "            else:\n",
    "                temp_check.append([b,j])\n",
    "                     \n",
    "    # print(raser_index)    \n",
    "    # print(temp_check)\n",
    "    result+=len(temp_check)\n",
    "    for w in temp_check:\n",
    "        for r in raser_index:\n",
    "            if w[0]< r < w[1]:\n",
    "                result+=1\n",
    "    # print('next_sep')\n",
    "print(result)\n",
    "\n",
    "# 참고\n",
    "# import sys\n",
    "# input = sys.stdin.readline().strip()\n",
    "# laser = input.replace('()','X')\n",
    "# bar = []\n",
    "# total = []\n",
    "# for mark in laser:\n",
    "#     if mark == \"(\":\n",
    "#         bar.append(0)\n",
    "#     elif mark == \")\":\n",
    "#         popx = bar.pop()\n",
    "#         total.append(popx)\n",
    "#         if bar:\n",
    "#             bar[-1] += popx\n",
    "#     elif mark == \"X\":\n",
    "#         if len(bar) == 0:\n",
    "#             continue\n",
    "#         bar[-1] += 1\n",
    "# print(sum(total)+len(total))\n",
    "    \n",
    "    \n",
    "    "
   ]
  },
  {
   "cell_type": "code",
   "execution_count": 18,
   "metadata": {},
   "outputs": [
    {
     "name": "stdout",
     "output_type": "stream",
     "text": [
      "[-1, -1, -1, -1]\n",
      "[-1, -1, -1, -1]\n",
      "[5, -1, -1, -1]\n",
      "[5, -1, -1, -1]\n",
      "5 7 7 -1 "
     ]
    }
   ],
   "source": [
    "# 오큰수\n",
    "n = int(input())\n",
    "nlist = list(map(int,input().split()))\n",
    "# 원소의 오큰수에 해당하는 원소의 인덱스를 넣는다\n",
    "stack = []\n",
    "# 순회가 모두 끝나야 오큰수를 알수있따 따라서 초기값을 -1로 한다\n",
    "result= [-1 for i in range(n)]\n",
    "\n",
    "for i in range(n):\n",
    "    # print(result,stack)\n",
    "    # 스택에 원소가 존재하고, i번 원소가 스택에 있는 수보다 크면 result에 저장\n",
    "    while stack:\n",
    "        if nlist[i] > nlist[stack[-1]]:\n",
    "            # 결과는 원소값으로\n",
    "            result[stack.pop()] = nlist[i]\n",
    "        else:\n",
    "            break\n",
    "    # 인덱스를 스택에넣어 비교하므로 O(n)의 시간복잡도를 가질수있게한다\n",
    "    stack.append(i)\n",
    "\n",
    "for i in result:\n",
    "    print(i,end=' ')\n",
    "\n"
   ]
  },
  {
   "cell_type": "code",
   "execution_count": 30,
   "metadata": {},
   "outputs": [
    {
     "name": "stdout",
     "output_type": "stream",
     "text": [
      "-1 -1 1 2 2 1 -1\n"
     ]
    }
   ],
   "source": [
    "# 오등큰수\n",
    "# [1, 1, 2, 4, 3, 2, 1]\n",
    "# [-1, -1, -1, -1, -1, -1, -1]\n",
    "\n",
    "n = int(input())\n",
    "nlist = list(map(int,input().split()))\n",
    "# nlist=[1, 1, 2, 4, 3, 2, 1]\n",
    "# 오른쪽에 존재하면서 등장횟수가 더많은 수중에 가장 왼쪽 수\n",
    "stack=[]\n",
    "result= [-1 for i in range(n)]\n",
    "\n",
    "# 갯수를 미리 세어 놓는다 딕셔너리로\n",
    "cnt = {}\n",
    "for i in nlist:\n",
    "    if i not in cnt:\n",
    "        cnt[i] = 1\n",
    "    else:\n",
    "        cnt[i] += 1\n",
    "# print(cnt, cnt[1])\n",
    "\n",
    "for i in range(n):\n",
    "    while stack:\n",
    "        # i번째 수의 오등큰수가 큰지 확인\n",
    "        if cnt[nlist[i]] > cnt[nlist[stack[-1]]]:\n",
    "            result[stack.pop()] = nlist[i]\n",
    "        else:\n",
    "            break\n",
    "    stack.append(i)\n",
    "    \n",
    "print(' '.join(map(str,result)))"
   ]
  }
 ],
 "metadata": {
  "kernelspec": {
   "display_name": "Python 3",
   "language": "python",
   "name": "python3"
  },
  "language_info": {
   "codemirror_mode": {
    "name": "ipython",
    "version": 3
   },
   "file_extension": ".py",
   "mimetype": "text/x-python",
   "name": "python",
   "nbconvert_exporter": "python",
   "pygments_lexer": "ipython3",
   "version": "3.10.11"
  },
  "orig_nbformat": 4
 },
 "nbformat": 4,
 "nbformat_minor": 2
}
