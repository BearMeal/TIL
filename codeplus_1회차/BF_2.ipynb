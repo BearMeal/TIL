{
 "cells": [
  {
   "cell_type": "code",
   "execution_count": 17,
   "metadata": {},
   "outputs": [
    {
     "name": "stdout",
     "output_type": "stream",
     "text": [
      "1 2\n",
      "1 3\n",
      "1 4\n",
      "2 1\n",
      "2 3\n",
      "2 4\n",
      "3 1\n",
      "3 2\n",
      "3 4\n",
      "4 1\n",
      "4 2\n",
      "4 3\n"
     ]
    }
   ],
   "source": [
    "# N과 M (1)\n",
    "\n",
    "# n 까지의 수들로 m길이의 수열을 모두 출력력\n",
    "n,m = map(int,input().split())\n",
    "# n,m = 4,2\n",
    "\n",
    "def bt(n,m,lst):\n",
    "    if len(lst) ==m:\n",
    "        return print(' '.join(map(str,lst)))\n",
    "    for i in range(1, n+1):\n",
    "        if i not in lst:\n",
    "            lst.append(i)\n",
    "            bt(n,m,lst)\n",
    "            lst.pop()\n",
    "  \n",
    "bt(n,m,[])\n",
    "    \n"
   ]
  },
  {
   "cell_type": "code",
   "execution_count": 23,
   "metadata": {},
   "outputs": [
    {
     "name": "stdout",
     "output_type": "stream",
     "text": [
      "1 2\n",
      "1 3\n",
      "1 4\n",
      "2 3\n",
      "2 4\n",
      "3 4\n"
     ]
    }
   ],
   "source": [
    "# N과 M (2)\n",
    "# n까지의 수들로 m길이의 수열들을 중복없이 출력\n",
    "\n",
    "n,m = map(int, input().split())\n",
    "\n",
    "def bf(lst,n,m):\n",
    "    if len(lst) == m:\n",
    "        return print(' '.join(map(str,lst)))\n",
    "    for i in range(1,n+1):\n",
    "        # 리스트안의 원소보다 클때만 원소를 넣어 중복없이 만든다\n",
    "        # 단순 마지막원소를 비교하기 때문에 비효율이 발생한다. \n",
    "        if len(lst)==0 or lst[-1]<i:\n",
    "            lst.append(i)\n",
    "            bf(lst,n,m)\n",
    "            lst.pop()\n",
    "        \n",
    "bf([],n,m)\n"
   ]
  },
  {
   "cell_type": "code",
   "execution_count": 24,
   "metadata": {},
   "outputs": [
    {
     "name": "stdout",
     "output_type": "stream",
     "text": [
      "1 1\n",
      "1 2\n",
      "1 3\n",
      "1 4\n",
      "2 1\n",
      "2 2\n",
      "2 3\n",
      "2 4\n",
      "3 1\n",
      "3 2\n",
      "3 3\n",
      "3 4\n",
      "4 1\n",
      "4 2\n",
      "4 3\n",
      "4 4\n"
     ]
    }
   ],
   "source": [
    "# N과 M (3)\n",
    "# 원소의 중복을 허용해서 출력\n",
    "\n",
    "n, m = map(int,input().split())\n",
    "\n",
    "def bf(lst, n, m):\n",
    "    if len(lst)==m:\n",
    "        return print(' '.join(map(str,lst)))\n",
    "    for i in range(1, n+1):\n",
    "        lst.append(i)\n",
    "        bf(lst,n,m)\n",
    "        lst.pop()\n",
    "        \n",
    "bf([],n,m)\n"
   ]
  },
  {
   "cell_type": "code",
   "execution_count": 26,
   "metadata": {},
   "outputs": [
    {
     "name": "stdout",
     "output_type": "stream",
     "text": [
      "1 1\n",
      "1 2\n",
      "1 3\n",
      "1 4\n",
      "2 2\n",
      "2 3\n",
      "2 4\n",
      "3 3\n",
      "3 4\n",
      "4 4\n"
     ]
    }
   ],
   "source": [
    "# N과 M (4)\n",
    "# 원소의 중복을 허용하지만 오름차순의 조합이어야한다\n",
    "\n",
    "n,m = map(int,input().split())\n",
    "\n",
    "def bf(lst,n,m):\n",
    "    if len(lst) == m:\n",
    "        return print(' '.join(map(str,lst)))\n",
    "    for i in range(1,n+1):\n",
    "        # 답이되긴하나 마지막원소와 불필요한 비교가 들어간다.\n",
    "        # 즉, 브루트 포스의 취지와 일부 맞지 않은답이다\n",
    "        if len(lst) ==0 or lst[-1]<=i:\n",
    "            lst.append(i)\n",
    "            bf(lst,n,m)\n",
    "            lst.pop()\n",
    "\n",
    "bf([],n,m)\n"
   ]
  },
  {
   "cell_type": "code",
   "execution_count": 10,
   "metadata": {},
   "outputs": [
    {
     "name": "stdout",
     "output_type": "stream",
     "text": [
      "1231 1232 1233 1234\n",
      "1231 1232 1234 1233\n",
      "1231 1233 1232 1234\n",
      "1231 1233 1234 1232\n",
      "1231 1234 1232 1233\n",
      "1231 1234 1233 1232\n",
      "1232 1231 1233 1234\n",
      "1232 1231 1234 1233\n",
      "1232 1233 1231 1234\n",
      "1232 1233 1234 1231\n",
      "1232 1234 1231 1233\n",
      "1232 1234 1233 1231\n",
      "1233 1231 1232 1234\n",
      "1233 1231 1234 1232\n",
      "1233 1232 1231 1234\n",
      "1233 1232 1234 1231\n",
      "1233 1234 1231 1232\n",
      "1233 1234 1232 1231\n",
      "1234 1231 1232 1233\n",
      "1234 1231 1233 1232\n",
      "1234 1232 1231 1233\n",
      "1234 1232 1233 1231\n",
      "1234 1233 1231 1232\n",
      "1234 1233 1232 1231\n"
     ]
    }
   ],
   "source": [
    "# N과 M (5) \n",
    "# 주어진 n개의 수중에 m개를 뽑는 순열, 원소의 중복 x, 순서상관o\n",
    "\n",
    "n,m = map(int,input().split())\n",
    "nlist = sorted(list(map(int,input().split())))\n",
    "\n",
    "\n",
    "def bf(lst, n, m,nlist):\n",
    "    if len(lst) == m:\n",
    "        return print(' '.join(map(str,lst)))\n",
    "    for i in range(n):\n",
    "        # 순열에서 본인이 여러번 되는 경우는 제외\n",
    "        if nlist[i] not in lst: \n",
    "            lst.append(nlist[i])\n",
    "            bf(lst,n,m,nlist)\n",
    "            lst.pop()\n",
    "\n",
    "bf([],n,m,nlist)\n",
    "    \n"
   ]
  },
  {
   "cell_type": "code",
   "execution_count": 13,
   "metadata": {},
   "outputs": [
    {
     "name": "stdout",
     "output_type": "stream",
     "text": [
      "1 7\n",
      "1 8\n",
      "1 9\n",
      "7 8\n",
      "7 9\n",
      "8 9\n"
     ]
    }
   ],
   "source": [
    "# N과 M (6)\n",
    "# 중복되는 수열제외, 순서 상관 x\n",
    "\n",
    "n,m = map(int,input().split())\n",
    "nlist = sorted(list(map(int, input().split())))\n",
    "\n",
    "def bf(lst, nlist,n,m):\n",
    "    if len(lst) == m:\n",
    "        return print(' '.join(map(str,lst)))\n",
    "    for i in range(n):\n",
    "        if len(lst)==0 or lst[-1] < nlist[i]:\n",
    "            lst.append(nlist[i])\n",
    "            bf(lst,nlist,n,m)\n",
    "            lst.pop()\n",
    "            \n",
    "bf([],nlist,n,m)\n"
   ]
  },
  {
   "cell_type": "code",
   "execution_count": 14,
   "metadata": {},
   "outputs": [
    {
     "name": "stdout",
     "output_type": "stream",
     "text": [
      "1 1\n",
      "1 7\n",
      "1 8\n",
      "1 9\n",
      "7 1\n",
      "7 7\n",
      "7 8\n",
      "7 9\n",
      "8 1\n",
      "8 7\n",
      "8 8\n",
      "8 9\n",
      "9 1\n",
      "9 7\n",
      "9 8\n",
      "9 9\n"
     ]
    }
   ],
   "source": [
    "# N과 M (7)\n",
    "# 원소중복, 순서 상관x\n",
    "\n",
    "n,m = map(int,input().split())\n",
    "nlist = sorted(list(map(int,input().split())))\n",
    "\n",
    "def bf(lst,nlist,n,m):\n",
    "    if len(lst) ==m:\n",
    "        return print(' '.join(map(str,lst)))\n",
    "    for i in range(n):\n",
    "        lst.append(nlist[i])\n",
    "        bf(lst,nlist,n,m)\n",
    "        lst.pop()\n",
    "        \n",
    "bf([],nlist,n,m)\n"
   ]
  },
  {
   "cell_type": "code",
   "execution_count": 19,
   "metadata": {},
   "outputs": [
    {
     "name": "stdout",
     "output_type": "stream",
     "text": [
      "1 1\n",
      "1 7\n",
      "1 8\n",
      "1 9\n",
      "7 7\n",
      "7 8\n",
      "7 9\n",
      "8 8\n",
      "8 9\n",
      "9 9\n"
     ]
    }
   ],
   "source": [
    "# N과 M (8)\n",
    "# 원소중복o, 순서상관o \n",
    "\n",
    "n,m = map(int,input().split())\n",
    "nlist = sorted(list(map(int,input().split())))\n",
    "\n",
    "def bt(lst,nlist,n,m):\n",
    "    if len(lst)==m:\n",
    "        return print(' '.join(map(str,lst)))\n",
    "    for i in range(n):\n",
    "        if len(lst)==0 or lst[-1] <=nlist[i]:\n",
    "            lst.append(nlist[i])\n",
    "            bt(lst,nlist,n,m)\n",
    "            lst.pop()\n",
    "            \n",
    "bt([],nlist,n,m)\n"
   ]
  },
  {
   "cell_type": "code",
   "execution_count": 29,
   "metadata": {},
   "outputs": [
    {
     "name": "stdout",
     "output_type": "stream",
     "text": [
      "1 7\n",
      "1 9\n",
      "7 1\n",
      "7 9\n",
      "9 1\n",
      "9 7\n",
      "9 9\n"
     ]
    }
   ],
   "source": [
    "# N과 M (9)\n",
    "# 원소중복x, 순서상관x\n",
    "# 원소중복되어도, 없는 수열이라면 가능\n",
    "\n",
    "n,m = map(int,input().split())\n",
    "nlist = sorted(list(map(int,input().split())))\n",
    "visited = [0]*n\n",
    "\n",
    "def bt(lst,n,m):\n",
    "    # 존재하는 수열인지 검사\n",
    "    if len(lst) == m:\n",
    "        return print(' '.join(map(str,lst)))\n",
    "    \n",
    "    ex_element= 0\n",
    "    for i in range(n):\n",
    "        # 넣은 원소와 방문여부를 조회해서 동일원소라도 방문하지 않은 인덱스라면 수열 조합가능\n",
    "        # 거기서 이미 동일한 조합이 없다면(동일한 수열x) 조합 실행\n",
    "        if visited[i]==0 and ex_element != nlist[i]:\n",
    "            # print(lst, ex_element)\n",
    "            visited[i] = 1\n",
    "            lst.append(nlist[i])\n",
    "            ex_element = nlist[i]\n",
    "            bt(lst,n,m)\n",
    "            visited[i] = 0\n",
    "            lst.pop()\n",
    "      \n",
    "bt([],n,m)\n",
    "\n",
    "# 내가 찾은 답보다 이게 효율적인이유 \n",
    "# => 모든 조합의 낮은 레벨 부터 모든 경우를 비교한것과 동일수준의 경우에서의 경우를 비교하기 때문"
   ]
  },
  {
   "cell_type": "code",
   "execution_count": 49,
   "metadata": {},
   "outputs": [
    {
     "name": "stdout",
     "output_type": "stream",
     "text": [
      "1 7\n",
      "1 9\n",
      "7 9\n",
      "9 9\n"
     ]
    }
   ],
   "source": [
    "# N과 M (10)\n",
    "# 동일인덱스원소 중복x, 순서상관X\n",
    "# 중복 원소라도 없는 수열이면 가능\n",
    "\n",
    "n,m = map(int,input().split())\n",
    "nlist = sorted(list(map(int,input().split())))\n",
    "visited = [0]*(n+1)\n",
    "\n",
    "def bt(lst,n,m):\n",
    "    if len(lst) == m:\n",
    "        return print(' '.join(map(str,lst)))\n",
    "    \n",
    "    \n",
    "    ex_element = 0\n",
    "    for i in range(n):\n",
    "        if visited[i]==0 and ex_element != nlist[i]:\n",
    "            if len(lst)==0 or lst[-1] <= nlist[i]: \n",
    "                visited[i] = 1\n",
    "                lst.append(nlist[i])\n",
    "                ex_element= nlist[i]\n",
    "                bt(lst,n,m)\n",
    "                visited[i] = 0\n",
    "                lst.pop()\n",
    "    \n",
    "bt([],n,m)        \n"
   ]
  },
  {
   "cell_type": "code",
   "execution_count": 53,
   "metadata": {},
   "outputs": [
    {
     "name": "stdout",
     "output_type": "stream",
     "text": [
      "1 1\n",
      "1 7\n",
      "1 9\n",
      "7 1\n",
      "7 7\n",
      "7 9\n",
      "9 1\n",
      "9 7\n",
      "9 9\n"
     ]
    }
   ],
   "source": [
    "# N과 M (11)\n",
    "# 원소 중복o, 순서상관o \n",
    "\n",
    "n,m = map(int,input().split())\n",
    "nlist = sorted(list(map(int,input().split())))\n",
    "\n",
    "def bt(lst,n,m):\n",
    "    if len(lst) == m:\n",
    "        return print(' '.join(map(str,lst)))\n",
    "    \n",
    "    ex_element = 0\n",
    "    for i in range(n):\n",
    "        # 방문 여부를 조회하지않고 모든 경우로 돌리면 모든 조합 가능하다.\n",
    "        # 다만 동일 수열이 나오지않도록 체크 한다\n",
    "        if ex_element != nlist[i]:\n",
    "            lst.append(nlist[i])\n",
    "            ex_element = nlist[i]\n",
    "            bt(lst,n,m)\n",
    "            lst.pop() \n",
    "            \n",
    "bt([],n,m)"
   ]
  },
  {
   "cell_type": "code",
   "execution_count": 63,
   "metadata": {},
   "outputs": [
    {
     "name": "stdout",
     "output_type": "stream",
     "text": [
      "1 1\n",
      "1 7\n",
      "1 9\n",
      "7 7\n",
      "7 9\n",
      "9 9\n"
     ]
    }
   ],
   "source": [
    "# N과 M (12)\n",
    "# 원소중복o, 순서 상관x\n",
    "\n",
    "n,m = map(int,input().split())\n",
    "nlist =sorted(list(map(int,input().split())))\n",
    "\n",
    "def bt(lst,n,m):\n",
    "    if len(lst) == m:\n",
    "        return print(' '.join(map(str,lst)))\n",
    "    \n",
    "    ex_element = 0\n",
    "    for i in range(n):\n",
    "        if ex_element != nlist[i] :\n",
    "            if len(lst) ==0 or lst[-1] <= nlist[i]:\n",
    "                lst.append(nlist[i])\n",
    "                ex_element = nlist[i]\n",
    "                bt(lst,n,m)\n",
    "                lst.pop()\n",
    "        \n",
    "bt([],n,m)"
   ]
  }
 ],
 "metadata": {
  "kernelspec": {
   "display_name": "Python 3",
   "language": "python",
   "name": "python3"
  },
  "language_info": {
   "codemirror_mode": {
    "name": "ipython",
    "version": 3
   },
   "file_extension": ".py",
   "mimetype": "text/x-python",
   "name": "python",
   "nbconvert_exporter": "python",
   "pygments_lexer": "ipython3",
   "version": "3.10.11"
  }
 },
 "nbformat": 4,
 "nbformat_minor": 2
}
