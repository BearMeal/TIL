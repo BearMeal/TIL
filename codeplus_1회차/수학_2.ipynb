{
 "cells": [
  {
   "cell_type": "code",
   "execution_count": 22,
   "metadata": {},
   "outputs": [
    {
     "name": "stdout",
     "output_type": "stream",
     "text": [
      "70\n",
      "3\n",
      "35\n"
     ]
    }
   ],
   "source": [
    "# GCD의 합 \n",
    "\n",
    "t = int(input())\n",
    "for i in range(t):\n",
    "    cnt=0\n",
    "    nlist = list(map(int,input().split()))\n",
    "    for i in range(1, nlist[0]+1):\n",
    "        for j in range(i+1,nlist[0]+1):\n",
    "            # 호제법\n",
    "            a,b = nlist[i], nlist[j]\n",
    "            while b:\n",
    "                a,b = b, a%b\n",
    "            cnt += a\n",
    "    print(cnt)\n",
    "    "
   ]
  },
  {
   "cell_type": "code",
   "execution_count": 4,
   "metadata": {},
   "outputs": [
    {
     "name": "stdout",
     "output_type": "stream",
     "text": [
      "24\n"
     ]
    }
   ],
   "source": [
    "# 숨바꼭질6\n",
    "# 거리를 구해 최대공약수를 출력\n",
    "n,s = map(int,input().split())\n",
    "nlist = list(map(int,input().split()))\n",
    "\n",
    "# print(s, nlist)\n",
    "if n == 1:\n",
    "    print(abs(nlist[0]-s))\n",
    "else:\n",
    "    dlist = [0 for i in range(n)]\n",
    "    for i in range(n):\n",
    "        dlist[i] = abs(s-nlist[i])\n",
    "    stack =[]\n",
    "    # print(dlist)\n",
    "    result = float('inf')\n",
    "    for i in dlist:\n",
    "        while stack:\n",
    "            a= stack.pop()\n",
    "            b= i\n",
    "            while b:\n",
    "                a,b = b,a%b\n",
    "            result= min(result,a)\n",
    "        stack.append(i)\n",
    "    print(result)\n",
    "    \n",
    "        "
   ]
  },
  {
   "cell_type": "code",
   "execution_count": 2,
   "metadata": {},
   "outputs": [
    {
     "name": "stdout",
     "output_type": "stream",
     "text": [
      "314\n"
     ]
    }
   ],
   "source": [
    "n = input()\n",
    "# 11001100 8^x 인 8진수 로 바꾸어야하기에 2^x인 것들을 뒤에서 세자리씩 끊어서\n",
    "# 해당하는 8진수로 변환\n",
    "# n[:-3]\n",
    "nlist =[]\n",
    "while n:\n",
    "    if len(n[-3:]) ==2:\n",
    "        nlist.append('0'+n[-3:])\n",
    "    elif len(n[-3:]) ==1:\n",
    "        nlist.append('00'+n[-3:])\n",
    "    else:\n",
    "        nlist.append(n[-3:])\n",
    "    if len(n)>=3:\n",
    "        n= n[:-3]\n",
    "    else:\n",
    "        break\n",
    "    \n",
    "nlist.reverse()\n",
    "\n",
    "# print(nlist)\n",
    "result = ''\n",
    "for i in nlist:\n",
    "    temp = 0\n",
    "    if i[0]== '1':\n",
    "        temp+=4\n",
    "    if i[1]=='1':\n",
    "        temp+=2\n",
    "    if i[2]=='1':\n",
    "        temp+=1\n",
    "    result+= str(temp)\n",
    "    \n",
    "print(int(result))"
   ]
  },
  {
   "cell_type": "code",
   "execution_count": 16,
   "metadata": {},
   "outputs": [
    {
     "name": "stdout",
     "output_type": "stream",
     "text": [
      "['4', '1', '3']\n",
      "4\n",
      "1\n",
      "3\n"
     ]
    }
   ],
   "source": [
    "# 8진수를 이진수로\n",
    "\n",
    "# 내장함수 사용\n",
    "n = input()\n",
    "print(bin(int(n,8))[2:])\n",
    "\n",
    "        "
   ]
  },
  {
   "cell_type": "code",
   "execution_count": 76,
   "metadata": {},
   "outputs": [
    {
     "name": "stdout",
     "output_type": "stream",
     "text": [
      "0\n",
      "\n"
     ]
    },
    {
     "ename": "",
     "evalue": "",
     "output_type": "error",
     "traceback": [
      "\u001b[1;31m현재 셀 또는 이전 셀에서 코드를 실행하는 동안 Kernel이 충돌했습니다. 셀의 코드를 검토하여 오류의 가능한 원인을 식별하세요. 자세한 내용을 보려면 <a href='https://aka.ms/vscodeJupyterKernelCrash'> 여기 </a> 를 클릭하세요. 자세한 내용은 Jupyter <a href='command:jupyter.viewOutput'>로그</a>를 참조하세요."
     ]
    }
   ],
   "source": [
    "# 10진수 -2진수로\n",
    "n = int(input())\n",
    "result = ''\n",
    "if n==0:\n",
    "    print(0)\n",
    "    exit()\n",
    "while n:\n",
    "    # print(n%-2)\n",
    "    # 나머지가 -1일 경우 높은 2^x 가 요구된다. 따라서 몫에 1을 더해 계산 \n",
    "    if n%-2 == -1:\n",
    "        result+=str(abs(n%-2))\n",
    "        n = (n//-2)+1 \n",
    "        continue\n",
    "    result += str(n%-2)\n",
    "    n = n//-2\n",
    "print(result[::-1])"
   ]
  },
  {
   "cell_type": "code",
   "execution_count": 35,
   "metadata": {},
   "outputs": [
    {
     "name": "stdout",
     "output_type": "stream",
     "text": [
      "1\n",
      "2\n"
     ]
    }
   ],
   "source": [
    "# 골드바흐 파티션\n",
    "\n",
    "#소수 테이블\n",
    "n =1_000_000\n",
    "era_table = [True]*(n+2)\n",
    "era_table[0]=False\n",
    "era_table[1]=False\n",
    "for i in range(2,n+1):\n",
    "    if era_table[i]:\n",
    "        for j in range(i*2, n+1, i):\n",
    "            era_table[j] = False\n",
    "\n",
    "#입력\n",
    "t = int(input())\n",
    "for _ in range(t):\n",
    "    target = int(input())\n",
    "    cnt=0\n",
    "    # 에라토스테네스 테이블 안에서 소수인 인덱스로 계산하여 counting\n",
    "    for i in range(2,target//2+1):\n",
    "        is_prim = target-i\n",
    "        if era_table[is_prim] == True and era_table[i]:\n",
    "            # print(i ,is_prim)    \n",
    "            cnt +=1 \n",
    "    print(cnt)\n",
    "\n",
    "        \n",
    "\n"
   ]
  }
 ],
 "metadata": {
  "kernelspec": {
   "display_name": "Python 3",
   "language": "python",
   "name": "python3"
  },
  "language_info": {
   "codemirror_mode": {
    "name": "ipython",
    "version": 3
   },
   "file_extension": ".py",
   "mimetype": "text/x-python",
   "name": "python",
   "nbconvert_exporter": "python",
   "pygments_lexer": "ipython3",
   "version": "3.10.11"
  }
 },
 "nbformat": 4,
 "nbformat_minor": 2
}
