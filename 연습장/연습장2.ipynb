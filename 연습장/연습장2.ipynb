{
 "cells": [
  {
   "cell_type": "code",
   "execution_count": 3,
   "metadata": {},
   "outputs": [
    {
     "data": {
      "text/plain": [
       "[0, 1, 3, 3, 4, 5, 6, 6, 7, 8, 9]"
      ]
     },
     "execution_count": 3,
     "metadata": {},
     "output_type": "execute_result"
    }
   ],
   "source": [
    "# selection_sort\n",
    "arr = [7,5,9,0,3,1,6,4,8,3,6]\n",
    "\n",
    "for i in range(len(arr)):\n",
    "    min_index = i\n",
    "    for j in range(i+1, len(arr)):\n",
    "        if arr[j]< arr[min_index]:\n",
    "            min_index = j\n",
    "    arr[i], arr[min_index] = arr[min_index], arr[i]\n",
    "arr "
   ]
  },
  {
   "cell_type": "code",
   "execution_count": 6,
   "metadata": {},
   "outputs": [
    {
     "data": {
      "text/plain": [
       "[0, 1, 3, 3, 4, 5, 6, 6, 7, 8, 9]"
      ]
     },
     "execution_count": 6,
     "metadata": {},
     "output_type": "execute_result"
    }
   ],
   "source": [
    "# insertion_sort\n",
    "arr = [7,5,9,0,3,1,6,4,8,3,6]\n",
    "\n",
    "for i in range(1,len(arr)):\n",
    "    for j in range(i,0,-1):\n",
    "        if arr[j-1] > arr[j]:\n",
    "            arr[j-1],arr[j] = arr[j], arr[j-1]\n",
    "        else:\n",
    "            break\n",
    "arr"
   ]
  },
  {
   "cell_type": "code",
   "execution_count": 8,
   "metadata": {},
   "outputs": [
    {
     "data": {
      "text/plain": [
       "[2, 3, 3, 4, 5, 6, 6, 6, 7, 8, 8, 9]"
      ]
     },
     "execution_count": 8,
     "metadata": {},
     "output_type": "execute_result"
    }
   ],
   "source": [
    "# quick_sort \n",
    "arr = [6,8,3,9,8,4,6,2,6,5,7,3]\n",
    "\n",
    "def quick_sort(arr):\n",
    "    if len(arr) <=1:\n",
    "        return arr\n",
    "    pivot = arr[0]\n",
    "    tail = arr[1:]\n",
    "    left = [i for i in tail if i <= pivot]\n",
    "    right = [ i for i in tail if i> pivot]\n",
    "    return quick_sort(left) +[pivot] + quick_sort(right)\n",
    "\n",
    "quick_sort(arr)\n"
   ]
  },
  {
   "cell_type": "code",
   "execution_count": 8,
   "metadata": {},
   "outputs": [
    {
     "name": "stdout",
     "output_type": "stream",
     "text": [
      "0 0 2 3 3 4 5 6 6 6 7 8 8 9 "
     ]
    }
   ],
   "source": [
    "# counting_sort\n",
    "arr = [6,8,3,9,8,4,6,0,2,6,5,7,3,0]\n",
    "cnt  = [0] * (max(arr)+1)\n",
    "\n",
    "for i in arr:\n",
    "    cnt[i] += 1\n",
    "\n",
    "for i in range(len(cnt)):\n",
    "    for j in range(cnt[i]):\n",
    "        print(i, end=' ')"
   ]
  },
  {
   "cell_type": "code",
   "execution_count": 10,
   "metadata": {},
   "outputs": [
    {
     "name": "stdout",
     "output_type": "stream",
     "text": [
      "[2, 3, 3, 4, 5, 6, 6, 6, 7, 8, 8, 9]\n"
     ]
    },
    {
     "data": {
      "text/plain": [
       "8"
      ]
     },
     "execution_count": 10,
     "metadata": {},
     "output_type": "execute_result"
    }
   ],
   "source": [
    "# Binary Search : 이미 정렬 되어 있을 때만 가능하다\n",
    "\n",
    "# arr = [1,3,5,7,9,11,13,15,17,19]\n",
    "arr = [6,8,3,9,8,4,6,2,6,5,7,3]\n",
    "\n",
    "def selection_sort(arr):\n",
    "    for i in range(len(arr)):\n",
    "        min_index = i\n",
    "        for j in range(i+1,len(arr)):\n",
    "            if arr[min_index] > arr[j]:\n",
    "                min_index = j\n",
    "        if min_index != i:\n",
    "            arr[min_index], arr[i] = arr[i], arr[min_index]\n",
    "\n",
    "selection_sort(arr)\n",
    "print(arr)\n",
    "\n",
    "target = 7\n",
    "\n",
    "def binary_search(arr, target, start, end):\n",
    "    if start > end:\n",
    "        return None\n",
    "    \n",
    "    mid =(start+end) // 2\n",
    "    if arr[mid] == target:\n",
    "        return mid\n",
    "    elif arr[mid] > target:\n",
    "        return binary_search(arr, target, start, mid-1)\n",
    "    elif arr[mid] < target:\n",
    "        return binary_search(arr, target,mid+1, end)\n",
    "    \n",
    "binary_search(arr, target,0 , len(arr)-1 )\n",
    "        \n"
   ]
  },
  {
   "cell_type": "code",
   "execution_count": null,
   "metadata": {},
   "outputs": [],
   "source": []
  }
 ],
 "metadata": {
  "kernelspec": {
   "display_name": "Python 3",
   "language": "python",
   "name": "python3"
  },
  "language_info": {
   "codemirror_mode": {
    "name": "ipython",
    "version": 3
   },
   "file_extension": ".py",
   "mimetype": "text/x-python",
   "name": "python",
   "nbconvert_exporter": "python",
   "pygments_lexer": "ipython3",
   "version": "3.10.11"
  },
  "orig_nbformat": 4
 },
 "nbformat": 4,
 "nbformat_minor": 2
}
