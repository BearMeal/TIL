{
 "cells": [
  {
   "cell_type": "code",
   "execution_count": 5,
   "metadata": {},
   "outputs": [
    {
     "name": "stdout",
     "output_type": "stream",
     "text": [
      "1 2 7 6 8 3 4 5 "
     ]
    }
   ],
   "source": [
    "# dfs\n",
    "graph= [\n",
    "    [],\n",
    "    [2,3,8],\n",
    "    [1,7],\n",
    "    [1,4,5],\n",
    "    [3,5],\n",
    "    [3,4],\n",
    "    [7],\n",
    "    [2,6,8],\n",
    "    [1,7],\n",
    "]\n",
    "\n",
    "visited = [0] *len(graph)\n",
    "\n",
    "def dfs(graph,v, visited):\n",
    "    visited[v] = 1\n",
    "    print(v, end=' ')\n",
    "    for i in graph[v]:\n",
    "        if visited[i] ==0:\n",
    "            dfs(graph,i,visited)\n",
    "            \n",
    "dfs(graph,1,visited)\n"
   ]
  },
  {
   "cell_type": "code",
   "execution_count": 9,
   "metadata": {},
   "outputs": [
    {
     "name": "stdout",
     "output_type": "stream",
     "text": [
      "1 2 3 8 7 4 5 6 "
     ]
    }
   ],
   "source": [
    "# bfs\n",
    "graph= [\n",
    "    [],\n",
    "    [2,3,8],\n",
    "    [1,7],\n",
    "    [1,4,5],\n",
    "    [3,5],\n",
    "    [3,4],\n",
    "    [7],\n",
    "    [2,6,8],\n",
    "    [1,7],\n",
    "]\n",
    "\n",
    "from collections import deque\n",
    "\n",
    "visited = [0]*len(graph)\n",
    "\n",
    "def bfs(graph, start,visited):\n",
    "    visited[start] = 1\n",
    "    q = deque([start])\n",
    "    while q:\n",
    "        v = q.popleft()\n",
    "        print(v,end=' ')\n",
    "        for i in graph[v]:\n",
    "            if visited[i] ==0:\n",
    "                visited[i] = 1\n",
    "                q.append(i)\n",
    "                \n",
    "bfs(graph,1,visited) \n",
    "    \n",
    "\n",
    "        "
   ]
  },
  {
   "cell_type": "code",
   "execution_count": 6,
   "metadata": {},
   "outputs": [
    {
     "data": {
      "text/plain": [
       "218922995834555169026"
      ]
     },
     "execution_count": 6,
     "metadata": {},
     "output_type": "execute_result"
    }
   ],
   "source": [
    "# dp: top-down\n",
    "# 재귀적이라 시간 많이 잡아먹음\n",
    "\n",
    "dp = [0]*100\n",
    "\n",
    "def fibo(n):\n",
    "    if dp[n] !=0:\n",
    "        return dp[n]\n",
    "    elif n <=2:\n",
    "        return 1\n",
    "    \n",
    "    dp[n] = fibo(n-2) + fibo(n-1)\n",
    "    return dp[n]\n",
    "\n",
    "fibo(99)\n",
    "\n"
   ]
  },
  {
   "cell_type": "code",
   "execution_count": 8,
   "metadata": {},
   "outputs": [
    {
     "data": {
      "text/plain": [
       "218922995834555169026"
      ]
     },
     "execution_count": 8,
     "metadata": {},
     "output_type": "execute_result"
    }
   ],
   "source": [
    "# dp: bottom-up\n",
    "\n",
    "n= 99\n",
    "dp = [0] * 100\n",
    "\n",
    "dp[1] = 1 \n",
    "dp[2] = 1\n",
    "for i in range(3,n+1):\n",
    "    dp[i] = dp[i-1] + dp[i-2]\n",
    "\n",
    "dp[n]\n",
    "\n",
    "\n",
    "    "
   ]
  }
 ],
 "metadata": {
  "kernelspec": {
   "display_name": "Python 3",
   "language": "python",
   "name": "python3"
  },
  "language_info": {
   "codemirror_mode": {
    "name": "ipython",
    "version": 3
   },
   "file_extension": ".py",
   "mimetype": "text/x-python",
   "name": "python",
   "nbconvert_exporter": "python",
   "pygments_lexer": "ipython3",
   "version": "3.10.11"
  },
  "orig_nbformat": 4
 },
 "nbformat": 4,
 "nbformat_minor": 2
}
