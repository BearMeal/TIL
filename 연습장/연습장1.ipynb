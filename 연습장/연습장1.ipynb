{
 "cells": [
  {
   "cell_type": "code",
   "execution_count": 11,
   "metadata": {},
   "outputs": [
    {
     "name": "stdout",
     "output_type": "stream",
     "text": [
      "[3, 2, 1]\n",
      "[3, 2]\n",
      "deque([1, 2, 3])\n",
      "deque([2, 3])\n",
      "[(1, 'a'), (4, 'd'), (2, 'b')]\n",
      "[(2, 'b'), (4, 'd')]\n"
     ]
    }
   ],
   "source": [
    "# stack\n",
    "a = []\n",
    "for i in range(3,0,-1):\n",
    "    a.append(i)\n",
    "print(a)\n",
    "a.pop()\n",
    "print(a)\n",
    "\n",
    "# queue\n",
    "from collections import deque\n",
    "q = deque()\n",
    "q.append(1)\n",
    "q.append(2)\n",
    "q.append(3)\n",
    "print(q)\n",
    "q.popleft()\n",
    "print(q)\n",
    "\n",
    "# priority_queue\n",
    "import heapq\n",
    "\n",
    "q = []\n",
    "heapq.heappush(q, (4,'d'))\n",
    "heapq.heappush(q, (2,'b'))\n",
    "heapq.heappush(q, (1,'a'))\n",
    "print(q)\n",
    "heapq.heappop(q)\n",
    "print(q)\n",
    "\n"
   ]
  }
 ],
 "metadata": {
  "kernelspec": {
   "display_name": "Python 3",
   "language": "python",
   "name": "python3"
  },
  "language_info": {
   "codemirror_mode": {
    "name": "ipython",
    "version": 3
   },
   "file_extension": ".py",
   "mimetype": "text/x-python",
   "name": "python",
   "nbconvert_exporter": "python",
   "pygments_lexer": "ipython3",
   "version": "3.10.11"
  },
  "orig_nbformat": 4
 },
 "nbformat": 4,
 "nbformat_minor": 2
}
