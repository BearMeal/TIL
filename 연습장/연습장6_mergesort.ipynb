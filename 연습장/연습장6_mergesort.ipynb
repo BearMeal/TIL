{
 "cells": [
  {
   "cell_type": "code",
   "execution_count": 8,
   "metadata": {},
   "outputs": [
    {
     "name": "stdout",
     "output_type": "stream",
     "text": [
      "[0, 1, 2, 2, 3, 3, 5, 5, 6, 7, 8, 8]\n"
     ]
    }
   ],
   "source": [
    "def merge_sort(nlist):\n",
    "    if len(nlist) <= 1:\n",
    "        return\n",
    "    \n",
    "    mid = len(nlist)//2\n",
    "    left = nlist[:mid]\n",
    "    right = nlist[mid:]\n",
    "    \n",
    "    merge_sort(left)\n",
    "    merge_sort(right)\n",
    "    \n",
    "    i=j=k=0\n",
    "    while i<len(left) and j<len(right):\n",
    "        if left[i] < right[j]:\n",
    "            nlist[k] = left[i]\n",
    "            i+=1\n",
    "        else:\n",
    "            nlist[k] = right[j]\n",
    "            j+=1\n",
    "        k+=1\n",
    "        \n",
    "    while i<len(left):\n",
    "        nlist[k] = left[i]\n",
    "        i+=1\n",
    "        k+=1\n",
    "    \n",
    "    while j<len(right):\n",
    "        nlist[k] = right[j]\n",
    "        j+=1\n",
    "        k+=1\n",
    "nlist =[3,2,8,1,8,5,3,2,0,7,5,6]\n",
    "merge_sort(nlist)\n",
    "\n",
    "print(nlist)"
   ]
  },
  {
   "cell_type": "code",
   "execution_count": 5,
   "metadata": {},
   "outputs": [
    {
     "name": "stdout",
     "output_type": "stream",
     "text": [
      "[1, 2, 2, 3, 3, 3, 4, 5, 6, 7, 7, 9]\n"
     ]
    },
    {
     "data": {
      "text/plain": [
       "7"
      ]
     },
     "execution_count": 5,
     "metadata": {},
     "output_type": "execute_result"
    }
   ],
   "source": [
    "nlist = [3,1,5,7,2,6,9,3,3,2,4,7]  \n",
    "\n",
    "t = 5\n",
    "\n",
    "def merge_sort(nlist):\n",
    "    if len(nlist) <=1: \n",
    "        return\n",
    "    \n",
    "    mid = len(nlist) //2\n",
    "    left = nlist[:mid]\n",
    "    right = nlist[mid:]\n",
    "    \n",
    "    merge_sort(left)\n",
    "    merge_sort(right)\n",
    "    \n",
    "    i=j=k=0\n",
    "    while i<len(left) and j<len(right):\n",
    "        if left[i] < right[j]:\n",
    "            nlist[k] = left[i]\n",
    "            i+=1\n",
    "        else:\n",
    "            nlist[k] = right[j]\n",
    "            j+=1\n",
    "        k+=1\n",
    "        \n",
    "    while i<len(left):\n",
    "        nlist[k] = left[i]\n",
    "        i+=1\n",
    "        k+=1\n",
    "    \n",
    "    while j<len(right):\n",
    "        nlist[k] =right[j]\n",
    "        j+=1\n",
    "        k+=1\n",
    "        \n",
    "def binary_search(nlist,t,s,e):\n",
    "    if s>e:\n",
    "        return\n",
    "    \n",
    "    mid = (s+e) //2\n",
    "    \n",
    "    if nlist[mid] == t:\n",
    "        return mid\n",
    "    elif nlist[mid] > t:\n",
    "        return binary_search(nlist,t,s,mid-1)\n",
    "    else:\n",
    "        return binary_search(nlist,t,mid+1,e)\n",
    "    \n",
    "merge_sort(nlist)\n",
    "print(nlist)\n",
    "\n",
    "binary_search(nlist,t,0,len(nlist)-1)\n"
   ]
  },
  {
   "cell_type": "code",
   "execution_count": 8,
   "metadata": {},
   "outputs": [
    {
     "name": "stdout",
     "output_type": "stream",
     "text": [
      "4\n"
     ]
    }
   ],
   "source": [
    "def binary_search(nlist, target, start, end):\n",
    "    if start > end:\n",
    "        return 0\n",
    "    mid = (start+end)//2\n",
    "    \n",
    "    if nlist[mid] == target:\n",
    "        return mid\n",
    "    elif nlist[mid] < target:\n",
    "        return binary_search(nlist, target, mid+1, end)\n",
    "    elif nlist[mid] > target:\n",
    "        return binary_search(nlist, target, start, mid-1)\n",
    "    \n",
    "nlist = [1,3,3,5,7,8,8,8,9,10,11]\n",
    "\n",
    "print(binary_search(nlist, 7, 0, len(nlist)-1))"
   ]
  },
  {
   "cell_type": "code",
   "execution_count": 5,
   "metadata": {},
   "outputs": [
    {
     "name": "stdout",
     "output_type": "stream",
     "text": [
      "[0, 0, 1, 1, 0, 1, 0, 1, 0, 0, 0, 1, 0, 1, 0, 0, 0, 1, 0, 1]\n",
      "3\n",
      "45\n"
     ]
    }
   ],
   "source": [
    "# 소수판별: 에라토스테네스의체\n",
    "table = [1] * ((10**6)+1)\n",
    "table[0], table[1] = 0, 0\n",
    "\n",
    "for i in range(2,(10**6)+1):\n",
    "    if table[i]:\n",
    "        for j in range(i+i, (10**6)+1, i):\n",
    "            table[j] = 0\n",
    "print(table[:20])\n",
    "\n",
    "\n",
    "# 최소 공배수 LCM\n",
    "# 최대 공약수 GCD\n",
    "# 최대 공약수를 구하면 최소 공배수를 구할수 있다\n",
    "\n",
    "a, b = 15, 9\n",
    "temp = a*b\n",
    "\n",
    "while b:\n",
    "    a, b = b, a%b\n",
    "    \n",
    "print(a)\n",
    "print(temp//a)\n",
    "    \n"
   ]
  },
  {
   "cell_type": "code",
   "execution_count": 5,
   "metadata": {},
   "outputs": [
    {
     "name": "stdout",
     "output_type": "stream",
     "text": [
      "[1, 2, 2, 3, 3, 3, 4, 5, 6, 7, 7, 9]\n"
     ]
    },
    {
     "data": {
      "text/plain": [
       "2"
      ]
     },
     "execution_count": 5,
     "metadata": {},
     "output_type": "execute_result"
    }
   ],
   "source": [
    "# 문제: 정렬하고 7의 인덱스를 찾아라\n",
    "\n",
    "nlist = [3,1,5,7,2,6,9,3,3,2,4,7]  \n",
    "t = 7\n",
    "\n",
    "def ms(nlist):\n",
    "    if len(nlist) <=1:\n",
    "        return\n",
    "    \n",
    "    mid = len(nlist)//2 \n",
    "    left = nlist[:mid]\n",
    "    right = nlist[mid:]\n",
    "    \n",
    "    ms(left)\n",
    "    ms(right)\n",
    "    \n",
    "    i=j=k=0\n",
    "    \n",
    "    while i<len(left) and j<len(right):\n",
    "        if left[i]<right[j]:\n",
    "            nlist[k] = left[i]\n",
    "            i+=1\n",
    "        else:\n",
    "            nlist[k] = right[j]\n",
    "            j+=1\n",
    "        k+=1\n",
    "        \n",
    "    while i<len(left):\n",
    "        nlist[k] = left[i]\n",
    "        i+=1\n",
    "        k+=1 \n",
    "    \n",
    "    while j<len(right):\n",
    "        nlist[k] = right[j]\n",
    "        j+=1\n",
    "        k+=1\n",
    "        \n",
    "ms(nlist)\n",
    "print(nlist)\n",
    "\n",
    "def bs(nlist, target, start, end):\n",
    "    if start > end: \n",
    "        return\n",
    "    \n",
    "    mid = (start+end)//2\n",
    "    \n",
    "    if target == nlist[mid]:\n",
    "        return mid\n",
    "    elif target > nlist[mid]:\n",
    "        return bs(nlist, target, mid+1, end)\n",
    "    elif target < nlist[mid]:\n",
    "        return bs(nlist, target,start, mid-1)\n",
    "    \n",
    "bs(nlist, 2, 0, len(nlist)-1)\n",
    "\n",
    "\n",
    "\n",
    "    "
   ]
  }
 ],
 "metadata": {
  "kernelspec": {
   "display_name": "Python 3",
   "language": "python",
   "name": "python3"
  },
  "language_info": {
   "codemirror_mode": {
    "name": "ipython",
    "version": 3
   },
   "file_extension": ".py",
   "mimetype": "text/x-python",
   "name": "python",
   "nbconvert_exporter": "python",
   "pygments_lexer": "ipython3",
   "version": "3.11.5"
  }
 },
 "nbformat": 4,
 "nbformat_minor": 2
}
