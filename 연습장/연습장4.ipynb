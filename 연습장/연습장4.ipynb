{
 "cells": [
  {
   "cell_type": "code",
   "execution_count": 5,
   "metadata": {},
   "outputs": [
    {
     "name": "stdout",
     "output_type": "stream",
     "text": [
      "[inf, inf, inf, inf, inf, inf, inf]\n",
      "[inf, 0, 2, 3, 1, 2, 4]\n"
     ]
    }
   ],
   "source": [
    "# dijkstra : 우선순위큐, \n",
    "'''\n",
    "1. 최단거리 기록리스트 초기화\n",
    "2. 우선큐와 최단거리에 시작지점 0넣고 출발\n",
    "3. 우선큐에서 꺼내면서 다음 노드까지 거리계산 \n",
    "3. 계산한 거리가 기록보다 짧으면 재기록 및 우선큐에 삽입\n",
    "'''\n",
    "graph =[          #Adjacent List \n",
    "    [],\n",
    "    # 노드1에서 노드3 까지 5의 거리로 연결되어있음\n",
    "    [(2,2),(3,5),(4,1)],\n",
    "    [(3,3),(4,2)],\n",
    "    [(2,3),(6,5)],\n",
    "    [(3,3),(5,1)],\n",
    "    [(3,1),(6,2)],\n",
    "    [],\n",
    "]\n",
    "from heapq import heappush, heappop\n",
    "\n",
    "INF = float('inf')\n",
    "distance = [INF] * len(graph)\n",
    "print(distance)\n",
    "\n",
    "def dijkstra(start):\n",
    "    q = [(0,start)]\n",
    "    distance[start] =0\n",
    "    \n",
    "    while q:\n",
    "        dist, now = heappop(q)\n",
    "        if dist > distance[now]:\n",
    "            continue\n",
    "        for i in graph[now]:\n",
    "            cost = dist+ i[1]\n",
    "            if cost < distance[i[0]]:\n",
    "                distance[i[0]] = cost\n",
    "                heappush(q,(cost, i[0]))\n",
    "    print(distance)\n",
    "            \n",
    "dijkstra(1)\n",
    "\n",
    "\n"
   ]
  },
  {
   "cell_type": "code",
   "execution_count": 15,
   "metadata": {},
   "outputs": [
    {
     "name": "stdout",
     "output_type": "stream",
     "text": [
      "[0, 4, 8, 6]\n",
      "[3, 0, 7, 9]\n",
      "[5, 9, 0, 4]\n",
      "[7, 11, 2, 0]\n"
     ]
    }
   ],
   "source": [
    "# floyd-warshall\n",
    "'''\n",
    "1. i에서 j 까지 가는 거리에 k노드를 거쳐서가는것 중 더작은것을 인접행렬에 업뎃\n",
    "'''\n",
    "INF = float('inf')\n",
    "n = 4\n",
    "graph = [[INF]*(n+1) for i in range(n+1)]\n",
    "graph[1][2] =4\n",
    "graph[1][4] =6\n",
    "graph[2][1] =3\n",
    "graph[2][3] =7\n",
    "graph[3][1] =5\n",
    "graph[3][4] =4\n",
    "graph[4][3] =2\n",
    "for i in range(n+1):\n",
    "    for j in range(n+1):\n",
    "        if i == j:\n",
    "            graph[i][j] = 0\n",
    "\n",
    "for k in range(n+1):\n",
    "    for i in range(n+1):\n",
    "        for j in range(n+1):\n",
    "            graph[i][j] = min(graph[i][j], graph[i][k] + graph[k][j])\n",
    "\n",
    "for i in graph[1:]:\n",
    "    print(i[1:])\n",
    "\n"
   ]
  }
 ],
 "metadata": {
  "kernelspec": {
   "display_name": "Python 3",
   "language": "python",
   "name": "python3"
  },
  "language_info": {
   "codemirror_mode": {
    "name": "ipython",
    "version": 3
   },
   "file_extension": ".py",
   "mimetype": "text/x-python",
   "name": "python",
   "nbconvert_exporter": "python",
   "pygments_lexer": "ipython3",
   "version": "3.10.11"
  },
  "orig_nbformat": 4
 },
 "nbformat": 4,
 "nbformat_minor": 2
}
