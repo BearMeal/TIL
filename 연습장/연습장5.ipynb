{
 "cells": [
  {
   "cell_type": "code",
   "execution_count": 22,
   "metadata": {},
   "outputs": [
    {
     "name": "stdout",
     "output_type": "stream",
     "text": [
      "[0, 1, 2, 3, 1, 5, 6, 7]\n"
     ]
    }
   ],
   "source": [
    "# disjoint_set\n",
    "'''\n",
    "1. 부모노드기록리스트초기화\n",
    "'''\n",
    "v = 7 \n",
    "parent = [i for i in range(v+1)]\n",
    "\n",
    "def find_parent(parent,x):\n",
    "    if parent[x] != x:\n",
    "        find_parent(parent,parent[x])\n",
    "    return parent[x]\n",
    "\n",
    "def union_parent(parent, a,b):\n",
    "    a = find_parent(parent, a)\n",
    "    b = find_parent(parent, b)\n",
    "    if b> a:\n",
    "        parent[b] = a\n",
    "    else:\n",
    "        parent[a] = b\n",
    "    \n",
    "union_parent(parent, 1,4)\n",
    "print(parent)\n",
    "    \n",
    "# cycle 확인\n",
    "if find_parent(parent, 2) == find_parent(parent, 4):\n",
    "    print('cycle!')\n",
    "\n"
   ]
  },
  {
   "cell_type": "code",
   "execution_count": 23,
   "metadata": {},
   "outputs": [
    {
     "name": "stdout",
     "output_type": "stream",
     "text": [
      "125\n"
     ]
    }
   ],
   "source": [
    "# kruskal : spanning_tree\n",
    "# 최소의 거리비용으로 가능한 spanning_tree 만들기 = 크루스칼 알고리즘\n",
    "v=7\n",
    "# 모든 간선을 담을 리스트와 최종 비용\n",
    "edges = [\n",
    "    (29,1,2), # cost, a ,b\n",
    "    (75,1,5),    \n",
    "    (35,2,3),\n",
    "    (34,2,6),\n",
    "    (7,3,4),\n",
    "    (23,4,6),\n",
    "    (13,4,7),\n",
    "    (53,5,6),\n",
    "    (25,6,7)\n",
    "]\n",
    "'''\n",
    "0. 부모노드기록 리스트\n",
    "1. 간선 비용순으로 정렬\n",
    "2. 싸이클 없으면 합집합 연산 \n",
    "3. 결과에 비용 누적\n",
    "'''\n",
    "edges.sort()\n",
    "\n",
    "result =0\n",
    "\n",
    "for edge in edges:\n",
    "    cost, a, b = edge\n",
    "    if find_parent(parent, a) != find_parent(parent,b):\n",
    "        union_parent(parent, a, b)\n",
    "        result += cost\n",
    "        \n",
    "print(result)\n",
    "        \n",
    "\n",
    "\n"
   ]
  },
  {
   "cell_type": "code",
   "execution_count": 5,
   "metadata": {},
   "outputs": [
    {
     "name": "stdout",
     "output_type": "stream",
     "text": [
      "[0, 0, 1, 1, 2, 1, 2, 1]\n",
      "[1, 2, 5, 3, 6, 4, 7]\n"
     ]
    }
   ],
   "source": [
    "# topology_sort\n",
    "'''\n",
    "1. 진입차수 계산\n",
    "2. 진입차수 0이면서 숫자낮은 순서로 큐에 삽입\n",
    "3. 큐에서 뺀거 다시 연결된거 확인하면서 진입차수 -1하기 0인거 확인하면 큐에넣음\n",
    "'''\n",
    "v=7\n",
    "graph = [\n",
    "    [],\n",
    "    [2,5],\n",
    "    [3,6],\n",
    "    [4],\n",
    "    [7],\n",
    "    [6],\n",
    "    [4],\n",
    "    []\n",
    "]\n",
    "\n",
    "indegree = [0] *(v+1)\n",
    "\n",
    "for i in graph:\n",
    "    if i:\n",
    "        for j in i:\n",
    "            indegree[j] +=1\n",
    "\n",
    "print(indegree)\n",
    "\n",
    "from collections import deque\n",
    "\n",
    "def topology():\n",
    "    result =[]\n",
    "    q = deque()\n",
    "    for i in range(1,v+1):\n",
    "        if indegree[i] == 0:\n",
    "            q.append(i)\n",
    "    while q:\n",
    "        now = q.popleft()\n",
    "        result.append(now)\n",
    "        for i in graph[now]:\n",
    "            indegree[i] -= 1\n",
    "            if indegree[i] ==0:\n",
    "                q.append(i)\n",
    "    print(result)\n",
    "    \n",
    "topology()\n",
    "     \n"
   ]
  },
  {
   "cell_type": "code",
   "execution_count": null,
   "metadata": {},
   "outputs": [],
   "source": [
    " "
   ]
  }
 ],
 "metadata": {
  "kernelspec": {
   "display_name": "Python 3",
   "language": "python",
   "name": "python3"
  },
  "language_info": {
   "codemirror_mode": {
    "name": "ipython",
    "version": 3
   },
   "file_extension": ".py",
   "mimetype": "text/x-python",
   "name": "python",
   "nbconvert_exporter": "python",
   "pygments_lexer": "ipython3",
   "version": "3.10.11"
  },
  "orig_nbformat": 4
 },
 "nbformat": 4,
 "nbformat_minor": 2
}
