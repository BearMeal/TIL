{
 "cells": [
  {
   "cell_type": "code",
   "execution_count": 7,
   "metadata": {},
   "outputs": [
    {
     "name": "stdout",
     "output_type": "stream",
     "text": [
      "순열 nPr [('a', 'b'), ('a', 'c'), ('b', 'a'), ('b', 'c'), ('c', 'a'), ('c', 'b')]\n",
      "중복순열 [('a', 'a'), ('a', 'b'), ('a', 'c'), ('b', 'a'), ('b', 'b'), ('b', 'c'), ('c', 'a'), ('c', 'b'), ('c', 'c')]\n",
      "조합 nCr [('a', 'b'), ('a', 'c'), ('b', 'c')]\n",
      "중복조합 [('a', 'a'), ('a', 'b'), ('a', 'c'), ('b', 'b'), ('b', 'c'), ('c', 'c')]\n"
     ]
    }
   ],
   "source": [
    "from itertools import combinations, permutations,\\\n",
    "    product, combinations_with_replacement\n",
    "    \n",
    "data =['a','b','c']\n",
    "result = list(permutations(data, 2))\n",
    "print('순열 nPr', result)  # 순서가 상관있다.\n",
    "\n",
    "result = list(product(data, repeat=2))\n",
    "print('중복순열', result) #같은원소 중복으로 뽑으면서 순서가 상관있다.\n",
    "\n",
    "result= list(combinations(data, 2))\n",
    "print('조합 nCr',result) # 순서가 상관없다.\n",
    "\n",
    "result = list(combinations_with_replacement(data, 2))\n",
    "print('중복조합', result) # 같은원소 중복으로 뽑으면서도 순서 상관없다.\n"
   ]
  },
  {
   "cell_type": "code",
   "execution_count": 3,
   "metadata": {},
   "outputs": [
    {
     "name": "stdout",
     "output_type": "stream",
     "text": [
      "2\n",
      "4\n"
     ]
    }
   ],
   "source": [
    "from bisect import bisect_left, bisect_right\n",
    "a = [1,2,4,4,8]\n",
    "n = 4\n",
    "\n",
    "print(bisect_left(a, n))\n",
    "print(bisect_right(a, n))"
   ]
  },
  {
   "cell_type": "code",
   "execution_count": 8,
   "metadata": {},
   "outputs": [
    {
     "name": "stdout",
     "output_type": "stream",
     "text": [
      "3\n"
     ]
    },
    {
     "data": {
      "text/plain": [
       "3"
      ]
     },
     "execution_count": 8,
     "metadata": {},
     "output_type": "execute_result"
    }
   ],
   "source": [
    "from collections import Counter\n",
    "\n",
    "a = ['a','a','a','b','b','c']\n",
    "print(Counter(a)['a'])\n",
    "\n",
    "# 간단하게 이거써도됨\n",
    "a.count('a')"
   ]
  },
  {
   "cell_type": "code",
   "execution_count": 12,
   "metadata": {},
   "outputs": [
    {
     "name": "stdout",
     "output_type": "stream",
     "text": [
      "362880\n",
      "2.6457513110645907\n",
      "7\n"
     ]
    },
    {
     "ename": "",
     "evalue": "",
     "output_type": "error",
     "traceback": [
      "\u001b[1;31m현재 셀 또는 이전 셀에서 코드를 실행하는 동안 Kernel이 충돌했습니다. 셀의 코드를 검토하여 오류의 가능한 원인을 식별하세요. 자세한 내용을 보려면 <a href='https://aka.ms/vscodeJupyterKernelCrash'> 여기 </a> 를 클릭하세요. 자세한 내용은 Jupyter <a href='command:jupyter.viewOutput'>로그</a>를 참조하세요."
     ]
    }
   ],
   "source": [
    "import math\n",
    "print(math.factorial(9))\n",
    "\n",
    "print(math.sqrt(7)) # (7)**0.5, 루트 7, 또는 7의 1/2 승\n",
    "# 7 to the power of half\n",
    "\n",
    "print(math.gcd(21, 14))"
   ]
  }
 ],
 "metadata": {
  "kernelspec": {
   "display_name": "Python 3",
   "language": "python",
   "name": "python3"
  },
  "language_info": {
   "codemirror_mode": {
    "name": "ipython",
    "version": 3
   },
   "file_extension": ".py",
   "mimetype": "text/x-python",
   "name": "python",
   "nbconvert_exporter": "python",
   "pygments_lexer": "ipython3",
   "version": "3.10.11"
  },
  "orig_nbformat": 4
 },
 "nbformat": 4,
 "nbformat_minor": 2
}
