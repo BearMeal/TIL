{
 "cells": [
  {
   "cell_type": "code",
   "execution_count": 7,
   "metadata": {},
   "outputs": [
    {
     "name": "stdout",
     "output_type": "stream",
     "text": [
      "순열 nPr [('a', 'b'), ('a', 'c'), ('b', 'a'), ('b', 'c'), ('c', 'a'), ('c', 'b')]\n",
      "중복순열 [('a', 'a'), ('a', 'b'), ('a', 'c'), ('b', 'a'), ('b', 'b'), ('b', 'c'), ('c', 'a'), ('c', 'b'), ('c', 'c')]\n",
      "조합 nCr [('a', 'b'), ('a', 'c'), ('b', 'c')]\n",
      "중복조합 [('a', 'a'), ('a', 'b'), ('a', 'c'), ('b', 'b'), ('b', 'c'), ('c', 'c')]\n"
     ]
    }
   ],
   "source": [
    "from itertools import combinations, permutations,\\\n",
    "    product, combinations_with_replacement\n",
    "    \n",
    "data =['a','b','c']\n",
    "result = list(permutations(data, 2))\n",
    "print('순열 nPr', result)  # 순서가 상관있다.\n",
    "\n",
    "result = list(product(data, repeat=2))\n",
    "print('중복순열', result) #같은원소 중복으로 뽑으면서 순서가 상관있다.\n",
    "\n",
    "result= list(combinations(data, 2))\n",
    "print('조합 nCr',result) # 순서가 상관없다.\n",
    "\n",
    "result = list(combinations_with_replacement(data, 2))\n",
    "print('중복조합', result) # 같은원소 중복으로 뽑으면서도 순서 상관없다.\n"
   ]
  },
  {
   "cell_type": "code",
   "execution_count": 1,
   "metadata": {},
   "outputs": [
    {
     "name": "stdout",
     "output_type": "stream",
     "text": [
      "[[1, 2, 3], [1, 2, 4], [1, 2, 5], [1, 3, 4], [1, 3, 5], [1, 4, 5], [2, 3, 4], [2, 3, 5], [2, 4, 5], [3, 4, 5]]\n",
      "[0, 0, 0, 0, 0]\n",
      "[1, 2, 3, 4, 5]\n",
      "[1, 2, 3, 5, 4]\n",
      "[1, 2, 4, 3, 5]\n",
      "[1, 2, 4, 5, 3]\n",
      "[1, 2, 5, 3, 4]\n",
      "[1, 2, 5, 4, 3]\n",
      "[1, 3, 2, 4, 5]\n",
      "[1, 3, 2, 5, 4]\n",
      "[1, 3, 4, 2, 5]\n",
      "[1, 3, 4, 5, 2]\n",
      "[1, 3, 5, 2, 4]\n",
      "[1, 3, 5, 4, 2]\n",
      "[1, 4, 2, 3, 5]\n",
      "[1, 4, 2, 5, 3]\n",
      "[1, 4, 3, 2, 5]\n",
      "[1, 4, 3, 5, 2]\n",
      "[1, 4, 5, 2, 3]\n",
      "[1, 4, 5, 3, 2]\n",
      "[1, 5, 2, 3, 4]\n",
      "[1, 5, 2, 4, 3]\n",
      "[1, 5, 3, 2, 4]\n",
      "[1, 5, 3, 4, 2]\n",
      "[1, 5, 4, 2, 3]\n",
      "[1, 5, 4, 3, 2]\n",
      "[2, 1, 3, 4, 5]\n",
      "[2, 1, 3, 5, 4]\n",
      "[2, 1, 4, 3, 5]\n",
      "[2, 1, 4, 5, 3]\n",
      "[2, 1, 5, 3, 4]\n",
      "[2, 1, 5, 4, 3]\n",
      "[2, 3, 1, 4, 5]\n",
      "[2, 3, 1, 5, 4]\n",
      "[2, 3, 4, 1, 5]\n",
      "[2, 3, 4, 5, 1]\n",
      "[2, 3, 5, 1, 4]\n",
      "[2, 3, 5, 4, 1]\n",
      "[2, 4, 1, 3, 5]\n",
      "[2, 4, 1, 5, 3]\n",
      "[2, 4, 3, 1, 5]\n",
      "[2, 4, 3, 5, 1]\n",
      "[2, 4, 5, 1, 3]\n",
      "[2, 4, 5, 3, 1]\n",
      "[2, 5, 1, 3, 4]\n",
      "[2, 5, 1, 4, 3]\n",
      "[2, 5, 3, 1, 4]\n",
      "[2, 5, 3, 4, 1]\n",
      "[2, 5, 4, 1, 3]\n",
      "[2, 5, 4, 3, 1]\n",
      "[3, 1, 2, 4, 5]\n",
      "[3, 1, 2, 5, 4]\n",
      "[3, 1, 4, 2, 5]\n",
      "[3, 1, 4, 5, 2]\n",
      "[3, 1, 5, 2, 4]\n",
      "[3, 1, 5, 4, 2]\n",
      "[3, 2, 1, 4, 5]\n",
      "[3, 2, 1, 5, 4]\n",
      "[3, 2, 4, 1, 5]\n",
      "[3, 2, 4, 5, 1]\n",
      "[3, 2, 5, 1, 4]\n",
      "[3, 2, 5, 4, 1]\n",
      "[3, 4, 1, 2, 5]\n",
      "[3, 4, 1, 5, 2]\n",
      "[3, 4, 2, 1, 5]\n",
      "[3, 4, 2, 5, 1]\n",
      "[3, 4, 5, 1, 2]\n",
      "[3, 4, 5, 2, 1]\n",
      "[3, 5, 1, 2, 4]\n",
      "[3, 5, 1, 4, 2]\n",
      "[3, 5, 2, 1, 4]\n",
      "[3, 5, 2, 4, 1]\n",
      "[3, 5, 4, 1, 2]\n",
      "[3, 5, 4, 2, 1]\n",
      "[4, 1, 2, 3, 5]\n",
      "[4, 1, 2, 5, 3]\n",
      "[4, 1, 3, 2, 5]\n",
      "[4, 1, 3, 5, 2]\n",
      "[4, 1, 5, 2, 3]\n",
      "[4, 1, 5, 3, 2]\n",
      "[4, 2, 1, 3, 5]\n",
      "[4, 2, 1, 5, 3]\n",
      "[4, 2, 3, 1, 5]\n",
      "[4, 2, 3, 5, 1]\n",
      "[4, 2, 5, 1, 3]\n",
      "[4, 2, 5, 3, 1]\n",
      "[4, 3, 1, 2, 5]\n",
      "[4, 3, 1, 5, 2]\n",
      "[4, 3, 2, 1, 5]\n",
      "[4, 3, 2, 5, 1]\n",
      "[4, 3, 5, 1, 2]\n",
      "[4, 3, 5, 2, 1]\n",
      "[4, 5, 1, 2, 3]\n",
      "[4, 5, 1, 3, 2]\n",
      "[4, 5, 2, 1, 3]\n",
      "[4, 5, 2, 3, 1]\n",
      "[4, 5, 3, 1, 2]\n",
      "[4, 5, 3, 2, 1]\n",
      "[5, 1, 2, 3, 4]\n",
      "[5, 1, 2, 4, 3]\n",
      "[5, 1, 3, 2, 4]\n",
      "[5, 1, 3, 4, 2]\n",
      "[5, 1, 4, 2, 3]\n",
      "[5, 1, 4, 3, 2]\n",
      "[5, 2, 1, 3, 4]\n",
      "[5, 2, 1, 4, 3]\n",
      "[5, 2, 3, 1, 4]\n",
      "[5, 2, 3, 4, 1]\n",
      "[5, 2, 4, 1, 3]\n",
      "[5, 2, 4, 3, 1]\n",
      "[5, 3, 1, 2, 4]\n",
      "[5, 3, 1, 4, 2]\n",
      "[5, 3, 2, 1, 4]\n",
      "[5, 3, 2, 4, 1]\n",
      "[5, 3, 4, 1, 2]\n",
      "[5, 3, 4, 2, 1]\n",
      "[5, 4, 1, 2, 3]\n",
      "[5, 4, 1, 3, 2]\n",
      "[5, 4, 2, 1, 3]\n",
      "[5, 4, 2, 3, 1]\n",
      "[5, 4, 3, 1, 2]\n",
      "[5, 4, 3, 2, 1]\n",
      "[[1, 2, 3, 4, 5], [1, 2, 3, 4], [1, 2, 3, 5], [1, 2, 3], [1, 2, 4, 5], [1, 2, 4], [1, 2, 5], [1, 2], [1, 3, 4, 5], [1, 3, 4], [1, 3, 5], [1, 3], [1, 4, 5], [1, 4], [1, 5], [1], [2, 3, 4, 5], [2, 3, 4], [2, 3, 5], [2, 3], [2, 4, 5], [2, 4], [2, 5], [2], [3, 4, 5], [3, 4], [3, 5], [3], [4, 5], [4], [5], []]\n"
     ]
    }
   ],
   "source": [
    "# 구현하면 이렇게됨 \n",
    "nums = [1, 2, 3, 4, 5]\n",
    "answer_list = []\n",
    "\n",
    "def nCr(n, ans, r):\n",
    "    if n == len(nums):\n",
    "        if len(ans) == r:\n",
    "            temp = [i for i in ans]\n",
    "            answer_list.append(temp)\n",
    "        return\n",
    "    ans.append(nums[n])\n",
    "    nCr(n + 1, ans, r)\n",
    "    ans.pop()\n",
    "    nCr(n + 1, ans, r)\n",
    "\n",
    "nCr(0, [], 3)\n",
    "print(answer_list)\n",
    "\n",
    "###\n",
    "input_list = [1,2,3,4,5]\n",
    "used = [0]*len(input_list)\n",
    "\n",
    "print(used)\n",
    "\n",
    "def perm(arr, n):\n",
    "    if n == len(input_list):\n",
    "        print(arr)\n",
    "        return\n",
    "    for i in range(len(input_list)):\n",
    "        if not used[i]:\n",
    "            used[i] = 1\n",
    "            arr.append(input_list[i])\n",
    "            perm(arr, n+1)\n",
    "            arr.pop()\n",
    "            used[i] = 0\n",
    "\n",
    "perm([], 0)\n",
    "\n",
    "###\n",
    "nums = [1, 2, 3, 4, 5]\n",
    "\n",
    "answer_list = []\n",
    "\n",
    "def combi(n, ans):\n",
    "    if n == len(nums):\n",
    "        temp = [i for i in ans]\n",
    "        answer_list.append(temp)\n",
    "        return\n",
    "    ans.append(nums[n])\n",
    "    combi(n + 1, ans)\n",
    "    ans.pop()\n",
    "    combi(n + 1, ans)\n",
    "\n",
    "combi(0, [])\n",
    "print(answer_list)"
   ]
  },
  {
   "cell_type": "code",
   "execution_count": 3,
   "metadata": {},
   "outputs": [
    {
     "name": "stdout",
     "output_type": "stream",
     "text": [
      "2\n",
      "4\n"
     ]
    }
   ],
   "source": [
    "from bisect import bisect_left, bisect_right\n",
    "a = [1,2,4,4,8]\n",
    "n = 4\n",
    "\n",
    "print(bisect_left(a, n))\n",
    "print(bisect_right(a, n))"
   ]
  },
  {
   "cell_type": "code",
   "execution_count": 8,
   "metadata": {},
   "outputs": [
    {
     "name": "stdout",
     "output_type": "stream",
     "text": [
      "3\n"
     ]
    },
    {
     "data": {
      "text/plain": [
       "3"
      ]
     },
     "execution_count": 8,
     "metadata": {},
     "output_type": "execute_result"
    }
   ],
   "source": [
    "from collections import Counter\n",
    "\n",
    "a = ['a','a','a','b','b','c']\n",
    "print(Counter(a)['a'])\n",
    "\n",
    "# 간단하게 이거써도됨\n",
    "a.count('a')"
   ]
  },
  {
   "cell_type": "code",
   "execution_count": 12,
   "metadata": {},
   "outputs": [
    {
     "name": "stdout",
     "output_type": "stream",
     "text": [
      "362880\n",
      "2.6457513110645907\n",
      "7\n"
     ]
    },
    {
     "ename": "",
     "evalue": "",
     "output_type": "error",
     "traceback": [
      "\u001b[1;31m현재 셀 또는 이전 셀에서 코드를 실행하는 동안 Kernel이 충돌했습니다. 셀의 코드를 검토하여 오류의 가능한 원인을 식별하세요. 자세한 내용을 보려면 <a href='https://aka.ms/vscodeJupyterKernelCrash'> 여기 </a> 를 클릭하세요. 자세한 내용은 Jupyter <a href='command:jupyter.viewOutput'>로그</a>를 참조하세요."
     ]
    }
   ],
   "source": [
    "import math\n",
    "print(math.factorial(9))\n",
    "\n",
    "print(math.sqrt(7)) # (7)**0.5, 루트 7, 또는 7의 1/2 승\n",
    "# 7 to the power of half\n",
    "\n",
    "print(math.gcd(21, 14))"
   ]
  }
 ],
 "metadata": {
  "kernelspec": {
   "display_name": "Python 3",
   "language": "python",
   "name": "python3"
  },
  "language_info": {
   "codemirror_mode": {
    "name": "ipython",
    "version": 3
   },
   "file_extension": ".py",
   "mimetype": "text/x-python",
   "name": "python",
   "nbconvert_exporter": "python",
   "pygments_lexer": "ipython3",
   "version": "3.10.11"
  },
  "orig_nbformat": 4
 },
 "nbformat": 4,
 "nbformat_minor": 2
}
